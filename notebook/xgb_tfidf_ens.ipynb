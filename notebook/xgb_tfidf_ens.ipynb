{
 "cells": [
  {
   "cell_type": "markdown",
   "metadata": {},
   "source": [
    "# 基于tf－idf  LR/BernoulliNB/MultinomialNB 算法抽取特征 训练"
   ]
  },
  {
   "cell_type": "markdown",
   "metadata": {},
   "source": [
    "* tf-idf 方式文章-> 高纬稀疏向量 \n",
    "* 对高纬稀疏向量进行降维，使用LR/BernoulliNB/MultinomialNB stack方式抽取特征\n",
    "* 针对组合特征，使用xgboost进行多分类训练"
   ]
  },
  {
   "cell_type": "code",
   "execution_count": 1,
   "metadata": {},
   "outputs": [],
   "source": [
    "import sys\n",
    "\n",
    "sys.path.append(\"/Users/zhengwenjie/AI/work/ML_3/2017-CCF-BDCI-AIJudge\")\n",
    "\n",
    "import numpy as np\n",
    "import pandas as pd\n",
    "from gensim.models import Doc2Vec\n",
    "from utils import LOGGER\n",
    "from config.db_config import Config\n",
    "\n",
    "import warnings\n",
    "\n",
    "warnings.filterwarnings('ignore')\n",
    "config = Config()"
   ]
  },
  {
   "cell_type": "markdown",
   "metadata": {},
   "source": [
    "## 1. 加载特征&标签"
   ]
  },
  {
   "cell_type": "markdown",
   "metadata": {},
   "source": [
    "### 1.1 加载特征"
   ]
  },
  {
   "cell_type": "code",
   "execution_count": 2,
   "metadata": {},
   "outputs": [
    {
     "name": "stdout",
     "output_type": "stream",
     "text": [
      "(100, 8) (100, 8) (100, 8)\n"
     ]
    }
   ],
   "source": [
    "df_tfidf_lr = pd.read_csv(config.feat_tfidf_lr_prob)\n",
    "df_tfidf_bnb = pd.read_csv(config.feat_tfidf_bnb_prob)\n",
    "df_tfidf_mnb = pd.read_csv(config.feat_tfidf_mnb_prob)\n",
    "print(df_tfidf_lr.shape,df_tfidf_bnb.shape,df_tfidf_mnb.shape)"
   ]
  },
  {
   "cell_type": "code",
   "execution_count": 3,
   "metadata": {},
   "outputs": [
    {
     "data": {
      "text/html": [
       "<div>\n",
       "<style scoped>\n",
       "    .dataframe tbody tr th:only-of-type {\n",
       "        vertical-align: middle;\n",
       "    }\n",
       "\n",
       "    .dataframe tbody tr th {\n",
       "        vertical-align: top;\n",
       "    }\n",
       "\n",
       "    .dataframe thead th {\n",
       "        text-align: right;\n",
       "    }\n",
       "</style>\n",
       "<table border=\"1\" class=\"dataframe\">\n",
       "  <thead>\n",
       "    <tr style=\"text-align: right;\">\n",
       "      <th></th>\n",
       "      <th>tfidf_lr_0</th>\n",
       "      <th>tfidf_lr_1</th>\n",
       "      <th>tfidf_lr_2</th>\n",
       "      <th>tfidf_lr_3</th>\n",
       "      <th>tfidf_lr_4</th>\n",
       "      <th>tfidf_lr_5</th>\n",
       "      <th>tfidf_lr_6</th>\n",
       "      <th>tfidf_lr_7</th>\n",
       "    </tr>\n",
       "  </thead>\n",
       "  <tbody>\n",
       "    <tr>\n",
       "      <th>0</th>\n",
       "      <td>0.039598</td>\n",
       "      <td>0.036783</td>\n",
       "      <td>0.014341</td>\n",
       "      <td>0.003581</td>\n",
       "      <td>0.014108</td>\n",
       "      <td>0.010981</td>\n",
       "      <td>0.069892</td>\n",
       "      <td>0.010715</td>\n",
       "    </tr>\n",
       "    <tr>\n",
       "      <th>1</th>\n",
       "      <td>0.026864</td>\n",
       "      <td>0.029070</td>\n",
       "      <td>0.010598</td>\n",
       "      <td>0.002971</td>\n",
       "      <td>0.012282</td>\n",
       "      <td>0.006350</td>\n",
       "      <td>0.104891</td>\n",
       "      <td>0.006972</td>\n",
       "    </tr>\n",
       "  </tbody>\n",
       "</table>\n",
       "</div>"
      ],
      "text/plain": [
       "   tfidf_lr_0  tfidf_lr_1  tfidf_lr_2  tfidf_lr_3  tfidf_lr_4  tfidf_lr_5  \\\n",
       "0    0.039598    0.036783    0.014341    0.003581    0.014108    0.010981   \n",
       "1    0.026864    0.029070    0.010598    0.002971    0.012282    0.006350   \n",
       "\n",
       "   tfidf_lr_6  tfidf_lr_7  \n",
       "0    0.069892    0.010715  \n",
       "1    0.104891    0.006972  "
      ]
     },
     "execution_count": 3,
     "metadata": {},
     "output_type": "execute_result"
    }
   ],
   "source": [
    "df_tfidf_lr.head(2)"
   ]
  },
  {
   "cell_type": "code",
   "execution_count": 4,
   "metadata": {},
   "outputs": [
    {
     "data": {
      "text/html": [
       "<div>\n",
       "<style scoped>\n",
       "    .dataframe tbody tr th:only-of-type {\n",
       "        vertical-align: middle;\n",
       "    }\n",
       "\n",
       "    .dataframe tbody tr th {\n",
       "        vertical-align: top;\n",
       "    }\n",
       "\n",
       "    .dataframe thead th {\n",
       "        text-align: right;\n",
       "    }\n",
       "</style>\n",
       "<table border=\"1\" class=\"dataframe\">\n",
       "  <thead>\n",
       "    <tr style=\"text-align: right;\">\n",
       "      <th></th>\n",
       "      <th>tfidf_bnb_0</th>\n",
       "      <th>tfidf_bnb_1</th>\n",
       "      <th>tfidf_bnb_2</th>\n",
       "      <th>tfidf_bnb_3</th>\n",
       "      <th>tfidf_bnb_4</th>\n",
       "      <th>tfidf_bnb_5</th>\n",
       "      <th>tfidf_bnb_6</th>\n",
       "      <th>tfidf_bnb_7</th>\n",
       "    </tr>\n",
       "  </thead>\n",
       "  <tbody>\n",
       "    <tr>\n",
       "      <th>0</th>\n",
       "      <td>3.798501e-18</td>\n",
       "      <td>2.231955e-21</td>\n",
       "      <td>2.697699e-33</td>\n",
       "      <td>9.408594e-79</td>\n",
       "      <td>1.874799e-36</td>\n",
       "      <td>1.055956e-37</td>\n",
       "      <td>0.2</td>\n",
       "      <td>3.589278e-47</td>\n",
       "    </tr>\n",
       "    <tr>\n",
       "      <th>1</th>\n",
       "      <td>5.750392e-22</td>\n",
       "      <td>9.352165e-21</td>\n",
       "      <td>2.369561e-37</td>\n",
       "      <td>5.416003e-83</td>\n",
       "      <td>3.293510e-40</td>\n",
       "      <td>2.992593e-56</td>\n",
       "      <td>0.2</td>\n",
       "      <td>1.064033e-55</td>\n",
       "    </tr>\n",
       "  </tbody>\n",
       "</table>\n",
       "</div>"
      ],
      "text/plain": [
       "    tfidf_bnb_0   tfidf_bnb_1   tfidf_bnb_2   tfidf_bnb_3   tfidf_bnb_4  \\\n",
       "0  3.798501e-18  2.231955e-21  2.697699e-33  9.408594e-79  1.874799e-36   \n",
       "1  5.750392e-22  9.352165e-21  2.369561e-37  5.416003e-83  3.293510e-40   \n",
       "\n",
       "    tfidf_bnb_5  tfidf_bnb_6   tfidf_bnb_7  \n",
       "0  1.055956e-37          0.2  3.589278e-47  \n",
       "1  2.992593e-56          0.2  1.064033e-55  "
      ]
     },
     "execution_count": 4,
     "metadata": {},
     "output_type": "execute_result"
    }
   ],
   "source": [
    "df_tfidf_bnb.head(2)"
   ]
  },
  {
   "cell_type": "code",
   "execution_count": 5,
   "metadata": {},
   "outputs": [
    {
     "data": {
      "text/html": [
       "<div>\n",
       "<style scoped>\n",
       "    .dataframe tbody tr th:only-of-type {\n",
       "        vertical-align: middle;\n",
       "    }\n",
       "\n",
       "    .dataframe tbody tr th {\n",
       "        vertical-align: top;\n",
       "    }\n",
       "\n",
       "    .dataframe thead th {\n",
       "        text-align: right;\n",
       "    }\n",
       "</style>\n",
       "<table border=\"1\" class=\"dataframe\">\n",
       "  <thead>\n",
       "    <tr style=\"text-align: right;\">\n",
       "      <th></th>\n",
       "      <th>tfidf_mnb_0</th>\n",
       "      <th>tfidf_mnb_1</th>\n",
       "      <th>tfidf_mnb_2</th>\n",
       "      <th>tfidf_mnb_3</th>\n",
       "      <th>tfidf_mnb_4</th>\n",
       "      <th>tfidf_mnb_5</th>\n",
       "      <th>tfidf_mnb_6</th>\n",
       "      <th>tfidf_mnb_7</th>\n",
       "    </tr>\n",
       "  </thead>\n",
       "  <tbody>\n",
       "    <tr>\n",
       "      <th>0</th>\n",
       "      <td>0.038015</td>\n",
       "      <td>0.037619</td>\n",
       "      <td>0.011851</td>\n",
       "      <td>0.002589</td>\n",
       "      <td>0.010582</td>\n",
       "      <td>0.007695</td>\n",
       "      <td>0.084521</td>\n",
       "      <td>0.007129</td>\n",
       "    </tr>\n",
       "    <tr>\n",
       "      <th>1</th>\n",
       "      <td>0.026010</td>\n",
       "      <td>0.029862</td>\n",
       "      <td>0.010599</td>\n",
       "      <td>0.002772</td>\n",
       "      <td>0.010975</td>\n",
       "      <td>0.005744</td>\n",
       "      <td>0.108052</td>\n",
       "      <td>0.005986</td>\n",
       "    </tr>\n",
       "  </tbody>\n",
       "</table>\n",
       "</div>"
      ],
      "text/plain": [
       "   tfidf_mnb_0  tfidf_mnb_1  tfidf_mnb_2  tfidf_mnb_3  tfidf_mnb_4  \\\n",
       "0     0.038015     0.037619     0.011851     0.002589     0.010582   \n",
       "1     0.026010     0.029862     0.010599     0.002772     0.010975   \n",
       "\n",
       "   tfidf_mnb_5  tfidf_mnb_6  tfidf_mnb_7  \n",
       "0     0.007695     0.084521     0.007129  \n",
       "1     0.005744     0.108052     0.005986  "
      ]
     },
     "execution_count": 5,
     "metadata": {},
     "output_type": "execute_result"
    }
   ],
   "source": [
    "df_tfidf_mnb.head(2)"
   ]
  },
  {
   "cell_type": "markdown",
   "metadata": {},
   "source": [
    "### 1.2 加载标签"
   ]
  },
  {
   "cell_type": "code",
   "execution_count": 24,
   "metadata": {},
   "outputs": [
    {
     "name": "stdout",
     "output_type": "stream",
     "text": [
      "100\n",
      "(100, 4)\n",
      "[1 2 3 4 5 6 7 8]\n",
      "[0 1 2 3 4 5 6 7]\n"
     ]
    },
    {
     "data": {
      "text/html": [
       "<div>\n",
       "<style scoped>\n",
       "    .dataframe tbody tr th:only-of-type {\n",
       "        vertical-align: middle;\n",
       "    }\n",
       "\n",
       "    .dataframe tbody tr th {\n",
       "        vertical-align: top;\n",
       "    }\n",
       "\n",
       "    .dataframe thead th {\n",
       "        text-align: right;\n",
       "    }\n",
       "</style>\n",
       "<table border=\"1\" class=\"dataframe\">\n",
       "  <thead>\n",
       "    <tr style=\"text-align: right;\">\n",
       "      <th></th>\n",
       "      <th>id</th>\n",
       "      <th>content</th>\n",
       "      <th>laws</th>\n",
       "      <th>penalty</th>\n",
       "    </tr>\n",
       "  </thead>\n",
       "  <tbody>\n",
       "    <tr>\n",
       "      <th>0</th>\n",
       "      <td>16</td>\n",
       "      <td>公诉 机关 霍邱县 人民检察院 被告人 许某 1975 日生 2012 因涉嫌 危险 驾驶 ...</td>\n",
       "      <td>133,72,73</td>\n",
       "      <td>2</td>\n",
       "    </tr>\n",
       "    <tr>\n",
       "      <th>1</th>\n",
       "      <td>32</td>\n",
       "      <td>公诉 机关 海口市 龙华区 人民检察院 被告人 王某 海口市 龙华区 人民检察院 海龙 检公...</td>\n",
       "      <td>347,67,52,64</td>\n",
       "      <td>0</td>\n",
       "    </tr>\n",
       "    <tr>\n",
       "      <th>2</th>\n",
       "      <td>41</td>\n",
       "      <td>公诉 机关 广东省 潮州市 人民检察院 被告人 覃学彬 1980 出生 广西壮族自治区 大新...</td>\n",
       "      <td>263,25,52,53,55,56</td>\n",
       "      <td>4</td>\n",
       "    </tr>\n",
       "    <tr>\n",
       "      <th>3</th>\n",
       "      <td>57</td>\n",
       "      <td>公诉 机关 榆林市 榆阳区 人民检察院 上诉人 原审 被告人 2012 因涉嫌 盗窃罪 榆林...</td>\n",
       "      <td>264,52,53,67,72,73</td>\n",
       "      <td>4</td>\n",
       "    </tr>\n",
       "    <tr>\n",
       "      <th>4</th>\n",
       "      <td>60</td>\n",
       "      <td>公诉 机关 榆阳区 人民检察院 上诉人 原审 被告人 刘某 汉族 陕西省 横山县 小学文化 ...</td>\n",
       "      <td>224,25,26,27,52,72</td>\n",
       "      <td>6</td>\n",
       "    </tr>\n",
       "  </tbody>\n",
       "</table>\n",
       "</div>"
      ],
      "text/plain": [
       "   id                                            content                laws  \\\n",
       "0  16  公诉 机关 霍邱县 人民检察院 被告人 许某 1975 日生 2012 因涉嫌 危险 驾驶 ...           133,72,73   \n",
       "1  32  公诉 机关 海口市 龙华区 人民检察院 被告人 王某 海口市 龙华区 人民检察院 海龙 检公...        347,67,52,64   \n",
       "2  41  公诉 机关 广东省 潮州市 人民检察院 被告人 覃学彬 1980 出生 广西壮族自治区 大新...  263,25,52,53,55,56   \n",
       "3  57  公诉 机关 榆林市 榆阳区 人民检察院 上诉人 原审 被告人 2012 因涉嫌 盗窃罪 榆林...  264,52,53,67,72,73   \n",
       "4  60  公诉 机关 榆阳区 人民检察院 上诉人 原审 被告人 刘某 汉族 陕西省 横山县 小学文化 ...  224,25,26,27,52,72   \n",
       "\n",
       "   penalty  \n",
       "0        2  \n",
       "1        0  \n",
       "2        4  \n",
       "3        4  \n",
       "4        6  "
      ]
     },
     "execution_count": 24,
     "metadata": {},
     "output_type": "execute_result"
    }
   ],
   "source": [
    "df_data = pd.read_csv(config.data_csv_path)\n",
    "rows = df_data.shape[0]\n",
    "print(rows)\n",
    "print(df_data.shape)\n",
    "print(np.unique(df_data['penalty']))\n",
    "# 标签转为［0,8）  \n",
    "df_data['penalty'] = df_data['penalty'] - 1\n",
    "print(np.unique(df_data['penalty']))\n",
    "df_data.head()"
   ]
  },
  {
   "cell_type": "markdown",
   "metadata": {},
   "source": [
    "### 1.3 .  特征组合"
   ]
  },
  {
   "cell_type": "code",
   "execution_count": 23,
   "metadata": {},
   "outputs": [
    {
     "name": "stdout",
     "output_type": "stream",
     "text": [
      "(100, 24)\n"
     ]
    },
    {
     "data": {
      "text/html": [
       "<div>\n",
       "<style scoped>\n",
       "    .dataframe tbody tr th:only-of-type {\n",
       "        vertical-align: middle;\n",
       "    }\n",
       "\n",
       "    .dataframe tbody tr th {\n",
       "        vertical-align: top;\n",
       "    }\n",
       "\n",
       "    .dataframe thead th {\n",
       "        text-align: right;\n",
       "    }\n",
       "</style>\n",
       "<table border=\"1\" class=\"dataframe\">\n",
       "  <thead>\n",
       "    <tr style=\"text-align: right;\">\n",
       "      <th></th>\n",
       "      <th>tfidf_lr_0</th>\n",
       "      <th>tfidf_lr_1</th>\n",
       "      <th>tfidf_lr_2</th>\n",
       "      <th>tfidf_lr_3</th>\n",
       "      <th>tfidf_lr_4</th>\n",
       "      <th>tfidf_lr_5</th>\n",
       "      <th>tfidf_lr_6</th>\n",
       "      <th>tfidf_lr_7</th>\n",
       "      <th>tfidf_bnb_0</th>\n",
       "      <th>tfidf_bnb_1</th>\n",
       "      <th>...</th>\n",
       "      <th>tfidf_bnb_6</th>\n",
       "      <th>tfidf_bnb_7</th>\n",
       "      <th>tfidf_mnb_0</th>\n",
       "      <th>tfidf_mnb_1</th>\n",
       "      <th>tfidf_mnb_2</th>\n",
       "      <th>tfidf_mnb_3</th>\n",
       "      <th>tfidf_mnb_4</th>\n",
       "      <th>tfidf_mnb_5</th>\n",
       "      <th>tfidf_mnb_6</th>\n",
       "      <th>tfidf_mnb_7</th>\n",
       "    </tr>\n",
       "  </thead>\n",
       "  <tbody>\n",
       "    <tr>\n",
       "      <th>0</th>\n",
       "      <td>0.039598</td>\n",
       "      <td>0.036783</td>\n",
       "      <td>0.014341</td>\n",
       "      <td>0.003581</td>\n",
       "      <td>0.014108</td>\n",
       "      <td>0.010981</td>\n",
       "      <td>0.069892</td>\n",
       "      <td>0.010715</td>\n",
       "      <td>3.798501e-18</td>\n",
       "      <td>2.231955e-21</td>\n",
       "      <td>...</td>\n",
       "      <td>2.000000e-01</td>\n",
       "      <td>3.589278e-47</td>\n",
       "      <td>0.038015</td>\n",
       "      <td>0.037619</td>\n",
       "      <td>0.011851</td>\n",
       "      <td>0.002589</td>\n",
       "      <td>0.010582</td>\n",
       "      <td>0.007695</td>\n",
       "      <td>0.084521</td>\n",
       "      <td>0.007129</td>\n",
       "    </tr>\n",
       "    <tr>\n",
       "      <th>1</th>\n",
       "      <td>0.026864</td>\n",
       "      <td>0.029070</td>\n",
       "      <td>0.010598</td>\n",
       "      <td>0.002971</td>\n",
       "      <td>0.012282</td>\n",
       "      <td>0.006350</td>\n",
       "      <td>0.104891</td>\n",
       "      <td>0.006972</td>\n",
       "      <td>5.750392e-22</td>\n",
       "      <td>9.352165e-21</td>\n",
       "      <td>...</td>\n",
       "      <td>2.000000e-01</td>\n",
       "      <td>1.064033e-55</td>\n",
       "      <td>0.026010</td>\n",
       "      <td>0.029862</td>\n",
       "      <td>0.010599</td>\n",
       "      <td>0.002772</td>\n",
       "      <td>0.010975</td>\n",
       "      <td>0.005744</td>\n",
       "      <td>0.108052</td>\n",
       "      <td>0.005986</td>\n",
       "    </tr>\n",
       "    <tr>\n",
       "      <th>2</th>\n",
       "      <td>0.026383</td>\n",
       "      <td>0.053365</td>\n",
       "      <td>0.015289</td>\n",
       "      <td>0.005954</td>\n",
       "      <td>0.017155</td>\n",
       "      <td>0.007126</td>\n",
       "      <td>0.067509</td>\n",
       "      <td>0.007219</td>\n",
       "      <td>2.291750e-17</td>\n",
       "      <td>2.035139e-10</td>\n",
       "      <td>...</td>\n",
       "      <td>2.000000e-01</td>\n",
       "      <td>8.214956e-67</td>\n",
       "      <td>0.022397</td>\n",
       "      <td>0.075922</td>\n",
       "      <td>0.010636</td>\n",
       "      <td>0.002758</td>\n",
       "      <td>0.010284</td>\n",
       "      <td>0.003593</td>\n",
       "      <td>0.070938</td>\n",
       "      <td>0.003472</td>\n",
       "    </tr>\n",
       "    <tr>\n",
       "      <th>3</th>\n",
       "      <td>0.020936</td>\n",
       "      <td>0.119039</td>\n",
       "      <td>0.018465</td>\n",
       "      <td>0.002682</td>\n",
       "      <td>0.009245</td>\n",
       "      <td>0.005295</td>\n",
       "      <td>0.018011</td>\n",
       "      <td>0.006327</td>\n",
       "      <td>4.229793e-39</td>\n",
       "      <td>2.000000e-01</td>\n",
       "      <td>...</td>\n",
       "      <td>9.992520e-53</td>\n",
       "      <td>1.923538e-96</td>\n",
       "      <td>0.011274</td>\n",
       "      <td>0.163518</td>\n",
       "      <td>0.008235</td>\n",
       "      <td>0.000863</td>\n",
       "      <td>0.003440</td>\n",
       "      <td>0.001747</td>\n",
       "      <td>0.008948</td>\n",
       "      <td>0.001975</td>\n",
       "    </tr>\n",
       "    <tr>\n",
       "      <th>4</th>\n",
       "      <td>0.044806</td>\n",
       "      <td>0.063714</td>\n",
       "      <td>0.012909</td>\n",
       "      <td>0.003594</td>\n",
       "      <td>0.014628</td>\n",
       "      <td>0.008340</td>\n",
       "      <td>0.043990</td>\n",
       "      <td>0.008018</td>\n",
       "      <td>1.971429e-01</td>\n",
       "      <td>2.857002e-03</td>\n",
       "      <td>...</td>\n",
       "      <td>7.897082e-08</td>\n",
       "      <td>3.547454e-57</td>\n",
       "      <td>0.044297</td>\n",
       "      <td>0.070741</td>\n",
       "      <td>0.012572</td>\n",
       "      <td>0.003230</td>\n",
       "      <td>0.012673</td>\n",
       "      <td>0.007278</td>\n",
       "      <td>0.042619</td>\n",
       "      <td>0.006590</td>\n",
       "    </tr>\n",
       "  </tbody>\n",
       "</table>\n",
       "<p>5 rows × 24 columns</p>\n",
       "</div>"
      ],
      "text/plain": [
       "   tfidf_lr_0  tfidf_lr_1  tfidf_lr_2  tfidf_lr_3  tfidf_lr_4  tfidf_lr_5  \\\n",
       "0    0.039598    0.036783    0.014341    0.003581    0.014108    0.010981   \n",
       "1    0.026864    0.029070    0.010598    0.002971    0.012282    0.006350   \n",
       "2    0.026383    0.053365    0.015289    0.005954    0.017155    0.007126   \n",
       "3    0.020936    0.119039    0.018465    0.002682    0.009245    0.005295   \n",
       "4    0.044806    0.063714    0.012909    0.003594    0.014628    0.008340   \n",
       "\n",
       "   tfidf_lr_6  tfidf_lr_7   tfidf_bnb_0   tfidf_bnb_1     ...       \\\n",
       "0    0.069892    0.010715  3.798501e-18  2.231955e-21     ...        \n",
       "1    0.104891    0.006972  5.750392e-22  9.352165e-21     ...        \n",
       "2    0.067509    0.007219  2.291750e-17  2.035139e-10     ...        \n",
       "3    0.018011    0.006327  4.229793e-39  2.000000e-01     ...        \n",
       "4    0.043990    0.008018  1.971429e-01  2.857002e-03     ...        \n",
       "\n",
       "    tfidf_bnb_6   tfidf_bnb_7  tfidf_mnb_0  tfidf_mnb_1  tfidf_mnb_2  \\\n",
       "0  2.000000e-01  3.589278e-47     0.038015     0.037619     0.011851   \n",
       "1  2.000000e-01  1.064033e-55     0.026010     0.029862     0.010599   \n",
       "2  2.000000e-01  8.214956e-67     0.022397     0.075922     0.010636   \n",
       "3  9.992520e-53  1.923538e-96     0.011274     0.163518     0.008235   \n",
       "4  7.897082e-08  3.547454e-57     0.044297     0.070741     0.012572   \n",
       "\n",
       "   tfidf_mnb_3  tfidf_mnb_4  tfidf_mnb_5  tfidf_mnb_6  tfidf_mnb_7  \n",
       "0     0.002589     0.010582     0.007695     0.084521     0.007129  \n",
       "1     0.002772     0.010975     0.005744     0.108052     0.005986  \n",
       "2     0.002758     0.010284     0.003593     0.070938     0.003472  \n",
       "3     0.000863     0.003440     0.001747     0.008948     0.001975  \n",
       "4     0.003230     0.012673     0.007278     0.042619     0.006590  \n",
       "\n",
       "[5 rows x 24 columns]"
      ]
     },
     "execution_count": 23,
     "metadata": {},
     "output_type": "execute_result"
    }
   ],
   "source": [
    "df_feat = pd.concat([df_tfidf_lr,df_tfidf_bnb,df_tfidf_mnb],axis=1)\n",
    "print(df_feat.shape)\n",
    "df_feat.head()"
   ]
  },
  {
   "cell_type": "code",
   "execution_count": null,
   "metadata": {},
   "outputs": [],
   "source": []
  },
  {
   "cell_type": "markdown",
   "metadata": {},
   "source": [
    "## 2. 切分训练集和测试集数据"
   ]
  },
  {
   "cell_type": "code",
   "execution_count": 25,
   "metadata": {},
   "outputs": [
    {
     "data": {
      "text/plain": [
       "70"
      ]
     },
     "execution_count": 25,
     "metadata": {},
     "output_type": "execute_result"
    }
   ],
   "source": [
    "splits_size = int(rows * 0.7)\n",
    "splits_size"
   ]
  },
  {
   "cell_type": "code",
   "execution_count": null,
   "metadata": {},
   "outputs": [],
   "source": [
    "X,y = "
   ]
  },
  {
   "cell_type": "code",
   "execution_count": null,
   "metadata": {},
   "outputs": [],
   "source": []
  },
  {
   "cell_type": "code",
   "execution_count": null,
   "metadata": {},
   "outputs": [],
   "source": []
  },
  {
   "cell_type": "markdown",
   "metadata": {},
   "source": [
    "## 4. 模型训练"
   ]
  },
  {
   "cell_type": "code",
   "execution_count": null,
   "metadata": {},
   "outputs": [],
   "source": []
  }
 ],
 "metadata": {
  "kernelspec": {
   "display_name": "Python 3",
   "language": "python",
   "name": "python3"
  },
  "language_info": {
   "codemirror_mode": {
    "name": "ipython",
    "version": 3
   },
   "file_extension": ".py",
   "mimetype": "text/x-python",
   "name": "python",
   "nbconvert_exporter": "python",
   "pygments_lexer": "ipython3",
   "version": "3.7.2"
  }
 },
 "nbformat": 4,
 "nbformat_minor": 2
}
