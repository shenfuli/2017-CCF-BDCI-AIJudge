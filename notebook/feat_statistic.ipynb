{
 "cells": [
  {
   "cell_type": "markdown",
   "metadata": {},
   "source": [
    "## 统计类特征提取\n",
    "该文本分类任务是预测案件金额类别，因此案件文本中出现的金额是重要的。于是，我使用正则表达式匹配出案件文本中出现的所有金额，然后对同一个案件中出现的所有金额进行统计，包括：求和、最小值、最大值、最大最小差值、平均值、标准差。\n",
    "\n",
    "这里还可以做的事情有：\n",
    "\n",
    "统计案件文本的词的数目 <br>\n",
    "利用案件中的一些关键词做特征，例如：酒驾、毒品等 <br>\n",
    "案件文本中出现的日期 <br>\n",
    "案件文本中出现的地点 <br>"
   ]
  },
  {
   "cell_type": "markdown",
   "metadata": {},
   "source": [
    "下面我们主要提取金额类的特征"
   ]
  },
  {
   "cell_type": "code",
   "execution_count": 1,
   "metadata": {},
   "outputs": [],
   "source": [
    "import sys\n",
    "sys.path.append(\"D:/ML_Study/2017-CCF-BDCI-AIJudge\")\n",
    "import re\n",
    "import numpy as np\n",
    "import pandas as pd\n",
    "from config.db_config import Config\n",
    "from utils import LOGGER\n",
    "import codecs\n",
    "config = Config()"
   ]
  },
  {
   "cell_type": "code",
   "execution_count": 3,
   "metadata": {},
   "outputs": [],
   "source": [
    "def load_data(data_path):\n",
    "    df_tr = []\n",
    "    LOGGER.log('For train.txt:')\n",
    "    for i, line in enumerate(codecs.open(data_path, encoding='utf-8')):\n",
    "        if i % 1000 == 1:\n",
    "            LOGGER.log('iter = %d' % i)\n",
    "        segs = line.split('\\t')\n",
    "        row = {}\n",
    "        row['id'] = segs[0]\n",
    "        row['raw_content'] = segs[1].strip()\n",
    "        df_tr.append(row)\n",
    "    data_df = pd.DataFrame(df_tr)\n",
    "    return data_df"
   ]
  },
  {
   "cell_type": "code",
   "execution_count": 4,
   "metadata": {},
   "outputs": [
    {
     "name": "stdout",
     "output_type": "stream",
     "text": [
      "2019-03-26 17:09:46 For train.txt:\n",
      "2019-03-26 17:09:46 iter = 1\n",
      "2019-03-26 17:09:46 For train.txt:\n"
     ]
    },
    {
     "data": {
      "text/html": [
       "<div>\n",
       "<style scoped>\n",
       "    .dataframe tbody tr th:only-of-type {\n",
       "        vertical-align: middle;\n",
       "    }\n",
       "\n",
       "    .dataframe tbody tr th {\n",
       "        vertical-align: top;\n",
       "    }\n",
       "\n",
       "    .dataframe thead th {\n",
       "        text-align: right;\n",
       "    }\n",
       "</style>\n",
       "<table border=\"1\" class=\"dataframe\">\n",
       "  <thead>\n",
       "    <tr style=\"text-align: right;\">\n",
       "      <th></th>\n",
       "      <th>id</th>\n",
       "      <th>raw_content</th>\n",
       "    </tr>\n",
       "  </thead>\n",
       "  <tbody>\n",
       "    <tr>\n",
       "      <th>0</th>\n",
       "      <td>16</td>\n",
       "      <td>公诉机关霍邱县人民检察院。被告人许某甲，男，1975年9月20日生。2012年12月17日因...</td>\n",
       "    </tr>\n",
       "    <tr>\n",
       "      <th>1</th>\n",
       "      <td>32</td>\n",
       "      <td>公诉机关海口市龙华区人民检察院。被告人王某乙。海口市龙华区人民检察院以海龙检公刑诉（2014...</td>\n",
       "    </tr>\n",
       "    <tr>\n",
       "      <th>2</th>\n",
       "      <td>41</td>\n",
       "      <td>公诉机关广东省潮州市人民检察院。被告人覃学彬（自报），男，1980年1月8日出生，广西壮族自...</td>\n",
       "    </tr>\n",
       "    <tr>\n",
       "      <th>3</th>\n",
       "      <td>57</td>\n",
       "      <td>原公诉机关榆林市榆阳区人民检察院。上诉人（原审被告人）高某某，2012年10月22日因涉嫌犯...</td>\n",
       "    </tr>\n",
       "    <tr>\n",
       "      <th>4</th>\n",
       "      <td>60</td>\n",
       "      <td>原公诉机关榆阳区人民检察院。上诉人（原审被告人）刘某，男，汉族，陕西省横山县，小学文化，货车...</td>\n",
       "    </tr>\n",
       "  </tbody>\n",
       "</table>\n",
       "</div>"
      ],
      "text/plain": [
       "   id                                        raw_content\n",
       "0  16  公诉机关霍邱县人民检察院。被告人许某甲，男，1975年9月20日生。2012年12月17日因...\n",
       "1  32  公诉机关海口市龙华区人民检察院。被告人王某乙。海口市龙华区人民检察院以海龙检公刑诉（2014...\n",
       "2  41  公诉机关广东省潮州市人民检察院。被告人覃学彬（自报），男，1980年1月8日出生，广西壮族自...\n",
       "3  57  原公诉机关榆林市榆阳区人民检察院。上诉人（原审被告人）高某某，2012年10月22日因涉嫌犯...\n",
       "4  60  原公诉机关榆阳区人民检察院。上诉人（原审被告人）刘某，男，汉族，陕西省横山县，小学文化，货车..."
      ]
     },
     "execution_count": 4,
     "metadata": {},
     "output_type": "execute_result"
    }
   ],
   "source": [
    "train_df = load_data(config.train_data_path)\n",
    "test_df = load_data(config.test_data_path)\n",
    "df = pd.concat([train_df, test_df]).reset_index(drop=True)\n",
    "df.head()"
   ]
  },
  {
   "cell_type": "code",
   "execution_count": 37,
   "metadata": {},
   "outputs": [
    {
     "name": "stdout",
     "output_type": "stream",
     "text": [
      "2019-03-26 17:48:35 iter = 1\n"
     ]
    }
   ],
   "source": [
    "amt_list = []\n",
    "for i, rows in df.iterrows():\n",
    "    if i % 1000 == 1:\n",
    "        LOGGER.log('iter = %d' % i)\n",
    "    id = rows[\"id\"]\n",
    "    raw_document = rows['raw_content']\n",
    "    row_amount_list = re.findall(u'(\\d*\\.?\\d+)[元]', raw_document)\n",
    "    for amount in row_amount_list:\n",
    "        amt_list.append([id,float(amount)])"
   ]
  },
  {
   "cell_type": "code",
   "execution_count": 38,
   "metadata": {},
   "outputs": [
    {
     "data": {
      "text/html": [
       "<div>\n",
       "<style scoped>\n",
       "    .dataframe tbody tr th:only-of-type {\n",
       "        vertical-align: middle;\n",
       "    }\n",
       "\n",
       "    .dataframe tbody tr th {\n",
       "        vertical-align: top;\n",
       "    }\n",
       "\n",
       "    .dataframe thead th {\n",
       "        text-align: right;\n",
       "    }\n",
       "</style>\n",
       "<table border=\"1\" class=\"dataframe\">\n",
       "  <thead>\n",
       "    <tr style=\"text-align: right;\">\n",
       "      <th></th>\n",
       "      <th>id</th>\n",
       "      <th>amt</th>\n",
       "    </tr>\n",
       "  </thead>\n",
       "  <tbody>\n",
       "    <tr>\n",
       "      <th>0</th>\n",
       "      <td>32</td>\n",
       "      <td>550.0</td>\n",
       "    </tr>\n",
       "    <tr>\n",
       "      <th>1</th>\n",
       "      <td>32</td>\n",
       "      <td>550.0</td>\n",
       "    </tr>\n",
       "    <tr>\n",
       "      <th>2</th>\n",
       "      <td>32</td>\n",
       "      <td>550.0</td>\n",
       "    </tr>\n",
       "    <tr>\n",
       "      <th>3</th>\n",
       "      <td>57</td>\n",
       "      <td>6400.0</td>\n",
       "    </tr>\n",
       "    <tr>\n",
       "      <th>4</th>\n",
       "      <td>57</td>\n",
       "      <td>3800.0</td>\n",
       "    </tr>\n",
       "  </tbody>\n",
       "</table>\n",
       "</div>"
      ],
      "text/plain": [
       "   id     amt\n",
       "0  32   550.0\n",
       "1  32   550.0\n",
       "2  32   550.0\n",
       "3  57  6400.0\n",
       "4  57  3800.0"
      ]
     },
     "execution_count": 38,
     "metadata": {},
     "output_type": "execute_result"
    }
   ],
   "source": [
    "amt_df = pd.DataFrame(amt_list,columns=[\"id\",\"amt\"])\n",
    "amt_df.head()"
   ]
  },
  {
   "cell_type": "code",
   "execution_count": 76,
   "metadata": {},
   "outputs": [
    {
     "data": {
      "text/html": [
       "<div>\n",
       "<style scoped>\n",
       "    .dataframe tbody tr th:only-of-type {\n",
       "        vertical-align: middle;\n",
       "    }\n",
       "\n",
       "    .dataframe tbody tr th {\n",
       "        vertical-align: top;\n",
       "    }\n",
       "\n",
       "    .dataframe thead th {\n",
       "        text-align: right;\n",
       "    }\n",
       "</style>\n",
       "<table border=\"1\" class=\"dataframe\">\n",
       "  <thead>\n",
       "    <tr style=\"text-align: right;\">\n",
       "      <th></th>\n",
       "      <th>id</th>\n",
       "      <th>sum</th>\n",
       "      <th>max</th>\n",
       "      <th>min</th>\n",
       "      <th>ptp</th>\n",
       "      <th>mean</th>\n",
       "      <th>std</th>\n",
       "    </tr>\n",
       "  </thead>\n",
       "  <tbody>\n",
       "    <tr>\n",
       "      <th>0</th>\n",
       "      <td>119</td>\n",
       "      <td>2475.0</td>\n",
       "      <td>2475.0</td>\n",
       "      <td>2475.0</td>\n",
       "      <td>0.0</td>\n",
       "      <td>2475.000000</td>\n",
       "      <td>NaN</td>\n",
       "    </tr>\n",
       "    <tr>\n",
       "      <th>1</th>\n",
       "      <td>121</td>\n",
       "      <td>2500.0</td>\n",
       "      <td>2500.0</td>\n",
       "      <td>2500.0</td>\n",
       "      <td>0.0</td>\n",
       "      <td>2500.000000</td>\n",
       "      <td>NaN</td>\n",
       "    </tr>\n",
       "    <tr>\n",
       "      <th>2</th>\n",
       "      <td>123</td>\n",
       "      <td>7000.0</td>\n",
       "      <td>7000.0</td>\n",
       "      <td>7000.0</td>\n",
       "      <td>0.0</td>\n",
       "      <td>7000.000000</td>\n",
       "      <td>NaN</td>\n",
       "    </tr>\n",
       "    <tr>\n",
       "      <th>3</th>\n",
       "      <td>128</td>\n",
       "      <td>2017.4</td>\n",
       "      <td>2017.4</td>\n",
       "      <td>2017.4</td>\n",
       "      <td>0.0</td>\n",
       "      <td>2017.400000</td>\n",
       "      <td>NaN</td>\n",
       "    </tr>\n",
       "    <tr>\n",
       "      <th>4</th>\n",
       "      <td>211</td>\n",
       "      <td>4684.4</td>\n",
       "      <td>3684.4</td>\n",
       "      <td>500.0</td>\n",
       "      <td>3184.4</td>\n",
       "      <td>1561.466667</td>\n",
       "      <td>1838.514197</td>\n",
       "    </tr>\n",
       "  </tbody>\n",
       "</table>\n",
       "</div>"
      ],
      "text/plain": [
       "    id     sum     max     min     ptp         mean          std\n",
       "0  119  2475.0  2475.0  2475.0     0.0  2475.000000          NaN\n",
       "1  121  2500.0  2500.0  2500.0     0.0  2500.000000          NaN\n",
       "2  123  7000.0  7000.0  7000.0     0.0  7000.000000          NaN\n",
       "3  128  2017.4  2017.4  2017.4     0.0  2017.400000          NaN\n",
       "4  211  4684.4  3684.4   500.0  3184.4  1561.466667  1838.514197"
      ]
     },
     "execution_count": 76,
     "metadata": {},
     "output_type": "execute_result"
    }
   ],
   "source": [
    "feat_amt = amt_df.groupby(by=\"id\")['amt'].agg([sum,max,min,np.ptp,np.mean,np.std]).reset_index()\n",
    "feat_amt.head()"
   ]
  },
  {
   "cell_type": "code",
   "execution_count": 65,
   "metadata": {},
   "outputs": [],
   "source": [
    "feat_amt.columns = ['amt_{0}'.format(col) for col in feat_amt.columns]"
   ]
  },
  {
   "cell_type": "code",
   "execution_count": 66,
   "metadata": {},
   "outputs": [
    {
     "data": {
      "text/html": [
       "<div>\n",
       "<style scoped>\n",
       "    .dataframe tbody tr th:only-of-type {\n",
       "        vertical-align: middle;\n",
       "    }\n",
       "\n",
       "    .dataframe tbody tr th {\n",
       "        vertical-align: top;\n",
       "    }\n",
       "\n",
       "    .dataframe thead th {\n",
       "        text-align: right;\n",
       "    }\n",
       "</style>\n",
       "<table border=\"1\" class=\"dataframe\">\n",
       "  <thead>\n",
       "    <tr style=\"text-align: right;\">\n",
       "      <th></th>\n",
       "      <th>amt_sum</th>\n",
       "      <th>amt_max</th>\n",
       "      <th>amt_min</th>\n",
       "      <th>amt_ptp</th>\n",
       "      <th>amt_mean</th>\n",
       "      <th>amt_std</th>\n",
       "    </tr>\n",
       "  </thead>\n",
       "  <tbody>\n",
       "    <tr>\n",
       "      <th>0</th>\n",
       "      <td>2475.0</td>\n",
       "      <td>2475.0</td>\n",
       "      <td>2475.0</td>\n",
       "      <td>0.0</td>\n",
       "      <td>2475.000000</td>\n",
       "      <td>NaN</td>\n",
       "    </tr>\n",
       "    <tr>\n",
       "      <th>1</th>\n",
       "      <td>2500.0</td>\n",
       "      <td>2500.0</td>\n",
       "      <td>2500.0</td>\n",
       "      <td>0.0</td>\n",
       "      <td>2500.000000</td>\n",
       "      <td>NaN</td>\n",
       "    </tr>\n",
       "    <tr>\n",
       "      <th>2</th>\n",
       "      <td>7000.0</td>\n",
       "      <td>7000.0</td>\n",
       "      <td>7000.0</td>\n",
       "      <td>0.0</td>\n",
       "      <td>7000.000000</td>\n",
       "      <td>NaN</td>\n",
       "    </tr>\n",
       "    <tr>\n",
       "      <th>3</th>\n",
       "      <td>2017.4</td>\n",
       "      <td>2017.4</td>\n",
       "      <td>2017.4</td>\n",
       "      <td>0.0</td>\n",
       "      <td>2017.400000</td>\n",
       "      <td>NaN</td>\n",
       "    </tr>\n",
       "    <tr>\n",
       "      <th>4</th>\n",
       "      <td>4684.4</td>\n",
       "      <td>3684.4</td>\n",
       "      <td>500.0</td>\n",
       "      <td>3184.4</td>\n",
       "      <td>1561.466667</td>\n",
       "      <td>1838.514197</td>\n",
       "    </tr>\n",
       "  </tbody>\n",
       "</table>\n",
       "</div>"
      ],
      "text/plain": [
       "   amt_sum  amt_max  amt_min  amt_ptp     amt_mean      amt_std\n",
       "0   2475.0   2475.0   2475.0      0.0  2475.000000          NaN\n",
       "1   2500.0   2500.0   2500.0      0.0  2500.000000          NaN\n",
       "2   7000.0   7000.0   7000.0      0.0  7000.000000          NaN\n",
       "3   2017.4   2017.4   2017.4      0.0  2017.400000          NaN\n",
       "4   4684.4   3684.4    500.0   3184.4  1561.466667  1838.514197"
      ]
     },
     "execution_count": 66,
     "metadata": {},
     "output_type": "execute_result"
    }
   ],
   "source": [
    "feat_amt.head()"
   ]
  },
  {
   "cell_type": "code",
   "execution_count": 69,
   "metadata": {},
   "outputs": [],
   "source": [
    "config.feat_amt = \"D:/ML_Study/2017-CCF-BDCI-AIJudge/data/output/feature/amt/amt_21w.csv\"\n",
    "feat_amt.to_csv(config.feat_amt,index=None)"
   ]
  },
  {
   "cell_type": "code",
   "execution_count": 73,
   "metadata": {},
   "outputs": [
    {
     "data": {
      "text/plain": [
       "1561.47"
      ]
     },
     "execution_count": 73,
     "metadata": {},
     "output_type": "execute_result"
    }
   ],
   "source": [
    "float('%.2f' %(1561.466667))"
   ]
  },
  {
   "cell_type": "code",
   "execution_count": null,
   "metadata": {},
   "outputs": [],
   "source": []
  }
 ],
 "metadata": {
  "kernelspec": {
   "display_name": "Python 3",
   "language": "python",
   "name": "python3"
  },
  "language_info": {
   "codemirror_mode": {
    "name": "ipython",
    "version": 3
   },
   "file_extension": ".py",
   "mimetype": "text/x-python",
   "name": "python",
   "nbconvert_exporter": "python",
   "pygments_lexer": "ipython3",
   "version": "3.6.5"
  }
 },
 "nbformat": 4,
 "nbformat_minor": 2
}
