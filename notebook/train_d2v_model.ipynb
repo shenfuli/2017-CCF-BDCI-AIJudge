{
 "cells": [
  {
   "cell_type": "code",
   "execution_count": 1,
   "metadata": {},
   "outputs": [],
   "source": [
    "import sys\n",
    "sys.path.append(\"D:/ML_Study/2017-CCF-BDCI-AIJudge\")"
   ]
  },
  {
   "cell_type": "code",
   "execution_count": 2,
   "metadata": {},
   "outputs": [
    {
     "name": "stderr",
     "output_type": "stream",
     "text": [
      "D:\\opt\\anaconda3\\lib\\site-packages\\gensim\\utils.py:1209: UserWarning: detected Windows; aliasing chunkize to chunkize_serial\n",
      "  warnings.warn(\"detected Windows; aliasing chunkize to chunkize_serial\")\n",
      "D:\\opt\\anaconda3\\lib\\site-packages\\sklearn\\cross_validation.py:41: DeprecationWarning: This module was deprecated in version 0.18 in favor of the model_selection module into which all the refactored classes and functions are moved. Also note that the interface of the new CV iterators are different from that of this module. This module will be removed in 0.20.\n",
      "  \"This module will be removed in 0.20.\", DeprecationWarning)\n"
     ]
    }
   ],
   "source": [
    "# -*- encoding:utf-8 -*-\n",
    "import codecs\n",
    "import subprocess\n",
    "from collections import namedtuple\n",
    "\n",
    "import numpy as np\n",
    "import pandas as pd\n",
    "from gensim.models import Doc2Vec\n",
    "from sklearn.cross_validation import cross_val_score\n",
    "from sklearn.linear_model import LogisticRegression\n",
    "from utils import LOGGER\n",
    "from config.db_config import Config\n",
    "import warnings \n",
    "warnings.filterwarnings('ignore')\n",
    "config = Config()"
   ]
  },
  {
   "cell_type": "markdown",
   "metadata": {},
   "source": [
    "## 加载数据"
   ]
  },
  {
   "cell_type": "code",
   "execution_count": 3,
   "metadata": {},
   "outputs": [],
   "source": [
    "data_df = pd.read_csv(config.data_csv_path, encoding='utf-8')\n",
    "y = data_df['penalty'] - 1\n",
    "rows = data_df.shape[0]"
   ]
  },
  {
   "cell_type": "markdown",
   "metadata": {},
   "source": [
    "## 准备doc2vec 格式数据"
   ]
  },
  {
   "cell_type": "code",
   "execution_count": 4,
   "metadata": {},
   "outputs": [
    {
     "name": "stdout",
     "output_type": "stream",
     "text": [
      "2019-04-01 15:59:49 iter=0\n"
     ]
    }
   ],
   "source": [
    "SentimentDocument = namedtuple('SentimentDocument', 'words tags')\n",
    "class Doc_list(object):\n",
    "\n",
    "    def __init__(self, f):\n",
    "        self.f = f\n",
    "    def __iter__(self):\n",
    "        for i,line in enumerate(codecs.open(self.f,encoding='utf8')):\n",
    "            words = line.strip().split(' ')\n",
    "            tags = [int(words[0][2:])]\n",
    "            words = words[1:]\n",
    "            yield SentimentDocument(words,tags) \n",
    "            \n",
    "def write_d2v_data_path(content_list):\n",
    "    doc_f = codecs.open(config.feat_d2v, encoding='utf-8', mode='w')\n",
    "    for i, content in enumerate(content_list):\n",
    "        if i % 10000 == 0:\n",
    "            LOGGER.log('iter=%d' % i)\n",
    "        doc_f.write(u'_*{} {}\\n'.format(i, content))\n",
    "    doc_f.close()\n",
    "\n",
    "write_d2v_data_path(data_df['content'])"
   ]
  },
  {
   "cell_type": "code",
   "execution_count": 5,
   "metadata": {},
   "outputs": [],
   "source": [
    "text=\"_*9 公诉 机关 平湖市 人民检察院 被告人 童某 个体 拆房 因涉嫌 盗窃罪 2012 平湖市 公安局 刑事拘留 同年 依法逮捕 羁押于 本市 看守所 平湖市 人民检察院 以平检 刑诉 2012 525 起诉书 指控 被告人 某犯 盗窃罪 2012 日向 本院 提起公诉 本院 同日 受理 依法 简易程序 实行 独任 审判 公开 开庭审理 本案 被告人 童某 到庭 参加 诉讼 现已 审理 终结 2008 时许 被告人 童某 童得明 判刑 本市 曹桥 街道 愚桥 村大 竹园 废品收购 被告人 童某 路边 望风 童得明 采用 搭线 手段 得失 停放 该处 华益牌 电瓶 三轮车 一辆 价值 2475 查明 赃物 电瓶 三轮车 扣押 发还 失主 上述事实 被告人 童某 开庭审理 过程 无异议 接受 刑事案件 登记表 失主 陈述 证人 证言 同伙 供述 刑事 判决书 辨认 笔录 照片 身份证明 搜查 笔录 扣押 发还 物品 清单 价格 鉴定结论 抓获 证据 予以 证实 足以认定\""
   ]
  },
  {
   "cell_type": "code",
   "execution_count": 6,
   "metadata": {},
   "outputs": [
    {
     "name": "stdout",
     "output_type": "stream",
     "text": [
      "['公诉', '机关', '平湖市', '人民检察院']\n",
      "[9]\n"
     ]
    },
    {
     "data": {
      "text/plain": [
       "SentimentDocument(words=['公诉', '机关', '平湖市', '人民检察院', '被告人', '童某', '个体', '拆房', '因涉嫌', '盗窃罪', '2012', '平湖市', '公安局', '刑事拘留', '同年', '依法逮捕', '羁押于', '本市', '看守所', '平湖市', '人民检察院', '以平检', '刑诉', '2012', '525', '起诉书', '指控', '被告人', '某犯', '盗窃罪', '2012', '日向', '本院', '提起公诉', '本院', '同日', '受理', '依法', '简易程序', '实行', '独任', '审判', '公开', '开庭审理', '本案', '被告人', '童某', '到庭', '参加', '诉讼', '现已', '审理', '终结', '2008', '时许', '被告人', '童某', '童得明', '判刑', '本市', '曹桥', '街道', '愚桥', '村大', '竹园', '废品收购', '被告人', '童某', '路边', '望风', '童得明', '采用', '搭线', '手段', '得失', '停放', '该处', '华益牌', '电瓶', '三轮车', '一辆', '价值', '2475', '查明', '赃物', '电瓶', '三轮车', '扣押', '发还', '失主', '上述事实', '被告人', '童某', '开庭审理', '过程', '无异议', '接受', '刑事案件', '登记表', '失主', '陈述', '证人', '证言', '同伙', '供述', '刑事', '判决书', '辨认', '笔录', '照片', '身份证明', '搜查', '笔录', '扣押', '发还', '物品', '清单', '价格', '鉴定结论', '抓获', '证据', '予以', '证实', '足以认定'], tags=[9])"
      ]
     },
     "execution_count": 6,
     "metadata": {},
     "output_type": "execute_result"
    }
   ],
   "source": [
    "words = text.strip().split(' ')\n",
    "tags = [int(words[0][2:])]\n",
    "words = words[1:]\n",
    "print(words[0:4])\n",
    "print(tags)\n",
    "sd = SentimentDocument(words,tags)\n",
    "sd"
   ]
  },
  {
   "cell_type": "code",
   "execution_count": 7,
   "metadata": {},
   "outputs": [],
   "source": [
    "doc_list = Doc_list(config.feat_d2v)"
   ]
  },
  {
   "cell_type": "code",
   "execution_count": 9,
   "metadata": {},
   "outputs": [
    {
     "data": {
      "text/plain": [
       "<__main__.Doc_list at 0xb1b9978>"
      ]
     },
     "execution_count": 9,
     "metadata": {},
     "output_type": "execute_result"
    }
   ],
   "source": [
    "doc_list"
   ]
  },
  {
   "cell_type": "code",
   "execution_count": 11,
   "metadata": {},
   "outputs": [
    {
     "data": {
      "text/plain": [
       "'D:/ML_Study/2017-CCF-BDCI-AIJudge/data/output/corpus/doc_for_d2v_12w.txt'"
      ]
     },
     "execution_count": 11,
     "metadata": {},
     "output_type": "execute_result"
    }
   ],
   "source": [
    "config.feat_d2v"
   ]
  },
  {
   "cell_type": "markdown",
   "metadata": {},
   "source": [
    "## distributed bag of words －doc2vec 模型训练和预测"
   ]
  },
  {
   "cell_type": "code",
   "execution_count": 14,
   "metadata": {},
   "outputs": [
    {
     "name": "stdout",
     "output_type": "stream",
     "text": [
      "distributed bag of words ..........\n",
      "2019-04-01 16:04:27 pass:0\n",
      "2019-04-01 16:04:28 dbow: [0.34782609 0.31818182 0.19047619 0.33333333 0.5       ] 0.3379634857895727\n",
      "2019-04-01 16:04:28 pass:1\n",
      "2019-04-01 16:04:28 dbow: [0.43478261 0.31818182 0.23809524 0.33333333 0.5       ] 0.36487859966120834\n",
      "2019-04-01 16:04:28 pass:2\n",
      "2019-04-01 16:04:28 dbow: [0.43478261 0.31818182 0.23809524 0.33333333 0.5       ] 0.36487859966120834\n",
      "2019-04-01 16:04:28 pass:3\n",
      "2019-04-01 16:04:28 dbow: [0.30434783 0.40909091 0.28571429 0.33333333 0.5       ] 0.366497270845097\n",
      "2019-04-01 16:04:28 pass:4\n",
      "2019-04-01 16:04:29 dbow: [0.34782609 0.31818182 0.19047619 0.33333333 0.5       ] 0.3379634857895727\n"
     ]
    }
   ],
   "source": [
    "print(\"distributed bag of words ..........\")\n",
    "d2v = Doc2Vec(dm=0, size=300, negative=5, hs=0, min_count=3, window=30, sample=1e-5, workers=8, alpha=0.025,min_alpha=0.025)\n",
    "d2v.build_vocab(doc_list)\n",
    "\n",
    "for i in range(5):\n",
    "    LOGGER.log('pass:' + str(i))\n",
    "    d2v.train(doc_list, total_examples=d2v.corpus_count, epochs=d2v.iter)\n",
    "    X_d2v = np.array([d2v.docvecs[i] for i in range(rows)])\n",
    "    '''\n",
    "        Evaluate a score by cross-validation\n",
    "        Array of scores of the estimator for each run of the cross validation\n",
    "\n",
    "        scores：返回cv＝6 每次的得分\n",
    "    '''\n",
    "    scores = cross_val_score(LogisticRegression(C=3.0),X_d2v,y,cv=5) #ross_val_score(lasso, X, y)\n",
    "    LOGGER.log('dbow: ' + str(scores) + ' ' + str(np.mean(scores)))"
   ]
  },
  {
   "cell_type": "code",
   "execution_count": 15,
   "metadata": {},
   "outputs": [
    {
     "name": "stdout",
     "output_type": "stream",
     "text": [
      "2019-04-01 16:04:33 Save done!\n"
     ]
    }
   ],
   "source": [
    "d2v.save(config.model_d2v_dbow)\n",
    "LOGGER.log('Save done!')"
   ]
  },
  {
   "cell_type": "code",
   "execution_count": 16,
   "metadata": {},
   "outputs": [
    {
     "data": {
      "text/plain": [
       "array([-8.61452520e-03,  3.63759287e-02,  1.66141599e-01,  1.52416378e-01,\n",
       "        1.98822655e-02,  3.54253352e-02,  7.25035295e-02, -1.91939380e-02,\n",
       "       -1.23215444e-01,  1.55254349e-01, -3.63544375e-02, -4.37453352e-02,\n",
       "        1.54316768e-01, -2.35546902e-02,  1.77426249e-04, -2.44019125e-02,\n",
       "       -1.73810691e-01, -2.46189442e-02,  7.23381415e-02, -8.76142383e-02,\n",
       "        2.90353626e-01,  1.00330219e-01, -1.15160242e-01,  3.09184995e-02,\n",
       "        1.65367544e-01, -5.62796555e-02,  1.26652360e-01,  9.68257859e-02,\n",
       "        1.33450732e-01, -1.42237067e-01,  3.53322066e-02, -1.42342970e-01,\n",
       "       -1.27665281e-01, -2.64664739e-01,  5.25391623e-02,  6.04883581e-02,\n",
       "        5.88680282e-02, -2.25655526e-01,  1.01206422e-01,  1.67621560e-02,\n",
       "       -1.73885059e-02,  1.55603826e-01, -1.75726965e-01, -1.07444257e-01,\n",
       "        1.24117270e-01, -4.07234244e-02,  1.45949617e-01,  1.45224899e-01,\n",
       "        4.00274200e-03,  1.46330714e-01, -1.66181013e-01, -4.07856517e-02,\n",
       "       -4.71424162e-02,  1.23793520e-01,  2.49167383e-02, -6.06092140e-02,\n",
       "        3.00687850e-02,  9.29659978e-02, -2.44688019e-01,  2.45233864e-01,\n",
       "        7.46947080e-02,  1.83791548e-01, -6.13033213e-02, -1.40047535e-01,\n",
       "       -8.69752467e-02,  6.09721020e-02,  1.28180057e-01, -5.42941354e-02,\n",
       "        5.87457754e-02, -7.63986679e-03, -1.84800662e-02,  6.19828291e-02,\n",
       "       -4.58169840e-02, -8.90305713e-02, -1.67503253e-01,  1.22115821e-01,\n",
       "       -9.96642187e-02,  5.37358504e-03,  4.72652763e-02, -6.12044446e-02,\n",
       "       -8.97351876e-02,  2.68816315e-02, -2.35610195e-02,  2.45292764e-02,\n",
       "        9.64977518e-02,  1.81530014e-01, -5.32979555e-02, -6.52687475e-02,\n",
       "       -1.75529364e-02,  8.81020650e-02, -2.13348776e-01,  8.42736438e-02,\n",
       "       -7.04058586e-03,  1.05368689e-01,  9.27971303e-02, -9.28970799e-02,\n",
       "       -2.05151990e-01,  1.07054561e-01, -1.72793925e-01,  1.58019252e-02,\n",
       "       -3.77626196e-02,  8.77452046e-02,  1.07973725e-01,  8.26912001e-03,\n",
       "       -5.22782169e-02, -9.08201654e-03,  1.28482729e-01, -1.46341994e-01,\n",
       "       -1.60823688e-01, -5.35385162e-02,  7.38541735e-03, -1.91406459e-02,\n",
       "        1.59352243e-01, -2.46342812e-02, -3.25122587e-02, -6.73614219e-02,\n",
       "        1.88349932e-02,  1.61331668e-01, -1.46308154e-01, -1.07742980e-01,\n",
       "       -9.65470001e-02,  3.98769751e-02,  1.66092679e-01,  8.61138571e-03,\n",
       "       -1.17376126e-01,  1.33872464e-01,  1.98309333e-03, -6.13892898e-02,\n",
       "        7.96287358e-02, -8.79663005e-02, -4.82272869e-03,  3.04434802e-02,\n",
       "        1.77085802e-01, -1.00515574e-01, -6.93040490e-02, -1.53265491e-01,\n",
       "        7.62561113e-02,  4.04980518e-02, -2.57437136e-02, -1.14958081e-02,\n",
       "       -1.74254011e-02,  7.79391453e-02, -1.40072629e-01,  1.72736496e-01,\n",
       "        1.92798868e-01, -2.33934280e-02,  1.13819242e-01,  1.25848472e-01,\n",
       "       -1.13244884e-01, -1.29096135e-01, -9.81747806e-02,  5.57071306e-02,\n",
       "        4.62559201e-02, -1.99569181e-01,  6.56555891e-02,  5.80482185e-02,\n",
       "       -2.06618577e-01,  3.96869890e-02,  8.23818818e-02, -1.08321488e-01,\n",
       "        9.93127376e-02, -1.70810789e-01, -1.18359409e-01, -1.20804913e-01,\n",
       "       -1.27381654e-02, -1.54514879e-01,  3.84683646e-02, -5.67359431e-03,\n",
       "        4.55508232e-02, -2.29905657e-02,  9.81998667e-02, -1.59458250e-01,\n",
       "       -1.96156487e-01,  1.18436150e-01, -1.80493489e-01, -2.47646317e-01,\n",
       "        1.66465148e-01,  1.68998763e-01,  2.20978800e-02, -1.00081861e-01,\n",
       "        1.34355232e-01, -1.41323537e-01, -7.80034997e-03,  1.24973141e-01,\n",
       "        4.92725987e-03, -1.58471555e-01, -8.73905420e-02,  2.19274998e-01,\n",
       "       -4.17369641e-02, -4.89297844e-02, -4.16636467e-02,  7.40951598e-02,\n",
       "        6.76290318e-02,  2.08832771e-01,  1.25874981e-01,  1.69709474e-02,\n",
       "       -1.42447487e-01,  5.85431010e-02, -9.53212846e-03,  1.02159545e-01,\n",
       "        7.21062869e-02, -6.78116456e-02,  2.32893556e-01,  2.07497105e-01,\n",
       "        2.40939483e-01,  1.06635571e-01,  1.23610824e-01,  1.20221607e-01,\n",
       "        1.13487996e-01,  2.31397115e-02, -2.05072135e-01,  1.54400855e-01,\n",
       "        1.58654854e-01, -1.68946832e-02, -8.00220519e-02,  2.31800601e-01,\n",
       "       -2.05672830e-02,  7.75946677e-03,  1.08466782e-02, -5.22177331e-02,\n",
       "       -6.14877902e-02, -1.41782183e-02, -2.10863292e-01,  1.98337659e-01,\n",
       "        1.25609756e-01, -1.66445244e-02,  5.13438880e-02,  4.88327481e-02,\n",
       "        1.85436860e-01,  1.78528398e-01, -9.04964656e-02,  9.02388021e-02,\n",
       "       -4.41481359e-02, -1.34440814e-03, -1.19718075e-01, -4.60303798e-02,\n",
       "       -1.77494269e-02,  1.08289011e-02, -3.94567624e-02, -8.58235434e-02,\n",
       "        2.56347537e-01, -1.32586226e-01,  2.54684836e-02, -9.53023955e-02,\n",
       "        1.86909109e-01, -4.66908440e-02, -1.25638127e-01, -7.24941939e-02,\n",
       "        2.11680070e-01,  1.03294840e-02, -6.12687133e-02,  5.85996434e-02,\n",
       "        7.70814344e-02, -2.80114580e-02, -1.30745778e-02,  1.57458544e-01,\n",
       "        5.65134268e-03,  5.72716147e-02,  8.21705386e-02,  1.39762620e-02,\n",
       "        2.56014219e-03,  6.84123039e-02, -2.14126669e-02,  9.59944427e-02,\n",
       "       -2.18186036e-01, -1.41193017e-01, -1.38261095e-02,  2.05879472e-02,\n",
       "        1.41928092e-01, -9.15833488e-02, -1.64280593e-01,  2.07557261e-01,\n",
       "       -1.23413168e-02, -2.51152098e-01, -1.05371200e-01, -2.34050304e-02,\n",
       "       -1.97940394e-01, -2.45554328e-01,  4.03378606e-02, -3.30183432e-02,\n",
       "       -1.40260562e-01, -4.66248766e-02,  5.74013144e-02,  4.21039807e-03,\n",
       "        1.84478596e-01,  8.19726754e-03,  7.00454116e-02, -4.69012298e-02,\n",
       "       -2.02173404e-02, -1.32681265e-01, -1.50256038e-01,  1.51363268e-01,\n",
       "        2.72574484e-01,  1.31654635e-01, -6.42311275e-02,  8.82952735e-02,\n",
       "        8.02408531e-02, -3.16219218e-02,  3.35746966e-02,  3.90999652e-02],\n",
       "      dtype=float32)"
      ]
     },
     "execution_count": 16,
     "metadata": {},
     "output_type": "execute_result"
    }
   ],
   "source": [
    "# 获取编号“0” 文档的向量\n",
    "d2v.docvecs[0]"
   ]
  },
  {
   "cell_type": "markdown",
   "metadata": {},
   "source": [
    "## distributed memory -doc2vec 模型训练和预测"
   ]
  },
  {
   "cell_type": "code",
   "execution_count": 17,
   "metadata": {},
   "outputs": [
    {
     "name": "stdout",
     "output_type": "stream",
     "text": [
      "2019-04-01 16:04:34 pass:0\n",
      "2019-04-01 16:04:35 dm: [0.34782609 0.27272727 0.23809524 0.38888889 0.5625    ] 0.3620074973335843\n",
      "2019-04-01 16:04:35 pass:1\n",
      "2019-04-01 16:04:35 dm: [0.30434783 0.31818182 0.19047619 0.33333333 0.5       ] 0.3292678336156597\n",
      "2019-04-01 16:04:35 pass:2\n",
      "2019-04-01 16:04:35 dm: [0.34782609 0.31818182 0.23809524 0.33333333 0.5       ] 0.34748729531338224\n",
      "2019-04-01 16:04:35 pass:3\n",
      "2019-04-01 16:04:35 dm: [0.34782609 0.31818182 0.23809524 0.33333333 0.5       ] 0.34748729531338224\n",
      "2019-04-01 16:04:35 pass:4\n",
      "2019-04-01 16:04:36 dm: [0.34782609 0.31818182 0.23809524 0.33333333 0.5       ] 0.34748729531338224\n"
     ]
    }
   ],
   "source": [
    "d2v = Doc2Vec(dm=1, size=300, negative=5, hs=0, min_count=3, window=30, sample=1e-5, workers=8, alpha=0.025,\n",
    "              min_alpha=0.025)\n",
    "d2v.build_vocab(doc_list)\n",
    "for i in range(5):\n",
    "    LOGGER.log('pass:' + str(i))\n",
    "    d2v.train(doc_list, total_examples=d2v.corpus_count, epochs=d2v.iter)\n",
    "    X_d2v = np.array([d2v.docvecs[i] for i in range(rows)])\n",
    "    scores = cross_val_score(LogisticRegression(C=3.0), X_d2v, y, cv=5)  # ross_val_score(lasso, X, y)\n",
    "    LOGGER.log('dm: ' + str(scores) + ' ' + str(np.mean(scores)))"
   ]
  },
  {
   "cell_type": "code",
   "execution_count": 18,
   "metadata": {},
   "outputs": [
    {
     "name": "stdout",
     "output_type": "stream",
     "text": [
      "2019-04-01 16:04:42 Save done!\n"
     ]
    }
   ],
   "source": [
    "d2v.save(config.model_d2v_dm)\n",
    "LOGGER.log('Save done!')"
   ]
  },
  {
   "cell_type": "code",
   "execution_count": null,
   "metadata": {},
   "outputs": [],
   "source": []
  }
 ],
 "metadata": {
  "kernelspec": {
   "display_name": "Python 3",
   "language": "python",
   "name": "python3"
  },
  "language_info": {
   "codemirror_mode": {
    "name": "ipython",
    "version": 3
   },
   "file_extension": ".py",
   "mimetype": "text/x-python",
   "name": "python",
   "nbconvert_exporter": "python",
   "pygments_lexer": "ipython3",
   "version": "3.6.5"
  }
 },
 "nbformat": 4,
 "nbformat_minor": 2
}
