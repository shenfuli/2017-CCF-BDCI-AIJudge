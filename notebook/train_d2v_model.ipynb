{
 "cells": [
  {
   "cell_type": "code",
   "execution_count": 1,
   "metadata": {},
   "outputs": [],
   "source": [
    "import sys\n",
    "sys.path.append(\"/Users/zhengwenjie/AI/work/ML_3/2017-CCF-BDCI-AIJudge\")"
   ]
  },
  {
   "cell_type": "code",
   "execution_count": 4,
   "metadata": {},
   "outputs": [],
   "source": [
    "# -*- encoding:utf-8 -*-\n",
    "import codecs\n",
    "import subprocess\n",
    "from collections import namedtuple\n",
    "\n",
    "import numpy as np\n",
    "import pandas as pd\n",
    "from gensim.models import Doc2Vec\n",
    "from sklearn.cross_validation import cross_val_score\n",
    "from sklearn.linear_model import LogisticRegression\n",
    "from utils import LOGGER\n",
    "from config.db_config import Config\n",
    "import warnings \n",
    "warnings.filterwarnings('ignore')\n",
    "config = Config()"
   ]
  },
  {
   "cell_type": "markdown",
   "metadata": {},
   "source": [
    "## 加载数据"
   ]
  },
  {
   "cell_type": "code",
   "execution_count": 5,
   "metadata": {},
   "outputs": [],
   "source": [
    "data_df = pd.read_csv(config.data_csv_path, encoding='utf-8')\n",
    "y = data_df['penalty'] - 1\n",
    "rows = data_df.shape[0]"
   ]
  },
  {
   "cell_type": "markdown",
   "metadata": {},
   "source": [
    "## 准备doc2vec 格式数据"
   ]
  },
  {
   "cell_type": "code",
   "execution_count": 6,
   "metadata": {},
   "outputs": [
    {
     "name": "stdout",
     "output_type": "stream",
     "text": [
      "2019-03-28 22:00:15 iter=0\n"
     ]
    }
   ],
   "source": [
    "SentimentDocument = namedtuple('SentimentDocument', 'words tags')\n",
    "class Doc_list(object):\n",
    "\n",
    "    def __init__(self, f):\n",
    "        self.f = f\n",
    "    def __iter__(self):\n",
    "        for i,line in enumerate(codecs.open(self.f,encoding='utf8')):\n",
    "            words = line.strip().split(' ')\n",
    "            tags = [int(words[0][2:])]\n",
    "            words = words[1:]\n",
    "            yield SentimentDocument(words,tags) \n",
    "            \n",
    "def write_d2v_data_path(content_list):\n",
    "    doc_f = codecs.open(config.feat_d2v, encoding='utf-8', mode='w')\n",
    "    for i, content in enumerate(content_list):\n",
    "        if i % 10000 == 0:\n",
    "            LOGGER.log('iter=%d' % i)\n",
    "        doc_f.write(u'_*{} {}\\n'.format(i, content))\n",
    "    doc_f.close()\n",
    "\n",
    "write_d2v_data_path(data_df['content'])"
   ]
  },
  {
   "cell_type": "code",
   "execution_count": 7,
   "metadata": {},
   "outputs": [],
   "source": [
    "text=\"_*9 公诉 机关 平湖市 人民检察院 被告人 童某 个体 拆房 因涉嫌 盗窃罪 2012 平湖市 公安局 刑事拘留 同年 依法逮捕 羁押于 本市 看守所 平湖市 人民检察院 以平检 刑诉 2012 525 起诉书 指控 被告人 某犯 盗窃罪 2012 日向 本院 提起公诉 本院 同日 受理 依法 简易程序 实行 独任 审判 公开 开庭审理 本案 被告人 童某 到庭 参加 诉讼 现已 审理 终结 2008 时许 被告人 童某 童得明 判刑 本市 曹桥 街道 愚桥 村大 竹园 废品收购 被告人 童某 路边 望风 童得明 采用 搭线 手段 得失 停放 该处 华益牌 电瓶 三轮车 一辆 价值 2475 查明 赃物 电瓶 三轮车 扣押 发还 失主 上述事实 被告人 童某 开庭审理 过程 无异议 接受 刑事案件 登记表 失主 陈述 证人 证言 同伙 供述 刑事 判决书 辨认 笔录 照片 身份证明 搜查 笔录 扣押 发还 物品 清单 价格 鉴定结论 抓获 证据 予以 证实 足以认定\""
   ]
  },
  {
   "cell_type": "code",
   "execution_count": 8,
   "metadata": {},
   "outputs": [
    {
     "name": "stdout",
     "output_type": "stream",
     "text": [
      "['公诉', '机关', '平湖市', '人民检察院']\n",
      "[9]\n"
     ]
    },
    {
     "data": {
      "text/plain": [
       "SentimentDocument(words=['公诉', '机关', '平湖市', '人民检察院', '被告人', '童某', '个体', '拆房', '因涉嫌', '盗窃罪', '2012', '平湖市', '公安局', '刑事拘留', '同年', '依法逮捕', '羁押于', '本市', '看守所', '平湖市', '人民检察院', '以平检', '刑诉', '2012', '525', '起诉书', '指控', '被告人', '某犯', '盗窃罪', '2012', '日向', '本院', '提起公诉', '本院', '同日', '受理', '依法', '简易程序', '实行', '独任', '审判', '公开', '开庭审理', '本案', '被告人', '童某', '到庭', '参加', '诉讼', '现已', '审理', '终结', '2008', '时许', '被告人', '童某', '童得明', '判刑', '本市', '曹桥', '街道', '愚桥', '村大', '竹园', '废品收购', '被告人', '童某', '路边', '望风', '童得明', '采用', '搭线', '手段', '得失', '停放', '该处', '华益牌', '电瓶', '三轮车', '一辆', '价值', '2475', '查明', '赃物', '电瓶', '三轮车', '扣押', '发还', '失主', '上述事实', '被告人', '童某', '开庭审理', '过程', '无异议', '接受', '刑事案件', '登记表', '失主', '陈述', '证人', '证言', '同伙', '供述', '刑事', '判决书', '辨认', '笔录', '照片', '身份证明', '搜查', '笔录', '扣押', '发还', '物品', '清单', '价格', '鉴定结论', '抓获', '证据', '予以', '证实', '足以认定'], tags=[9])"
      ]
     },
     "execution_count": 8,
     "metadata": {},
     "output_type": "execute_result"
    }
   ],
   "source": [
    "words = text.strip().split(' ')\n",
    "tags = [int(words[0][2:])]\n",
    "words = words[1:]\n",
    "print(words[0:4])\n",
    "print(tags)\n",
    "sd = SentimentDocument(words,tags)\n",
    "sd"
   ]
  },
  {
   "cell_type": "code",
   "execution_count": 9,
   "metadata": {},
   "outputs": [],
   "source": [
    "doc_list = Doc_list(config.feat_d2v)"
   ]
  },
  {
   "cell_type": "markdown",
   "metadata": {},
   "source": [
    "## distributed bag of words －doc2vec 模型训练和预测"
   ]
  },
  {
   "cell_type": "code",
   "execution_count": 10,
   "metadata": {},
   "outputs": [
    {
     "name": "stdout",
     "output_type": "stream",
     "text": [
      "distributed bag of words ..........\n",
      "2019-03-28 22:00:17 pass:0\n",
      "2019-03-28 22:00:17 dbow: [0.30434783 0.31818182 0.23809524 0.33333333 0.5625    ] 0.3512916431394692\n",
      "2019-03-28 22:00:17 pass:1\n",
      "2019-03-28 22:00:18 dbow: [0.43478261 0.31818182 0.23809524 0.33333333 0.5       ] 0.36487859966120834\n",
      "2019-03-28 22:00:18 pass:2\n",
      "2019-03-28 22:00:18 dbow: [0.39130435 0.36363636 0.23809524 0.33333333 0.5       ] 0.36527385657820444\n",
      "2019-03-28 22:00:18 pass:3\n",
      "2019-03-28 22:00:18 dbow: [0.34782609 0.36363636 0.23809524 0.33333333 0.5       ] 0.35657820440429133\n",
      "2019-03-28 22:00:18 pass:4\n",
      "2019-03-28 22:00:18 dbow: [0.34782609 0.27272727 0.23809524 0.33333333 0.5       ] 0.33839638622247314\n"
     ]
    }
   ],
   "source": [
    "print(\"distributed bag of words ..........\")\n",
    "d2v = Doc2Vec(dm=0, size=100, negative=5, hs=0, min_count=3, window=30, sample=1e-5, workers=8, alpha=0.025,min_alpha=0.025)\n",
    "d2v.build_vocab(doc_list)\n",
    "\n",
    "for i in range(5):\n",
    "    LOGGER.log('pass:' + str(i))\n",
    "    d2v.train(doc_list, total_examples=d2v.corpus_count, epochs=d2v.iter)\n",
    "    X_d2v = np.array([d2v.docvecs[i] for i in range(rows)])\n",
    "    '''\n",
    "        Evaluate a score by cross-validation\n",
    "        Array of scores of the estimator for each run of the cross validation\n",
    "\n",
    "        scores：返回cv＝6 每次的得分\n",
    "    '''\n",
    "    scores = cross_val_score(LogisticRegression(C=3.0),X_d2v,y,cv=5) #ross_val_score(lasso, X, y)\n",
    "    LOGGER.log('dbow: ' + str(scores) + ' ' + str(np.mean(scores)))"
   ]
  },
  {
   "cell_type": "code",
   "execution_count": 13,
   "metadata": {},
   "outputs": [
    {
     "name": "stdout",
     "output_type": "stream",
     "text": [
      "2019-03-28 22:00:45 Save done!\n"
     ]
    }
   ],
   "source": [
    "d2v.save(config.model_d2v_dbow)\n",
    "LOGGER.log('Save done!')"
   ]
  },
  {
   "cell_type": "code",
   "execution_count": 18,
   "metadata": {},
   "outputs": [
    {
     "data": {
      "text/plain": [
       "array([-0.20439804, -0.04536807, -0.01064888, -0.27962515,  0.03723795,\n",
       "       -0.07628016, -0.09852917, -0.23500569,  0.19499229, -0.20717788,\n",
       "       -0.02695188, -0.16233839, -0.02680836, -0.06450634,  0.09936735,\n",
       "        0.07089463,  0.1180456 , -0.03552295,  0.09178151, -0.33912387,\n",
       "       -0.0420421 ,  0.14866246, -0.06491967, -0.14977627,  0.0825924 ,\n",
       "        0.04756051,  0.02309666, -0.0400833 , -0.05145013, -0.08553205,\n",
       "       -0.11951987,  0.03215332,  0.15663576,  0.03454518, -0.19814734,\n",
       "        0.05819818, -0.17084774,  0.01311904, -0.24051586, -0.08189647,\n",
       "       -0.05384031,  0.09810992,  0.01274253, -0.02541074,  0.16730721,\n",
       "       -0.16204193, -0.17962602,  0.15194967, -0.05110624, -0.03862314,\n",
       "       -0.18381326,  0.05639948,  0.01246327, -0.10676739, -0.19105582,\n",
       "       -0.0766048 ,  0.02736868,  0.00748024,  0.10232171, -0.07977441,\n",
       "       -0.16150486, -0.2095442 ,  0.03265984,  0.03971203,  0.01211743,\n",
       "       -0.00999495, -0.28400028,  0.07465234,  0.15976109,  0.16593672,\n",
       "       -0.183578  ,  0.22643338,  0.12847678,  0.07847951,  0.07864466,\n",
       "        0.18326424,  0.01916303, -0.18679364, -0.01260434,  0.25427678,\n",
       "       -0.06578083, -0.14445998, -0.00149523, -0.04969174,  0.12169275,\n",
       "        0.10078125,  0.01243782, -0.02611728,  0.21482106,  0.1663729 ,\n",
       "        0.21851175, -0.24646348, -0.11340802,  0.0678713 , -0.048432  ,\n",
       "        0.04610828, -0.02556751, -0.06791229,  0.0099178 , -0.0778067 ],\n",
       "      dtype=float32)"
      ]
     },
     "execution_count": 18,
     "metadata": {},
     "output_type": "execute_result"
    }
   ],
   "source": [
    "# 获取编号“0” 文档的向量\n",
    "d2v.docvecs[0]"
   ]
  },
  {
   "cell_type": "markdown",
   "metadata": {},
   "source": [
    "## distributed memory -doc2vec 模型训练和预测"
   ]
  },
  {
   "cell_type": "code",
   "execution_count": 14,
   "metadata": {},
   "outputs": [
    {
     "name": "stdout",
     "output_type": "stream",
     "text": [
      "2019-03-28 22:00:51 pass:0\n",
      "2019-03-28 22:00:51 dm: [0.34782609 0.31818182 0.23809524 0.44444444 0.5       ] 0.3697095175356045\n",
      "2019-03-28 22:00:51 pass:1\n",
      "2019-03-28 22:00:51 dm: [0.30434783 0.31818182 0.28571429 0.33333333 0.4375    ] 0.3358154526632787\n",
      "2019-03-28 22:00:51 pass:2\n",
      "2019-03-28 22:00:51 dm: [0.39130435 0.31818182 0.23809524 0.33333333 0.5       ] 0.3561829474872953\n",
      "2019-03-28 22:00:51 pass:3\n",
      "2019-03-28 22:00:52 dm: [0.39130435 0.31818182 0.23809524 0.33333333 0.4375    ] 0.3436829474872953\n",
      "2019-03-28 22:00:52 pass:4\n",
      "2019-03-28 22:00:52 dm: [0.39130435 0.31818182 0.23809524 0.33333333 0.4375    ] 0.3436829474872953\n"
     ]
    }
   ],
   "source": [
    "d2v = Doc2Vec(dm=1, size=100, negative=5, hs=0, min_count=3, window=30, sample=1e-5, workers=8, alpha=0.025,\n",
    "              min_alpha=0.025)\n",
    "d2v.build_vocab(doc_list)\n",
    "for i in range(5):\n",
    "    LOGGER.log('pass:' + str(i))\n",
    "    d2v.train(doc_list, total_examples=d2v.corpus_count, epochs=d2v.iter)\n",
    "    X_d2v = np.array([d2v.docvecs[i] for i in range(rows)])\n",
    "    scores = cross_val_score(LogisticRegression(C=3.0), X_d2v, y, cv=5)  # ross_val_score(lasso, X, y)\n",
    "    LOGGER.log('dm: ' + str(scores) + ' ' + str(np.mean(scores)))"
   ]
  },
  {
   "cell_type": "code",
   "execution_count": 15,
   "metadata": {},
   "outputs": [
    {
     "name": "stdout",
     "output_type": "stream",
     "text": [
      "2019-03-28 22:01:02 Save done!\n"
     ]
    }
   ],
   "source": [
    "d2v.save(config.model_d2v_dm)\n",
    "LOGGER.log('Save done!')"
   ]
  },
  {
   "cell_type": "code",
   "execution_count": null,
   "metadata": {},
   "outputs": [],
   "source": []
  }
 ],
 "metadata": {
  "kernelspec": {
   "display_name": "Python 3",
   "language": "python",
   "name": "python3"
  },
  "language_info": {
   "codemirror_mode": {
    "name": "ipython",
    "version": 3
   },
   "file_extension": ".py",
   "mimetype": "text/x-python",
   "name": "python",
   "nbconvert_exporter": "python",
   "pygments_lexer": "ipython3",
   "version": "3.7.2"
  }
 },
 "nbformat": 4,
 "nbformat_minor": 2
}
