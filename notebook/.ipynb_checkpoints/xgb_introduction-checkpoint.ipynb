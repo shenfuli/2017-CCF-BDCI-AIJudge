{
 "cells": [
  {
   "cell_type": "markdown",
   "metadata": {},
   "source": [
    "## xgboost 工作原理"
   ]
  },
  {
   "cell_type": "markdown",
   "metadata": {},
   "source": [
    "https://www.cnblogs.com/zhouxiaohui888/p/6008368.html"
   ]
  },
  {
   "cell_type": "markdown",
   "metadata": {},
   "source": [
    "## 1.github 实例代码 \n",
    "https://github.com/shenfuli/xgboost/blob/master/demo/multiclass_classification/train.py"
   ]
  },
  {
   "cell_type": "markdown",
   "metadata": {},
   "source": [
    "## 1.0 导入库"
   ]
  },
  {
   "cell_type": "code",
   "execution_count": 38,
   "metadata": {},
   "outputs": [],
   "source": [
    "import numpy as np\n",
    "import xgboost as xgb\n",
    "import warnings\n",
    "warnings.filterwarnings('ignore')"
   ]
  },
  {
   "cell_type": "markdown",
   "metadata": {},
   "source": [
    "## 1.1 加载数据"
   ]
  },
  {
   "cell_type": "code",
   "execution_count": 39,
   "metadata": {},
   "outputs": [],
   "source": [
    "data_path = \"D:/ML_Study/2017-CCF-BDCI-AIJudge/data/input/dermatology.data\"\n",
    "# label need to be 0 to num_class -1\n",
    "data = np.loadtxt(data_path, delimiter=',',converters={33: lambda x:int(x == '?'), 34: lambda x:int(x)-1 } )"
   ]
  },
  {
   "cell_type": "code",
   "execution_count": 40,
   "metadata": {},
   "outputs": [
    {
     "data": {
      "text/plain": [
       "(366, 35)"
      ]
     },
     "execution_count": 40,
     "metadata": {},
     "output_type": "execute_result"
    }
   ],
   "source": [
    "data.shape"
   ]
  },
  {
   "cell_type": "code",
   "execution_count": 70,
   "metadata": {},
   "outputs": [
    {
     "name": "stdout",
     "output_type": "stream",
     "text": [
      "366\n",
      "6\n"
     ]
    }
   ],
   "source": [
    "rows = data.shape[0]\n",
    "num_classes = len(np.unique(data[:,34:]))\n",
    "print(rows)\n",
    "print(num_classes)"
   ]
  },
  {
   "cell_type": "markdown",
   "metadata": {},
   "source": [
    "## 1.3 切分训练集测试集"
   ]
  },
  {
   "cell_type": "code",
   "execution_count": 42,
   "metadata": {},
   "outputs": [
    {
     "name": "stdout",
     "output_type": "stream",
     "text": [
      "(256, 35) (110, 35)\n"
     ]
    }
   ],
   "source": [
    "train = data[:int(rows * 0.7), :]\n",
    "test = data[int(rows * 0.7):, :]\n",
    "print(train.shape,test.shape)"
   ]
  },
  {
   "cell_type": "code",
   "execution_count": 54,
   "metadata": {},
   "outputs": [],
   "source": [
    "train_X = train[:,0:33]\n",
    "train_Y = train[:, 34].astype('int')\n",
    "\n",
    "test_X = test[:,0:33]\n",
    "test_Y = test[:, 34].astype('int')"
   ]
  },
  {
   "cell_type": "code",
   "execution_count": 55,
   "metadata": {},
   "outputs": [
    {
     "data": {
      "text/plain": [
       "array([[2., 2., 0., ..., 0., 1., 0.],\n",
       "       [3., 3., 3., ..., 0., 1., 0.],\n",
       "       [2., 1., 2., ..., 0., 2., 3.],\n",
       "       ...,\n",
       "       [2., 1., 2., ..., 0., 3., 2.],\n",
       "       [3., 1., 2., ..., 0., 2., 2.],\n",
       "       [2., 1., 2., ..., 0., 2., 2.]])"
      ]
     },
     "execution_count": 55,
     "metadata": {},
     "output_type": "execute_result"
    }
   ],
   "source": [
    "train_X"
   ]
  },
  {
   "cell_type": "code",
   "execution_count": 103,
   "metadata": {},
   "outputs": [
    {
     "name": "stdout",
     "output_type": "stream",
     "text": [
      "<class 'numpy.ndarray'>\n"
     ]
    },
    {
     "data": {
      "text/plain": [
       "array([[2., 1., 1., ..., 0., 1., 0.],\n",
       "       [3., 2., 1., ..., 0., 2., 0.],\n",
       "       [1., 2., 2., ..., 0., 1., 0.],\n",
       "       ...,\n",
       "       [3., 2., 2., ..., 0., 2., 3.],\n",
       "       [2., 1., 3., ..., 0., 2., 3.],\n",
       "       [3., 2., 2., ..., 0., 3., 0.]])"
      ]
     },
     "execution_count": 103,
     "metadata": {},
     "output_type": "execute_result"
    }
   ],
   "source": [
    "print(type(test_X))\n",
    "test_X"
   ]
  },
  {
   "cell_type": "code",
   "execution_count": 59,
   "metadata": {},
   "outputs": [
    {
     "data": {
      "text/plain": [
       "array([1, 0, 2, 0, 2, 1, 4, 2, 3, 3, 0, 1, 1, 0, 2, 3, 1, 0, 2, 4, 5, 1,\n",
       "       4, 2, 4, 0, 5, 4, 1, 2, 0, 1, 0, 0, 3, 1, 2, 1, 2, 0, 1, 3, 0, 1,\n",
       "       4, 2, 3, 5, 1, 2, 2, 3, 0, 0, 4, 0, 1, 2, 3, 1, 5, 0, 4, 0, 1, 2,\n",
       "       0, 3, 4, 0, 1, 5, 2, 4, 3, 1, 1, 0, 2, 4, 0, 1, 1, 1, 4, 0, 0, 2,\n",
       "       0, 3, 1, 1, 4, 0, 2, 3, 1, 4, 0, 5, 1, 4, 0, 1, 1, 0, 3, 0, 2, 0,\n",
       "       0, 2, 4, 2, 2, 4, 1, 2, 3, 0, 1, 4, 5, 0, 0, 1, 5, 2, 4, 3, 0, 0,\n",
       "       2, 4, 4, 0, 3, 1, 2, 0, 1, 0, 0, 2, 2, 2, 1, 4, 3, 1, 1, 0, 0, 0,\n",
       "       4, 2, 1, 2, 1, 1, 3, 1, 2, 5, 1, 0, 0, 2, 3, 2, 2, 0, 0, 0, 2, 0,\n",
       "       0, 1, 2, 2, 0, 0, 0, 0, 5, 1, 1, 1, 1, 0, 2, 2, 2, 0, 0, 1, 2, 1,\n",
       "       1, 1, 4, 4, 4, 4, 4, 0, 0, 0, 0, 0, 0, 0, 2, 2, 2, 2, 2, 2, 3, 3,\n",
       "       3, 3, 4, 4, 4, 4, 4, 4, 4, 1, 1, 1, 1, 0, 0, 0, 0, 0, 0, 5, 5, 0,\n",
       "       0, 0, 0, 0, 0, 0, 0, 2, 2, 2, 2, 2, 2, 2])"
      ]
     },
     "execution_count": 59,
     "metadata": {},
     "output_type": "execute_result"
    }
   ],
   "source": [
    "train_Y"
   ]
  },
  {
   "cell_type": "code",
   "execution_count": 60,
   "metadata": {},
   "outputs": [
    {
     "name": "stdout",
     "output_type": "stream",
     "text": [
      "[0 1 2 3 4 5] [0 1 2 3 4 5]\n"
     ]
    }
   ],
   "source": [
    "print(np.unique(train_Y),np.unique(test_Y))"
   ]
  },
  {
   "cell_type": "markdown",
   "metadata": {},
   "source": [
    "## 1.4 模型训练"
   ]
  },
  {
   "cell_type": "code",
   "execution_count": 61,
   "metadata": {},
   "outputs": [],
   "source": [
    "xg_train=xgb.DMatrix(train_X,label=train_Y)\n",
    "xg_test=xgb.DMatrix(train_X,label=train_Y)"
   ]
  },
  {
   "cell_type": "code",
   "execution_count": 71,
   "metadata": {},
   "outputs": [],
   "source": [
    "# setup parameters for xgboost\n",
    "param = {}\n",
    "# use softmax multi-class classification\n",
    "param['objective'] = 'multi:softmax'\n",
    "# scale weight of positive examples\n",
    "param['eta'] = 0.1\n",
    "param['max_depth'] = 6\n",
    "param['silent'] = 1\n",
    "param['nthread'] = 4\n",
    "param['num_class'] = num_classes"
   ]
  },
  {
   "cell_type": "code",
   "execution_count": 63,
   "metadata": {},
   "outputs": [
    {
     "name": "stdout",
     "output_type": "stream",
     "text": [
      "[0]\ttrain-merror:0.011719\ttest-merror:0.011719\n",
      "[1]\ttrain-merror:0.015625\ttest-merror:0.015625\n",
      "[2]\ttrain-merror:0.011719\ttest-merror:0.011719\n",
      "[3]\ttrain-merror:0.007813\ttest-merror:0.007813\n",
      "[4]\ttrain-merror:0.007813\ttest-merror:0.007813\n"
     ]
    }
   ],
   "source": [
    "watchlist = [ (xg_train,'train'), (xg_test, 'test') ]\n",
    "num_round = 5\n",
    "bst = xgb.train(param, xg_train, num_round, watchlist);"
   ]
  },
  {
   "cell_type": "markdown",
   "metadata": {},
   "source": [
    "## 1.5 预测"
   ]
  },
  {
   "cell_type": "code",
   "execution_count": 91,
   "metadata": {},
   "outputs": [],
   "source": [
    "def evalute_metrics(y_pred,y_test):\n",
    "    test_size = len(y_test)\n",
    "    error_sum=0\n",
    "    for i in range(test_size):\n",
    "        error_sum+=int(pred[i]) != int(y_test[i])\n",
    "    \n",
    "    result = 1.0 * error_sum / test_size\n",
    "    return result  "
   ]
  },
  {
   "cell_type": "code",
   "execution_count": 92,
   "metadata": {},
   "outputs": [],
   "source": [
    "y_pred = bst.predict( xg_test )"
   ]
  },
  {
   "cell_type": "code",
   "execution_count": 93,
   "metadata": {},
   "outputs": [
    {
     "name": "stdout",
     "output_type": "stream",
     "text": [
      "predicting, classification error=0.8090909090909091\n"
     ]
    }
   ],
   "source": [
    "print ('predicting, classification error={}'.format(evalute_metrics(y_pred,test_Y)))"
   ]
  },
  {
   "cell_type": "code",
   "execution_count": 94,
   "metadata": {},
   "outputs": [
    {
     "name": "stdout",
     "output_type": "stream",
     "text": [
      "predicting, classification error=0.809091\n"
     ]
    }
   ],
   "source": [
    "print ('predicting, classification error=%f' % (sum( int(pred[i]) != test_Y[i] for i in range(len(test_Y))) / float(len(test_Y)) ))"
   ]
  },
  {
   "cell_type": "code",
   "execution_count": null,
   "metadata": {},
   "outputs": [],
   "source": []
  },
  {
   "cell_type": "code",
   "execution_count": 97,
   "metadata": {},
   "outputs": [
    {
     "name": "stdout",
     "output_type": "stream",
     "text": [
      "[0]\ttrain-merror:0.011719\ttest-merror:0.011719\n",
      "[1]\ttrain-merror:0.015625\ttest-merror:0.015625\n",
      "[2]\ttrain-merror:0.011719\ttest-merror:0.011719\n",
      "[3]\ttrain-merror:0.007813\ttest-merror:0.007813\n",
      "[4]\ttrain-merror:0.007813\ttest-merror:0.007813\n"
     ]
    }
   ],
   "source": [
    "# do the same thing again, but output probabilities\n",
    "param['objective'] = 'multi:softprob'\n",
    "bst = xgb.train(param, xg_train, num_round, watchlist );\n",
    "# Note: this convention has been changed since xgboost-unity\n",
    "# get prediction, this is in 1D array, need reshape to (ndata, nclass)"
   ]
  },
  {
   "cell_type": "code",
   "execution_count": 99,
   "metadata": {},
   "outputs": [
    {
     "data": {
      "text/plain": [
       "array([[0.11932766, 0.40343836, 0.11925675, 0.11961348, 0.11920919,\n",
       "        0.11915456],\n",
       "       [0.41013786, 0.11907787, 0.11720835, 0.11930636, 0.11716162,\n",
       "        0.11710792],\n",
       "       [0.11312718, 0.14747578, 0.39640445, 0.11701463, 0.11301488,\n",
       "        0.11296307],\n",
       "       ...,\n",
       "       [0.11642709, 0.1263297 , 0.40796754, 0.11670597, 0.11631151,\n",
       "        0.1162582 ],\n",
       "       [0.12652808, 0.13728982, 0.35660395, 0.12683114, 0.12640247,\n",
       "        0.12634452],\n",
       "       [0.12652808, 0.13728982, 0.35660395, 0.12683114, 0.12640247,\n",
       "        0.12634452]], dtype=float32)"
      ]
     },
     "execution_count": 99,
     "metadata": {},
     "output_type": "execute_result"
    }
   ],
   "source": [
    "yprob = bst.predict( xg_test )\n",
    "yprob"
   ]
  },
  {
   "cell_type": "code",
   "execution_count": 101,
   "metadata": {},
   "outputs": [
    {
     "data": {
      "text/plain": [
       "array([1, 0, 2, 0, 2, 1, 4, 2, 3, 3, 0, 1, 1, 0, 2, 3, 1, 0, 2, 4, 5, 1,\n",
       "       4, 2, 4, 0, 5, 4, 1, 2, 0, 1, 0, 0, 3, 1, 2, 1, 2, 0, 1, 1, 0, 1,\n",
       "       4, 2, 3, 5, 1, 2, 2, 3, 0, 0, 4, 0, 1, 2, 3, 1, 5, 0, 4, 0, 1, 2,\n",
       "       0, 3, 4, 0, 1, 5, 2, 4, 3, 1, 1, 0, 2, 4, 0, 1, 1, 1, 4, 0, 0, 2,\n",
       "       0, 3, 1, 1, 4, 0, 2, 3, 1, 4, 0, 5, 1, 4, 0, 1, 1, 0, 3, 0, 2, 0,\n",
       "       0, 2, 4, 2, 2, 4, 1, 2, 3, 0, 1, 4, 5, 0, 0, 1, 5, 2, 4, 3, 0, 0,\n",
       "       2, 4, 4, 0, 3, 1, 2, 0, 3, 0, 0, 2, 2, 2, 1, 4, 3, 1, 1, 0, 0, 0,\n",
       "       4, 2, 1, 2, 1, 1, 3, 1, 2, 5, 1, 0, 0, 2, 3, 2, 2, 0, 0, 0, 2, 0,\n",
       "       0, 1, 2, 2, 0, 0, 0, 0, 5, 1, 1, 1, 1, 0, 2, 2, 2, 0, 0, 1, 2, 1,\n",
       "       1, 1, 4, 4, 4, 4, 4, 0, 0, 0, 0, 0, 0, 0, 2, 2, 2, 2, 2, 2, 3, 3,\n",
       "       3, 3, 4, 4, 4, 4, 4, 4, 4, 1, 1, 1, 1, 0, 0, 0, 0, 0, 0, 5, 5, 0,\n",
       "       0, 0, 0, 0, 0, 0, 0, 2, 2, 2, 2, 2, 2, 2], dtype=int64)"
      ]
     },
     "execution_count": 101,
     "metadata": {},
     "output_type": "execute_result"
    }
   ],
   "source": [
    "ylabel = np.argmax(yprob,axis=1)\n",
    "ylabel"
   ]
  },
  {
   "cell_type": "code",
   "execution_count": 102,
   "metadata": {},
   "outputs": [
    {
     "name": "stdout",
     "output_type": "stream",
     "text": [
      "predicting, classification error=0.8090909090909091\n"
     ]
    }
   ],
   "source": [
    "print ('predicting, classification error={}'.format(evalute_metrics(ylabel,test_Y)))"
   ]
  },
  {
   "cell_type": "code",
   "execution_count": null,
   "metadata": {},
   "outputs": [],
   "source": []
  }
 ],
 "metadata": {
  "kernelspec": {
   "display_name": "Python 3",
   "language": "python",
   "name": "python3"
  },
  "language_info": {
   "codemirror_mode": {
    "name": "ipython",
    "version": 3
   },
   "file_extension": ".py",
   "mimetype": "text/x-python",
   "name": "python",
   "nbconvert_exporter": "python",
   "pygments_lexer": "ipython3",
   "version": "3.6.5"
  }
 },
 "nbformat": 4,
 "nbformat_minor": 2
}
