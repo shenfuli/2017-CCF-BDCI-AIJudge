{
 "cells": [
  {
   "cell_type": "markdown",
   "metadata": {},
   "source": [
    "## 统计类特征提取\n",
    "该文本分类任务是预测案件金额类别，因此案件文本中出现的金额是重要的。于是，我使用正则表达式匹配出案件文本中出现的所有金额，然后对同一个案件中出现的所有金额进行统计，包括：求和、最小值、最大值、最大最小差值、平均值、标准差。\n",
    "\n",
    "这里还可以做的事情有：\n",
    "\n",
    "统计案件文本的词的数目 <br>\n",
    "利用案件中的一些关键词做特征，例如：酒驾、毒品等 <br>\n",
    "案件文本中出现的日期 <br>\n",
    "案件文本中出现的地点 <br>"
   ]
  },
  {
   "cell_type": "markdown",
   "metadata": {},
   "source": [
    "下面我们主要提取金额类的特征"
   ]
  },
  {
   "cell_type": "code",
   "execution_count": 1,
   "metadata": {},
   "outputs": [],
   "source": [
    "import sys\n",
    "sys.path.append(\"D:/ML_Study/2017-CCF-BDCI-AIJudge\")\n",
    "import re\n",
    "import numpy as np\n",
    "import pandas as pd\n",
    "from config.db_config import Config\n",
    "from utils import LOGGER\n",
    "import codecs\n",
    "config = Config()"
   ]
  },
  {
   "cell_type": "code",
   "execution_count": 2,
   "metadata": {},
   "outputs": [],
   "source": [
    "def load_data(data_path):\n",
    "    df_tr = []\n",
    "    LOGGER.log('For train.txt:')\n",
    "    for i, line in enumerate(codecs.open(data_path, encoding='utf-8')):\n",
    "        if i % 1000 == 1:\n",
    "            LOGGER.log('iter = %d' % i)\n",
    "        segs = line.split('\\t')\n",
    "        row = {}\n",
    "        row['id'] = segs[0]\n",
    "        row['raw_content'] = segs[1].strip()\n",
    "        df_tr.append(row)\n",
    "    data_df = pd.DataFrame(df_tr)\n",
    "    return data_df"
   ]
  },
  {
   "cell_type": "code",
   "execution_count": 3,
   "metadata": {},
   "outputs": [
    {
     "name": "stdout",
     "output_type": "stream",
     "text": [
      "2019-03-27 14:36:41 For train.txt:\n",
      "2019-03-27 14:36:41 iter = 1\n",
      "2019-03-27 14:36:41 For train.txt:\n"
     ]
    },
    {
     "data": {
      "text/html": [
       "<div>\n",
       "<style scoped>\n",
       "    .dataframe tbody tr th:only-of-type {\n",
       "        vertical-align: middle;\n",
       "    }\n",
       "\n",
       "    .dataframe tbody tr th {\n",
       "        vertical-align: top;\n",
       "    }\n",
       "\n",
       "    .dataframe thead th {\n",
       "        text-align: right;\n",
       "    }\n",
       "</style>\n",
       "<table border=\"1\" class=\"dataframe\">\n",
       "  <thead>\n",
       "    <tr style=\"text-align: right;\">\n",
       "      <th></th>\n",
       "      <th>id</th>\n",
       "      <th>raw_content</th>\n",
       "    </tr>\n",
       "  </thead>\n",
       "  <tbody>\n",
       "    <tr>\n",
       "      <th>0</th>\n",
       "      <td>16</td>\n",
       "      <td>公诉机关霍邱县人民检察院。被告人许某甲，男，1975年9月20日生。2012年12月17日因...</td>\n",
       "    </tr>\n",
       "    <tr>\n",
       "      <th>1</th>\n",
       "      <td>32</td>\n",
       "      <td>公诉机关海口市龙华区人民检察院。被告人王某乙。海口市龙华区人民检察院以海龙检公刑诉（2014...</td>\n",
       "    </tr>\n",
       "    <tr>\n",
       "      <th>2</th>\n",
       "      <td>41</td>\n",
       "      <td>公诉机关广东省潮州市人民检察院。被告人覃学彬（自报），男，1980年1月8日出生，广西壮族自...</td>\n",
       "    </tr>\n",
       "    <tr>\n",
       "      <th>3</th>\n",
       "      <td>57</td>\n",
       "      <td>原公诉机关榆林市榆阳区人民检察院。上诉人（原审被告人）高某某，2012年10月22日因涉嫌犯...</td>\n",
       "    </tr>\n",
       "    <tr>\n",
       "      <th>4</th>\n",
       "      <td>60</td>\n",
       "      <td>原公诉机关榆阳区人民检察院。上诉人（原审被告人）刘某，男，汉族，陕西省横山县，小学文化，货车...</td>\n",
       "    </tr>\n",
       "  </tbody>\n",
       "</table>\n",
       "</div>"
      ],
      "text/plain": [
       "   id                                        raw_content\n",
       "0  16  公诉机关霍邱县人民检察院。被告人许某甲，男，1975年9月20日生。2012年12月17日因...\n",
       "1  32  公诉机关海口市龙华区人民检察院。被告人王某乙。海口市龙华区人民检察院以海龙检公刑诉（2014...\n",
       "2  41  公诉机关广东省潮州市人民检察院。被告人覃学彬（自报），男，1980年1月8日出生，广西壮族自...\n",
       "3  57  原公诉机关榆林市榆阳区人民检察院。上诉人（原审被告人）高某某，2012年10月22日因涉嫌犯...\n",
       "4  60  原公诉机关榆阳区人民检察院。上诉人（原审被告人）刘某，男，汉族，陕西省横山县，小学文化，货车..."
      ]
     },
     "execution_count": 3,
     "metadata": {},
     "output_type": "execute_result"
    }
   ],
   "source": [
    "train_df = load_data(config.train_data_path)\n",
    "test_df = load_data(config.test_data_path)\n",
    "df = pd.concat([train_df, test_df]).reset_index(drop=True)\n",
    "df.head()"
   ]
  },
  {
   "cell_type": "code",
   "execution_count": 38,
   "metadata": {},
   "outputs": [
    {
     "name": "stdout",
     "output_type": "stream",
     "text": [
      "2019-03-27 14:50:10 iter = 1\n"
     ]
    }
   ],
   "source": [
    "amt_list = []\n",
    "for i, rows in df.iterrows():\n",
    "    if i % 1000 == 1:\n",
    "        LOGGER.log('iter = %d' % i)\n",
    "    id = rows[\"id\"]\n",
    "    raw_document = rows['raw_content']\n",
    "    # 规则1\n",
    "    row_amount_list = re.findall(u'(\\d*\\.?\\d+)[元]', raw_document)\n",
    "    for amount in row_amount_list:\n",
    "        amt_list.append([id,float(amount)])\n",
    "     # 规则2\n",
    "    row_amount_list = re.findall(u'(\\d*\\.?\\d+)[万元]', raw_document)\n",
    "    for amount in row_amount_list:\n",
    "        amt_list.append([id,float(amount)*10000])"
   ]
  },
  {
   "cell_type": "code",
   "execution_count": 39,
   "metadata": {},
   "outputs": [
    {
     "data": {
      "text/html": [
       "<div>\n",
       "<style scoped>\n",
       "    .dataframe tbody tr th:only-of-type {\n",
       "        vertical-align: middle;\n",
       "    }\n",
       "\n",
       "    .dataframe tbody tr th {\n",
       "        vertical-align: top;\n",
       "    }\n",
       "\n",
       "    .dataframe thead th {\n",
       "        text-align: right;\n",
       "    }\n",
       "</style>\n",
       "<table border=\"1\" class=\"dataframe\">\n",
       "  <thead>\n",
       "    <tr style=\"text-align: right;\">\n",
       "      <th></th>\n",
       "      <th>id</th>\n",
       "      <th>amt</th>\n",
       "    </tr>\n",
       "  </thead>\n",
       "  <tbody>\n",
       "    <tr>\n",
       "      <th>0</th>\n",
       "      <td>32</td>\n",
       "      <td>550.0</td>\n",
       "    </tr>\n",
       "    <tr>\n",
       "      <th>1</th>\n",
       "      <td>32</td>\n",
       "      <td>550.0</td>\n",
       "    </tr>\n",
       "    <tr>\n",
       "      <th>2</th>\n",
       "      <td>32</td>\n",
       "      <td>550.0</td>\n",
       "    </tr>\n",
       "    <tr>\n",
       "      <th>3</th>\n",
       "      <td>32</td>\n",
       "      <td>5500000.0</td>\n",
       "    </tr>\n",
       "    <tr>\n",
       "      <th>4</th>\n",
       "      <td>32</td>\n",
       "      <td>5500000.0</td>\n",
       "    </tr>\n",
       "  </tbody>\n",
       "</table>\n",
       "</div>"
      ],
      "text/plain": [
       "   id        amt\n",
       "0  32      550.0\n",
       "1  32      550.0\n",
       "2  32      550.0\n",
       "3  32  5500000.0\n",
       "4  32  5500000.0"
      ]
     },
     "execution_count": 39,
     "metadata": {},
     "output_type": "execute_result"
    }
   ],
   "source": [
    "amt_df = pd.DataFrame(amt_list,columns=[\"id\",\"amt\"])\n",
    "amt_df.head()"
   ]
  },
  {
   "cell_type": "code",
   "execution_count": 40,
   "metadata": {},
   "outputs": [
    {
     "data": {
      "text/html": [
       "<div>\n",
       "<style scoped>\n",
       "    .dataframe tbody tr th:only-of-type {\n",
       "        vertical-align: middle;\n",
       "    }\n",
       "\n",
       "    .dataframe tbody tr th {\n",
       "        vertical-align: top;\n",
       "    }\n",
       "\n",
       "    .dataframe thead th {\n",
       "        text-align: right;\n",
       "    }\n",
       "</style>\n",
       "<table border=\"1\" class=\"dataframe\">\n",
       "  <thead>\n",
       "    <tr style=\"text-align: right;\">\n",
       "      <th></th>\n",
       "      <th>id</th>\n",
       "      <th>sum</th>\n",
       "      <th>max</th>\n",
       "      <th>min</th>\n",
       "      <th>ptp</th>\n",
       "      <th>mean</th>\n",
       "      <th>std</th>\n",
       "    </tr>\n",
       "  </thead>\n",
       "  <tbody>\n",
       "    <tr>\n",
       "      <th>0</th>\n",
       "      <td>119</td>\n",
       "      <td>24752475.0</td>\n",
       "      <td>24750000.0</td>\n",
       "      <td>2475.0</td>\n",
       "      <td>24747525.0</td>\n",
       "      <td>1.237624e+07</td>\n",
       "      <td>1.749914e+07</td>\n",
       "    </tr>\n",
       "    <tr>\n",
       "      <th>1</th>\n",
       "      <td>121</td>\n",
       "      <td>25002500.0</td>\n",
       "      <td>25000000.0</td>\n",
       "      <td>2500.0</td>\n",
       "      <td>24997500.0</td>\n",
       "      <td>1.250125e+07</td>\n",
       "      <td>1.767590e+07</td>\n",
       "    </tr>\n",
       "    <tr>\n",
       "      <th>2</th>\n",
       "      <td>123</td>\n",
       "      <td>70007000.0</td>\n",
       "      <td>70000000.0</td>\n",
       "      <td>7000.0</td>\n",
       "      <td>69993000.0</td>\n",
       "      <td>3.500350e+07</td>\n",
       "      <td>4.949252e+07</td>\n",
       "    </tr>\n",
       "    <tr>\n",
       "      <th>3</th>\n",
       "      <td>128</td>\n",
       "      <td>20176017.4</td>\n",
       "      <td>20174000.0</td>\n",
       "      <td>2017.4</td>\n",
       "      <td>20171982.6</td>\n",
       "      <td>1.008801e+07</td>\n",
       "      <td>1.426375e+07</td>\n",
       "    </tr>\n",
       "    <tr>\n",
       "      <th>4</th>\n",
       "      <td>186</td>\n",
       "      <td>74520020.0</td>\n",
       "      <td>16797320.0</td>\n",
       "      <td>30000.0</td>\n",
       "      <td>16767320.0</td>\n",
       "      <td>1.552500e+06</td>\n",
       "      <td>3.254616e+06</td>\n",
       "    </tr>\n",
       "  </tbody>\n",
       "</table>\n",
       "</div>"
      ],
      "text/plain": [
       "    id         sum         max      min         ptp          mean  \\\n",
       "0  119  24752475.0  24750000.0   2475.0  24747525.0  1.237624e+07   \n",
       "1  121  25002500.0  25000000.0   2500.0  24997500.0  1.250125e+07   \n",
       "2  123  70007000.0  70000000.0   7000.0  69993000.0  3.500350e+07   \n",
       "3  128  20176017.4  20174000.0   2017.4  20171982.6  1.008801e+07   \n",
       "4  186  74520020.0  16797320.0  30000.0  16767320.0  1.552500e+06   \n",
       "\n",
       "            std  \n",
       "0  1.749914e+07  \n",
       "1  1.767590e+07  \n",
       "2  4.949252e+07  \n",
       "3  1.426375e+07  \n",
       "4  3.254616e+06  "
      ]
     },
     "execution_count": 40,
     "metadata": {},
     "output_type": "execute_result"
    }
   ],
   "source": [
    "feat_amt = amt_df.groupby(by=\"id\")['amt'].agg([sum,max,min,np.ptp,np.mean,np.std]).reset_index()\n",
    "feat_amt.head()"
   ]
  },
  {
   "cell_type": "code",
   "execution_count": 41,
   "metadata": {},
   "outputs": [
    {
     "data": {
      "text/plain": [
       "id       object\n",
       "sum     float64\n",
       "max     float64\n",
       "min     float64\n",
       "ptp     float64\n",
       "mean    float64\n",
       "std     float64\n",
       "dtype: object"
      ]
     },
     "execution_count": 41,
     "metadata": {},
     "output_type": "execute_result"
    }
   ],
   "source": [
    "feat_amt.dtypes"
   ]
  },
  {
   "cell_type": "code",
   "execution_count": 42,
   "metadata": {},
   "outputs": [
    {
     "data": {
      "text/plain": [
       "id             object\n",
       "raw_content    object\n",
       "dtype: object"
      ]
     },
     "execution_count": 42,
     "metadata": {},
     "output_type": "execute_result"
    }
   ],
   "source": [
    "df.dtypes"
   ]
  },
  {
   "cell_type": "code",
   "execution_count": 43,
   "metadata": {},
   "outputs": [
    {
     "data": {
      "text/html": [
       "<div>\n",
       "<style scoped>\n",
       "    .dataframe tbody tr th:only-of-type {\n",
       "        vertical-align: middle;\n",
       "    }\n",
       "\n",
       "    .dataframe tbody tr th {\n",
       "        vertical-align: top;\n",
       "    }\n",
       "\n",
       "    .dataframe thead th {\n",
       "        text-align: right;\n",
       "    }\n",
       "</style>\n",
       "<table border=\"1\" class=\"dataframe\">\n",
       "  <thead>\n",
       "    <tr style=\"text-align: right;\">\n",
       "      <th></th>\n",
       "      <th>id</th>\n",
       "      <th>raw_content</th>\n",
       "      <th>sum</th>\n",
       "      <th>max</th>\n",
       "      <th>min</th>\n",
       "      <th>ptp</th>\n",
       "      <th>mean</th>\n",
       "      <th>std</th>\n",
       "    </tr>\n",
       "  </thead>\n",
       "  <tbody>\n",
       "    <tr>\n",
       "      <th>0</th>\n",
       "      <td>16</td>\n",
       "      <td>公诉机关霍邱县人民检察院。被告人许某甲，男，1975年9月20日生。2012年12月17日因...</td>\n",
       "      <td>NaN</td>\n",
       "      <td>NaN</td>\n",
       "      <td>NaN</td>\n",
       "      <td>NaN</td>\n",
       "      <td>NaN</td>\n",
       "      <td>NaN</td>\n",
       "    </tr>\n",
       "    <tr>\n",
       "      <th>1</th>\n",
       "      <td>32</td>\n",
       "      <td>公诉机关海口市龙华区人民检察院。被告人王某乙。海口市龙华区人民检察院以海龙检公刑诉（2014...</td>\n",
       "      <td>1.650165e+07</td>\n",
       "      <td>5.500000e+06</td>\n",
       "      <td>550.0</td>\n",
       "      <td>5.499450e+06</td>\n",
       "      <td>2.750275e+06</td>\n",
       "      <td>3.012173e+06</td>\n",
       "    </tr>\n",
       "    <tr>\n",
       "      <th>2</th>\n",
       "      <td>41</td>\n",
       "      <td>公诉机关广东省潮州市人民检察院。被告人覃学彬（自报），男，1980年1月8日出生，广西壮族自...</td>\n",
       "      <td>NaN</td>\n",
       "      <td>NaN</td>\n",
       "      <td>NaN</td>\n",
       "      <td>NaN</td>\n",
       "      <td>NaN</td>\n",
       "      <td>NaN</td>\n",
       "    </tr>\n",
       "    <tr>\n",
       "      <th>3</th>\n",
       "      <td>57</td>\n",
       "      <td>原公诉机关榆林市榆阳区人民检察院。上诉人（原审被告人）高某某，2012年10月22日因涉嫌犯...</td>\n",
       "      <td>4.560456e+08</td>\n",
       "      <td>6.400000e+07</td>\n",
       "      <td>3800.0</td>\n",
       "      <td>6.399620e+07</td>\n",
       "      <td>2.533587e+07</td>\n",
       "      <td>2.718746e+07</td>\n",
       "    </tr>\n",
       "    <tr>\n",
       "      <th>4</th>\n",
       "      <td>60</td>\n",
       "      <td>原公诉机关榆阳区人民检察院。上诉人（原审被告人）刘某，男，汉族，陕西省横山县，小学文化，货车...</td>\n",
       "      <td>1.611963e+10</td>\n",
       "      <td>3.079929e+09</td>\n",
       "      <td>50.0</td>\n",
       "      <td>3.079929e+09</td>\n",
       "      <td>1.549965e+08</td>\n",
       "      <td>3.964506e+08</td>\n",
       "    </tr>\n",
       "  </tbody>\n",
       "</table>\n",
       "</div>"
      ],
      "text/plain": [
       "   id                                        raw_content           sum  \\\n",
       "0  16  公诉机关霍邱县人民检察院。被告人许某甲，男，1975年9月20日生。2012年12月17日因...           NaN   \n",
       "1  32  公诉机关海口市龙华区人民检察院。被告人王某乙。海口市龙华区人民检察院以海龙检公刑诉（2014...  1.650165e+07   \n",
       "2  41  公诉机关广东省潮州市人民检察院。被告人覃学彬（自报），男，1980年1月8日出生，广西壮族自...           NaN   \n",
       "3  57  原公诉机关榆林市榆阳区人民检察院。上诉人（原审被告人）高某某，2012年10月22日因涉嫌犯...  4.560456e+08   \n",
       "4  60  原公诉机关榆阳区人民检察院。上诉人（原审被告人）刘某，男，汉族，陕西省横山县，小学文化，货车...  1.611963e+10   \n",
       "\n",
       "            max     min           ptp          mean           std  \n",
       "0           NaN     NaN           NaN           NaN           NaN  \n",
       "1  5.500000e+06   550.0  5.499450e+06  2.750275e+06  3.012173e+06  \n",
       "2           NaN     NaN           NaN           NaN           NaN  \n",
       "3  6.400000e+07  3800.0  6.399620e+07  2.533587e+07  2.718746e+07  \n",
       "4  3.079929e+09    50.0  3.079929e+09  1.549965e+08  3.964506e+08  "
      ]
     },
     "execution_count": 43,
     "metadata": {},
     "output_type": "execute_result"
    }
   ],
   "source": [
    "df_merge = df.merge(feat_amt,left_on='id',right_on='id',how='left')\n",
    "df_merge.head()"
   ]
  },
  {
   "cell_type": "code",
   "execution_count": 44,
   "metadata": {},
   "outputs": [
    {
     "data": {
      "text/plain": [
       "(100, 2)"
      ]
     },
     "execution_count": 44,
     "metadata": {},
     "output_type": "execute_result"
    }
   ],
   "source": [
    "df.shape"
   ]
  },
  {
   "cell_type": "code",
   "execution_count": 45,
   "metadata": {},
   "outputs": [
    {
     "data": {
      "text/plain": [
       "(100, 8)"
      ]
     },
     "execution_count": 45,
     "metadata": {},
     "output_type": "execute_result"
    }
   ],
   "source": [
    "df_merge.shape"
   ]
  },
  {
   "cell_type": "code",
   "execution_count": 66,
   "metadata": {},
   "outputs": [
    {
     "data": {
      "text/html": [
       "<div>\n",
       "<style scoped>\n",
       "    .dataframe tbody tr th:only-of-type {\n",
       "        vertical-align: middle;\n",
       "    }\n",
       "\n",
       "    .dataframe tbody tr th {\n",
       "        vertical-align: top;\n",
       "    }\n",
       "\n",
       "    .dataframe thead th {\n",
       "        text-align: right;\n",
       "    }\n",
       "</style>\n",
       "<table border=\"1\" class=\"dataframe\">\n",
       "  <thead>\n",
       "    <tr style=\"text-align: right;\">\n",
       "      <th></th>\n",
       "      <th>amt_sum</th>\n",
       "      <th>amt_max</th>\n",
       "      <th>amt_min</th>\n",
       "      <th>amt_ptp</th>\n",
       "      <th>amt_mean</th>\n",
       "      <th>amt_std</th>\n",
       "    </tr>\n",
       "  </thead>\n",
       "  <tbody>\n",
       "    <tr>\n",
       "      <th>0</th>\n",
       "      <td>0.000000e+00</td>\n",
       "      <td>0.000000e+00</td>\n",
       "      <td>0.0</td>\n",
       "      <td>0.000000e+00</td>\n",
       "      <td>0.000000e+00</td>\n",
       "      <td>0.000000e+00</td>\n",
       "    </tr>\n",
       "    <tr>\n",
       "      <th>1</th>\n",
       "      <td>1.650165e+07</td>\n",
       "      <td>5.500000e+06</td>\n",
       "      <td>550.0</td>\n",
       "      <td>5.499450e+06</td>\n",
       "      <td>2.750275e+06</td>\n",
       "      <td>3.012173e+06</td>\n",
       "    </tr>\n",
       "    <tr>\n",
       "      <th>2</th>\n",
       "      <td>0.000000e+00</td>\n",
       "      <td>0.000000e+00</td>\n",
       "      <td>0.0</td>\n",
       "      <td>0.000000e+00</td>\n",
       "      <td>0.000000e+00</td>\n",
       "      <td>0.000000e+00</td>\n",
       "    </tr>\n",
       "    <tr>\n",
       "      <th>3</th>\n",
       "      <td>4.560456e+08</td>\n",
       "      <td>6.400000e+07</td>\n",
       "      <td>3800.0</td>\n",
       "      <td>6.399620e+07</td>\n",
       "      <td>2.533587e+07</td>\n",
       "      <td>2.718746e+07</td>\n",
       "    </tr>\n",
       "    <tr>\n",
       "      <th>4</th>\n",
       "      <td>1.611963e+10</td>\n",
       "      <td>3.079929e+09</td>\n",
       "      <td>50.0</td>\n",
       "      <td>3.079929e+09</td>\n",
       "      <td>1.549965e+08</td>\n",
       "      <td>3.964506e+08</td>\n",
       "    </tr>\n",
       "  </tbody>\n",
       "</table>\n",
       "</div>"
      ],
      "text/plain": [
       "        amt_sum       amt_max  amt_min       amt_ptp      amt_mean  \\\n",
       "0  0.000000e+00  0.000000e+00      0.0  0.000000e+00  0.000000e+00   \n",
       "1  1.650165e+07  5.500000e+06    550.0  5.499450e+06  2.750275e+06   \n",
       "2  0.000000e+00  0.000000e+00      0.0  0.000000e+00  0.000000e+00   \n",
       "3  4.560456e+08  6.400000e+07   3800.0  6.399620e+07  2.533587e+07   \n",
       "4  1.611963e+10  3.079929e+09     50.0  3.079929e+09  1.549965e+08   \n",
       "\n",
       "        amt_std  \n",
       "0  0.000000e+00  \n",
       "1  3.012173e+06  \n",
       "2  0.000000e+00  \n",
       "3  2.718746e+07  \n",
       "4  3.964506e+08  "
      ]
     },
     "execution_count": 66,
     "metadata": {},
     "output_type": "execute_result"
    }
   ],
   "source": [
    "feat_amt_result = df_merge.drop(columns=['id','raw_content'],axis=1)\n",
    "feat_amt_result=feat_amt_result.fillna(0)\n",
    "feat_amt_result.columns = ['amt_{0}'.format(col) for col in feat_amt_result.columns]\n",
    "feat_amt_result.head()"
   ]
  },
  {
   "cell_type": "code",
   "execution_count": 67,
   "metadata": {},
   "outputs": [
    {
     "data": {
      "text/plain": [
       "amt_sum     float64\n",
       "amt_max     float64\n",
       "amt_min     float64\n",
       "amt_ptp     float64\n",
       "amt_mean    float64\n",
       "amt_std     float64\n",
       "dtype: object"
      ]
     },
     "execution_count": 67,
     "metadata": {},
     "output_type": "execute_result"
    }
   ],
   "source": [
    "feat_amt_result.dtypes"
   ]
  },
  {
   "cell_type": "code",
   "execution_count": 68,
   "metadata": {},
   "outputs": [],
   "source": [
    "config.feat_amt = \"D:/ML_Study/2017-CCF-BDCI-AIJudge/data/output/feature/amt/amt_21w.csv\"\n",
    "feat_amt_result.to_csv(config.feat_amt,index=None)"
   ]
  },
  {
   "cell_type": "code",
   "execution_count": 69,
   "metadata": {},
   "outputs": [
    {
     "data": {
      "text/plain": [
       "1561.47"
      ]
     },
     "execution_count": 69,
     "metadata": {},
     "output_type": "execute_result"
    }
   ],
   "source": [
    "float('%.2f' %(1561.466667))"
   ]
  },
  {
   "cell_type": "code",
   "execution_count": null,
   "metadata": {},
   "outputs": [],
   "source": []
  }
 ],
 "metadata": {
  "kernelspec": {
   "display_name": "Python 3",
   "language": "python",
   "name": "python3"
  },
  "language_info": {
   "codemirror_mode": {
    "name": "ipython",
    "version": 3
   },
   "file_extension": ".py",
   "mimetype": "text/x-python",
   "name": "python",
   "nbconvert_exporter": "python",
   "pygments_lexer": "ipython3",
   "version": "3.6.5"
  }
 },
 "nbformat": 4,
 "nbformat_minor": 2
}
