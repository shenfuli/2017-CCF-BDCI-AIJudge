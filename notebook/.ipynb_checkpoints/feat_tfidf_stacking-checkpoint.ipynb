{
 "cells": [
  {
   "cell_type": "markdown",
   "metadata": {},
   "source": [
    "## 1. 导入库"
   ]
  },
  {
   "cell_type": "code",
   "execution_count": 1,
   "metadata": {},
   "outputs": [],
   "source": [
    "import sklearn"
   ]
  },
  {
   "cell_type": "code",
   "execution_count": 2,
   "metadata": {},
   "outputs": [
    {
     "data": {
      "text/plain": [
       "'0.19.2'"
      ]
     },
     "execution_count": 2,
     "metadata": {},
     "output_type": "execute_result"
    }
   ],
   "source": [
    "sklearn.__version__"
   ]
  },
  {
   "cell_type": "code",
   "execution_count": 26,
   "metadata": {},
   "outputs": [],
   "source": [
    "# https://blog.csdn.net/xiaosa_kun/article/details/84868437"
   ]
  },
  {
   "cell_type": "code",
   "execution_count": 1,
   "metadata": {},
   "outputs": [],
   "source": [
    "import sys\n",
    "sys.path.append(\"/Users/zhengwenjie/AI/work/ML_3/2017-CCF-BDCI-AIJudge\")\n",
    "import pandas as pd\n",
    "from config.db_config import Config\n",
    "import numpy as np\n",
    "from utils import LOGGER\n",
    "\n",
    "from sklearn.feature_extraction.text import TfidfVectorizer\n",
    "from sklearn.feature_extraction.text import CountVectorizer\n",
    "from sklearn.model_selection import train_test_split\n",
    "from sklearn.linear_model import LogisticRegression\n",
    "from sklearn.metrics import f1_score\n",
    "from sklearn.model_selection import StratifiedKFold\n",
    "import codecs"
   ]
  },
  {
   "cell_type": "code",
   "execution_count": null,
   "metadata": {},
   "outputs": [],
   "source": []
  },
  {
   "cell_type": "markdown",
   "metadata": {},
   "source": [
    "## 2.加载数据"
   ]
  },
  {
   "cell_type": "code",
   "execution_count": 99,
   "metadata": {},
   "outputs": [],
   "source": [
    "config = Config()\n",
    "config.data_csv_path = \"/Users/zhengwenjie/AI/work/ML_3/2017-CCF-BDCI-AIJudge/data/output/corpus/data1.csv\""
   ]
  },
  {
   "cell_type": "code",
   "execution_count": 100,
   "metadata": {},
   "outputs": [
    {
     "data": {
      "text/html": [
       "<div>\n",
       "<style scoped>\n",
       "    .dataframe tbody tr th:only-of-type {\n",
       "        vertical-align: middle;\n",
       "    }\n",
       "\n",
       "    .dataframe tbody tr th {\n",
       "        vertical-align: top;\n",
       "    }\n",
       "\n",
       "    .dataframe thead th {\n",
       "        text-align: right;\n",
       "    }\n",
       "</style>\n",
       "<table border=\"1\" class=\"dataframe\">\n",
       "  <thead>\n",
       "    <tr style=\"text-align: right;\">\n",
       "      <th></th>\n",
       "      <th>id</th>\n",
       "      <th>content</th>\n",
       "      <th>laws</th>\n",
       "      <th>penalty</th>\n",
       "    </tr>\n",
       "  </thead>\n",
       "  <tbody>\n",
       "    <tr>\n",
       "      <th>0</th>\n",
       "      <td>16</td>\n",
       "      <td>公诉 机关 霍邱县 人民检察院 被告人 许某 1975 日生 2012 因涉嫌 危险 驾驶 ...</td>\n",
       "      <td>133,72,73</td>\n",
       "      <td>3</td>\n",
       "    </tr>\n",
       "    <tr>\n",
       "      <th>1</th>\n",
       "      <td>32</td>\n",
       "      <td>公诉 机关 海口市 龙华区 人民检察院 被告人 王某 海口市 龙华区 人民检察院 海龙 检公...</td>\n",
       "      <td>347,67,52,64</td>\n",
       "      <td>1</td>\n",
       "    </tr>\n",
       "    <tr>\n",
       "      <th>2</th>\n",
       "      <td>41</td>\n",
       "      <td>公诉 机关 广东省 潮州市 人民检察院 被告人 覃学彬 1980 出生 广西壮族自治区 大新...</td>\n",
       "      <td>263,25,52,53,55,56</td>\n",
       "      <td>5</td>\n",
       "    </tr>\n",
       "    <tr>\n",
       "      <th>3</th>\n",
       "      <td>57</td>\n",
       "      <td>公诉 机关 榆林市 榆阳区 人民检察院 上诉人 原审 被告人 2012 因涉嫌 盗窃罪 榆林...</td>\n",
       "      <td>264,52,53,67,72,73</td>\n",
       "      <td>5</td>\n",
       "    </tr>\n",
       "    <tr>\n",
       "      <th>4</th>\n",
       "      <td>60</td>\n",
       "      <td>公诉 机关 榆阳区 人民检察院 上诉人 原审 被告人 刘某 汉族 陕西省 横山县 小学文化 ...</td>\n",
       "      <td>224,25,26,27,52,72</td>\n",
       "      <td>7</td>\n",
       "    </tr>\n",
       "  </tbody>\n",
       "</table>\n",
       "</div>"
      ],
      "text/plain": [
       "   id                                            content                laws  \\\n",
       "0  16  公诉 机关 霍邱县 人民检察院 被告人 许某 1975 日生 2012 因涉嫌 危险 驾驶 ...           133,72,73   \n",
       "1  32  公诉 机关 海口市 龙华区 人民检察院 被告人 王某 海口市 龙华区 人民检察院 海龙 检公...        347,67,52,64   \n",
       "2  41  公诉 机关 广东省 潮州市 人民检察院 被告人 覃学彬 1980 出生 广西壮族自治区 大新...  263,25,52,53,55,56   \n",
       "3  57  公诉 机关 榆林市 榆阳区 人民检察院 上诉人 原审 被告人 2012 因涉嫌 盗窃罪 榆林...  264,52,53,67,72,73   \n",
       "4  60  公诉 机关 榆阳区 人民检察院 上诉人 原审 被告人 刘某 汉族 陕西省 横山县 小学文化 ...  224,25,26,27,52,72   \n",
       "\n",
       "   penalty  \n",
       "0        3  \n",
       "1        1  \n",
       "2        5  \n",
       "3        5  \n",
       "4        7  "
      ]
     },
     "execution_count": 100,
     "metadata": {},
     "output_type": "execute_result"
    }
   ],
   "source": [
    "train_df = pd.read_csv(config.data_csv_path,encoding='utf-8',sep=',')\n",
    "train_df = train_df.dropna()\n",
    "train_df['penalty'] = train_df['penalty'].astype(int)\n",
    "train_df.head()"
   ]
  },
  {
   "cell_type": "code",
   "execution_count": 101,
   "metadata": {},
   "outputs": [
    {
     "data": {
      "text/plain": [
       "(19, 4)"
      ]
     },
     "execution_count": 101,
     "metadata": {},
     "output_type": "execute_result"
    }
   ],
   "source": [
    "train_df.shape"
   ]
  },
  {
   "cell_type": "markdown",
   "metadata": {},
   "source": [
    "## 查看训练集每个分类的名字以及样本数量"
   ]
  },
  {
   "cell_type": "code",
   "execution_count": 102,
   "metadata": {
    "scrolled": true
   },
   "outputs": [
    {
     "name": "stdout",
     "output_type": "stream",
     "text": [
      "1 3\n",
      "2 5\n",
      "3 1\n",
      "4 1\n",
      "5 3\n",
      "6 1\n",
      "7 3\n",
      "8 2\n"
     ]
    }
   ],
   "source": [
    "# 类别：数据不均衡，需要进行采样 to do\n",
    "for name,group in train_df.groupby(by='penalty'):\n",
    "    print(name,len(group))"
   ]
  },
  {
   "cell_type": "code",
   "execution_count": 103,
   "metadata": {},
   "outputs": [],
   "source": [
    "words_list=[]"
   ]
  },
  {
   "cell_type": "code",
   "execution_count": 104,
   "metadata": {},
   "outputs": [],
   "source": [
    "for document in train_df['content']:\n",
    "    words_list.append(document.split())"
   ]
  },
  {
   "cell_type": "code",
   "execution_count": 105,
   "metadata": {},
   "outputs": [
    {
     "name": "stdout",
     "output_type": "stream",
     "text": [
      "[['公诉', '机关', '霍邱县', '人民检察院', '被告人', '许某', '1975', '日生', '2012', '因涉嫌', '危险', '驾驶', '霍邱县', '公安局', '取保候审', '2013', '日经', '本院', '取保候审', '霍邱县', '人民检察院', '以霍检', '刑诉', '2013', '起诉书', '指控', '被告人', '许某', '甲犯', '危险', '驾驶', '2013', '日向', '本院', '提起公诉', '本院', '依法', '简易程序', '实行', '独任', '审判', '2013', '公开', '开庭审理', '本案', '霍邱县', '人民检察院', '检察员', '胡涛', '被告人', '许某', '到庭', '参加', '诉讼', '现已', '审理', '终结', '霍邱县', '人民检察院', '指控', '2012', '被告人', '许某', '酒后', '驾驶', '二轮', '摩托车', '沿霍寿路', '由南向北', '行驶', '霍寿路', '公园路', '交叉口', '路边', '行人', '相撞', '公安民警', '查获', '六安市', '疾病', '预防', '控制中心', '鉴定', '许某', '血液', '乙醇', '含量', '169.64', 'mg', '100ml', '上述事实', '被告人', '开庭审理', '过程', '无异议', '被害人', '杨正响', '陈述', '证人', '李某', '证言', '六安市', '疾病', '预防', '控制中心', '检验', '报告', '六安市', '疾控交', '检字', '2012', '155', '霍邱县', '公安局', '交通管理', '大队', '呼吸', '酒精', '检测', '抽取', '当事人', '血样', '登记表', '驾驶', '信息', '查询', '道路', '交通事故', '赔偿', '调解', '协议书', '经济', '赔偿', '凭证', '谅解', '被告人', '户籍', '信息', '证据', '证明', '足以认定'], ['公诉', '机关', '海口市', '龙华区', '人民检察院', '被告人', '王某', '海口市', '龙华区', '人民检察院', '海龙', '检公', '刑诉', '774', '起诉书', '指控', '被告人', '王某', '乙犯', '贩卖毒品', '日向', '本院', '提起公诉', '本院', '依法', '简易程序', '实行', '独任', '审判', '公开', '开庭审理', '本案', '海口市', '龙华区', '人民检察院', '指派', '检察员', '余荣标', '出庭', '支持', '公诉', '被告人', '王某', '到庭', '参加', '诉讼', '现已', '审理', '终结', '公诉', '机关', '指控', '时许', '被告人', '王某', '海口市', '龙华区', '龙昆', '北路', '温泉', '大酒店', '门前', '人民币', '550', '价格', '购毒', '人员', '王某', '贩卖', '小包', '毒品', '鉴定', '一小', '包含', '海洛因', '成分', '净重', '0.9980', '一小', '包含', '甲基苯丙胺', '成分', '净重', '1.0469', '交易', '公安民警', '抓获', '公诉', '机关', '被告人', '王某', '无视', '国家', '法律', '非法', '贩卖毒品', '海洛因', '甲基苯丙胺', '已触犯', '中华人民共和国', '刑法', '第三', '四十七', '第四款', '贩卖毒品', '追究其', '刑事责任', '提请', '本院', '依法', '判处', '被告人', '王某', '起诉书', '指控', '事实', '罪名', '持异议', '审理', '查明', '时许', '事先', '电话', '被告人', '王某', '海口市', '龙华区', '龙昆', '北路', '温泉', '大酒店', '门前', '人民币', '550', '价格', '购毒', '人员', '王某', '贩卖', '小包', '毒品', '交易', '公安民警', '抓获', '公安民警', '从王', '身上', '扣押', '毒资', '人民币', '550', '贩毒', '手机', '一部', '从王', '某甲', '身上', '扣押', '毒品', '小包', '鉴定', '一小', '包含', '海洛因', '成分', '净重', '0.9980', '一小', '包含', '甲基苯丙胺', '成分', '净重', '1.0469', '上述事实', '被告人', '王某', '开庭审理', '过程', '无异议', '到案', '通话', '清单', '证人', '王某', '证言', '辨认', '笔录', '扣押', '物品', '清单', '毒化', '鉴定书', '被告人', '王某', '常住人口', '信息', '在案', '供述', '证据', '证实', '足以认定']]\n"
     ]
    }
   ],
   "source": [
    "print(words_list[0:2])"
   ]
  },
  {
   "cell_type": "markdown",
   "metadata": {},
   "source": [
    "## 3. 特征工程\n",
    "TfidfVectorizer模型"
   ]
  },
  {
   "cell_type": "code",
   "execution_count": 106,
   "metadata": {},
   "outputs": [],
   "source": [
    "#调用sklearn.feature_extraction.text库的TfidfVectorizer方法实例化模型对象。\n",
    "#TfidfVectorizer方法需要4个参数。\n",
    "#第1个参数是分词结果，数据类型为列表，其中的元素也为列表；\n",
    "#第2个关键字参数stop_words是停顿词，数据类型为列表；\n",
    "#第3个关键字参数min_df是词频低于此值则忽略，数据类型为int或float;\n",
    "#第4个关键字参数max_df是词频高于此值则忽略，数据类型为Int或float。\n",
    "#查看TfidfVectorizer方法的更多参数用法，\n",
    "#官方文档链接：http://sklearn.apachecn.org/cn/0.19.0/modules/generated/sklearn.feature_extraction.text.TfidfVectorizer.html"
   ]
  },
  {
   "cell_type": "code",
   "execution_count": 107,
   "metadata": {},
   "outputs": [],
   "source": [
    "tfidf=TfidfVectorizer(words_list,min_df=3,max_df=0.95)"
   ]
  },
  {
   "cell_type": "code",
   "execution_count": 108,
   "metadata": {},
   "outputs": [
    {
     "name": "stdout",
     "output_type": "stream",
     "text": [
      "词表大小: 221\n",
      "(19, 221)\n"
     ]
    }
   ],
   "source": [
    "#第1行代码查看向量化的维数，即特征的维数；\n",
    "#第2行代码调用TfidfVectorizer对象的fit_transform方法获得特征矩阵赋值给X；\n",
    "#第3行代码查看特征矩阵的形状。\n",
    "X=tfidf.fit_transform(train_df['content'])\n",
    "print('词表大小:', len(tfidf.vocabulary_))\n",
    "print(X.shape)"
   ]
  },
  {
   "cell_type": "code",
   "execution_count": 109,
   "metadata": {},
   "outputs": [],
   "source": [
    "#tfidf.vocabulary_"
   ]
  },
  {
   "cell_type": "code",
   "execution_count": 110,
   "metadata": {},
   "outputs": [
    {
     "data": {
      "text/plain": [
       "array([[0.        , 0.24422008, 0.38763061, 0.1406024 , 0.        ,\n",
       "        0.        , 0.        , 0.        , 0.        , 0.07709381,\n",
       "        0.        , 0.        , 0.        , 0.        , 0.        ,\n",
       "        0.        , 0.1406024 , 0.        , 0.        , 0.        ,\n",
       "        0.        , 0.        , 0.        , 0.        , 0.        ,\n",
       "        0.        , 0.        , 0.        , 0.        , 0.        ,\n",
       "        0.        , 0.        , 0.        , 0.        , 0.        ,\n",
       "        0.        , 0.23751006, 0.        , 0.        , 0.16281339,\n",
       "        0.        , 0.1406024 , 0.05955932, 0.        , 0.        ,\n",
       "        0.        , 0.        , 0.        , 0.        , 0.        ,\n",
       "        0.        , 0.        , 0.        , 0.        , 0.        ,\n",
       "        0.        , 0.        , 0.05955932, 0.        , 0.05955932,\n",
       "        0.        , 0.        , 0.        , 0.05955932, 0.        ,\n",
       "        0.        , 0.22089808, 0.        , 0.        , 0.        ,\n",
       "        0.        , 0.1406024 , 0.08609506, 0.        , 0.        ,\n",
       "        0.        , 0.        , 0.        , 0.        , 0.        ,\n",
       "        0.08140669, 0.08140669, 0.        , 0.        , 0.        ,\n",
       "        0.        , 0.        , 0.11911864, 0.        , 0.        ,\n",
       "        0.        , 0.        , 0.        , 0.        , 0.        ,\n",
       "        0.10325407, 0.        , 0.        , 0.        , 0.        ,\n",
       "        0.        , 0.12857892, 0.        , 0.        , 0.        ,\n",
       "        0.        , 0.        , 0.        , 0.        , 0.        ,\n",
       "        0.05955932, 0.12857892, 0.        , 0.        , 0.        ,\n",
       "        0.        , 0.07310071, 0.06263914, 0.        , 0.        ,\n",
       "        0.        , 0.        , 0.        , 0.        , 0.        ,\n",
       "        0.        , 0.05664605, 0.12857892, 0.        , 0.        ,\n",
       "        0.12857892, 0.11875503, 0.        , 0.        , 0.07709381,\n",
       "        0.        , 0.12857892, 0.        , 0.        , 0.        ,\n",
       "        0.        , 0.        , 0.        , 0.        , 0.        ,\n",
       "        0.08140669, 0.        , 0.        , 0.        , 0.        ,\n",
       "        0.09123059, 0.        , 0.        , 0.        , 0.        ,\n",
       "        0.        , 0.        , 0.        , 0.        , 0.        ,\n",
       "        0.        , 0.        , 0.07709381, 0.        , 0.        ,\n",
       "        0.        , 0.        , 0.        , 0.1406024 , 0.1406024 ,\n",
       "        0.1406024 , 0.08140669, 0.        , 0.        , 0.        ,\n",
       "        0.06938322, 0.        , 0.05664605, 0.08140669, 0.06938322,\n",
       "        0.        , 0.        , 0.05955932, 0.        , 0.        ,\n",
       "        0.        , 0.        , 0.1406024 , 0.        , 0.        ,\n",
       "        0.        , 0.        , 0.        , 0.        , 0.        ,\n",
       "        0.05955932, 0.07310071, 0.11875503, 0.        , 0.        ,\n",
       "        0.        , 0.        , 0.        , 0.06263914, 0.        ,\n",
       "        0.        , 0.        , 0.        , 0.08609506, 0.        ,\n",
       "        0.        , 0.        , 0.        , 0.        , 0.        ,\n",
       "        0.        , 0.07310071, 0.        , 0.        , 0.47502011,\n",
       "        0.        ],\n",
       "       [0.        , 0.        , 0.        , 0.        , 0.        ,\n",
       "        0.        , 0.        , 0.        , 0.        , 0.04261384,\n",
       "        0.        , 0.        , 0.057074  , 0.        , 0.        ,\n",
       "        0.        , 0.        , 0.        , 0.        , 0.053566  ,\n",
       "        0.        , 0.14214478, 0.13499339, 0.        , 0.        ,\n",
       "        0.        , 0.        , 0.        , 0.        , 0.107132  ,\n",
       "        0.        , 0.        , 0.        , 0.03835178, 0.        ,\n",
       "        0.        , 0.0656422 , 0.        , 0.        , 0.        ,\n",
       "        0.        , 0.23315521, 0.03292159, 0.        , 0.        ,\n",
       "        0.        , 0.0449978 , 0.        , 0.        , 0.        ,\n",
       "        0.        , 0.        , 0.        , 0.        , 0.        ,\n",
       "        0.0656422 , 0.057074  , 0.03292159, 0.0656422 , 0.03292159,\n",
       "        0.053566  , 0.        , 0.        , 0.03292159, 0.        ,\n",
       "        0.        , 0.        , 0.        , 0.        , 0.        ,\n",
       "        0.        , 0.        , 0.        , 0.0777184 , 0.        ,\n",
       "        0.        , 0.        , 0.        , 0.        , 0.        ,\n",
       "        0.0449978 , 0.0449978 , 0.        , 0.        , 0.        ,\n",
       "        0.        , 0.        , 0.06584319, 0.        , 0.        ,\n",
       "        0.        , 0.        , 0.        , 0.        , 0.        ,\n",
       "        0.        , 0.        , 0.        , 0.        , 0.12784152,\n",
       "        0.09517861, 0.        , 0.        , 0.        , 0.        ,\n",
       "        0.0449978 , 0.        , 0.        , 0.        , 0.06105104,\n",
       "        0.03292159, 0.        , 0.0449978 , 0.        , 0.        ,\n",
       "        0.        , 0.04040664, 0.03462398, 0.        , 0.        ,\n",
       "        0.10085597, 0.        , 0.        , 0.        , 0.        ,\n",
       "        0.        , 0.03131128, 0.        , 0.        , 0.03642959,\n",
       "        0.        , 0.        , 0.        , 0.        , 0.04261384,\n",
       "        0.        , 0.        , 0.        , 0.        , 0.08081328,\n",
       "        0.        , 0.04758931, 0.        , 0.        , 0.        ,\n",
       "        0.0449978 , 0.85286869, 0.        , 0.        , 0.0777184 ,\n",
       "        0.        , 0.        , 0.        , 0.        , 0.        ,\n",
       "        0.        , 0.        , 0.        , 0.        , 0.        ,\n",
       "        0.04040664, 0.        , 0.04261384, 0.        , 0.0777184 ,\n",
       "        0.        , 0.        , 0.        , 0.        , 0.        ,\n",
       "        0.        , 0.        , 0.        , 0.        , 0.        ,\n",
       "        0.03835178, 0.03835178, 0.03131128, 0.        , 0.03835178,\n",
       "        0.        , 0.        , 0.03292159, 0.        , 0.        ,\n",
       "        0.        , 0.        , 0.        , 0.        , 0.        ,\n",
       "        0.        , 0.        , 0.        , 0.        , 0.        ,\n",
       "        0.06584319, 0.04040664, 0.        , 0.        , 0.        ,\n",
       "        0.04758931, 0.        , 0.        , 0.03462398, 0.        ,\n",
       "        0.0656422 , 0.        , 0.        , 0.09517861, 0.0777184 ,\n",
       "        0.        , 0.        , 0.        , 0.        , 0.        ,\n",
       "        0.        , 0.        , 0.0777184 , 0.        , 0.        ,\n",
       "        0.        ],\n",
       "       [0.        , 0.        , 0.        , 0.        , 0.        ,\n",
       "        0.18545068, 0.        , 0.20079191, 0.        , 0.        ,\n",
       "        0.        , 0.        , 0.040311  , 0.        , 0.05489201,\n",
       "        0.        , 0.        , 0.10685089, 0.05019798, 0.07566665,\n",
       "        0.        , 0.        , 0.03178166, 0.        , 0.        ,\n",
       "        0.05489201, 0.040311  , 0.        , 0.        , 0.        ,\n",
       "        0.        , 0.        , 0.        , 0.05417524, 0.        ,\n",
       "        0.10039595, 0.        , 0.        , 0.        , 0.        ,\n",
       "        0.07123393, 0.        , 0.02325231, 0.        , 0.        ,\n",
       "        0.        , 0.03178166, 0.05019798, 0.16467604, 0.        ,\n",
       "        0.        , 0.        , 0.        , 0.        , 0.        ,\n",
       "        0.04636267, 0.040311  , 0.02325231, 0.        , 0.02325231,\n",
       "        0.        , 0.05019798, 0.        , 0.02325231, 0.04311996,\n",
       "        0.        , 0.        , 0.        , 0.03783332, 0.        ,\n",
       "        0.        , 0.        , 0.        , 0.        , 0.05019798,\n",
       "        0.10039595, 0.        , 0.        , 0.        , 0.15059393,\n",
       "        0.        , 0.        , 0.        , 0.        , 0.        ,\n",
       "        0.        , 0.        , 0.02325231, 0.        , 0.        ,\n",
       "        0.04636267, 0.07566665, 0.        , 0.04636267, 0.05489201,\n",
       "        0.040311  , 0.        , 0.        , 0.05489201, 0.        ,\n",
       "        0.        , 0.05019798, 0.        , 0.05019798, 0.16467604,\n",
       "        0.03178166, 0.        , 0.        , 0.        , 0.04311996,\n",
       "        0.02325231, 0.05019798, 0.03178166, 0.10978403, 0.        ,\n",
       "        0.        , 0.        , 0.02445469, 0.16467604, 0.        ,\n",
       "        0.07123393, 0.        , 0.        , 0.        , 0.        ,\n",
       "        0.        , 0.11057478, 0.        , 0.05019798, 0.02572999,\n",
       "        0.        , 0.        , 0.        , 0.        , 0.03009788,\n",
       "        0.05489201, 0.10039595, 0.        , 0.        , 0.        ,\n",
       "        0.09029365, 0.        , 0.05489201, 0.        , 0.        ,\n",
       "        0.        , 0.10039595, 0.48373203, 0.        , 0.        ,\n",
       "        0.        , 0.05489201, 0.        , 0.        , 0.        ,\n",
       "        0.        , 0.        , 0.        , 0.13908801, 0.        ,\n",
       "        0.08561685, 0.04636267, 0.        , 0.05489201, 0.        ,\n",
       "        0.        , 0.        , 0.        , 0.10978403, 0.05489201,\n",
       "        0.        , 0.28603491, 0.        , 0.05019798, 0.        ,\n",
       "        0.21670096, 0.24378858, 0.06634487, 0.06356331, 0.21670096,\n",
       "        0.        , 0.        , 0.02325231, 0.        , 0.        ,\n",
       "        0.        , 0.        , 0.        , 0.        , 0.040311  ,\n",
       "        0.        , 0.        , 0.        , 0.        , 0.        ,\n",
       "        0.02325231, 0.        , 0.18545068, 0.05489201, 0.        ,\n",
       "        0.03361202, 0.05489201, 0.13908801, 0.02445469, 0.10039595,\n",
       "        0.04636267, 0.        , 0.        , 0.03361202, 0.10978403,\n",
       "        0.        , 0.        , 0.        , 0.        , 0.        ,\n",
       "        0.        , 0.        , 0.        , 0.        , 0.        ,\n",
       "        0.16467604],\n",
       "       [0.        , 0.15781194, 0.02683736, 0.        , 0.01946904,\n",
       "        0.26310173, 0.        , 0.05341248, 0.03893807, 0.02135016,\n",
       "        0.03893807, 0.        , 0.02859492, 0.        , 0.03893807,\n",
       "        0.        , 0.        , 0.05053034, 0.        , 0.05367472,\n",
       "        0.03893807, 0.        , 0.10145053, 0.01780416, 0.01780416,\n",
       "        0.        , 0.        , 0.        , 0.08051208, 0.01341868,\n",
       "        0.01780416, 0.        , 0.03893807, 0.03842962, 0.        ,\n",
       "        0.01780416, 0.        , 0.03893807, 0.01946904, 0.05636141,\n",
       "        0.        , 0.01946904, 0.        , 0.        , 0.05840711,\n",
       "        0.        , 0.        , 0.        , 0.        , 0.07646869,\n",
       "        0.        , 0.        , 0.01946904, 0.03576442, 0.        ,\n",
       "        0.        , 0.02859492, 0.        , 0.04933157, 0.        ,\n",
       "        0.        , 0.        , 0.        , 0.        , 0.09176243,\n",
       "        0.        , 0.        , 0.        , 0.01341868, 0.        ,\n",
       "        0.        , 0.        , 0.03576442, 0.        , 0.05341248,\n",
       "        0.01780416, 0.05840711, 0.        , 0.        , 0.        ,\n",
       "        0.        , 0.        , 0.06117495, 0.        , 0.01946904,\n",
       "        0.03058748, 0.        , 0.0082471 , 0.        , 0.        ,\n",
       "        0.        , 0.        , 0.01946904, 0.01644386, 0.        ,\n",
       "        0.        , 0.01780416, 0.        , 0.        , 0.06405049,\n",
       "        0.02384295, 0.        , 0.        , 0.        , 0.        ,\n",
       "        0.        , 0.        , 0.        , 0.05341248, 0.        ,\n",
       "        0.        , 0.80118722, 0.        , 0.03893807, 0.        ,\n",
       "        0.        , 0.        , 0.        , 0.01946904, 0.        ,\n",
       "        0.13895842, 0.        , 0.05341248, 0.        , 0.        ,\n",
       "        0.        , 0.        , 0.        , 0.        , 0.00912588,\n",
       "        0.        , 0.        , 0.        , 0.        , 0.        ,\n",
       "        0.        , 0.        , 0.12462912, 0.        , 0.02024432,\n",
       "        0.        , 0.02384295, 0.        , 0.        , 0.01192147,\n",
       "        0.        , 0.        , 0.        , 0.        , 0.        ,\n",
       "        0.        , 0.        , 0.27256651, 0.09537179, 0.01946904,\n",
       "        0.01780416, 0.        , 0.03202525, 0.03288772, 0.        ,\n",
       "        0.02024432, 0.        , 0.        , 0.        , 0.        ,\n",
       "        0.        , 0.03202525, 0.01946904, 0.        , 0.        ,\n",
       "        0.09734518, 0.06763369, 0.01946904, 0.05341248, 0.        ,\n",
       "        0.        , 0.05764443, 0.03137483, 0.03381684, 0.        ,\n",
       "        0.        , 0.        , 0.        , 0.        , 0.03893807,\n",
       "        0.01946904, 0.        , 0.        , 0.03893807, 0.02859492,\n",
       "        0.03288772, 0.        , 0.03288772, 0.        , 0.        ,\n",
       "        0.        , 0.        , 0.03288772, 0.        , 0.        ,\n",
       "        0.02384295, 0.        , 0.        , 0.        , 0.        ,\n",
       "        0.        , 0.05840711, 0.        , 0.        , 0.        ,\n",
       "        0.03058748, 0.03893807, 0.        , 0.        , 0.        ,\n",
       "        0.05840711, 0.02024432, 0.        , 0.01780416, 0.08221929,\n",
       "        0.        ]])"
      ]
     },
     "execution_count": 110,
     "metadata": {},
     "output_type": "execute_result"
    }
   ],
   "source": [
    "X.toarray()[0:4]"
   ]
  },
  {
   "cell_type": "markdown",
   "metadata": {},
   "source": [
    "## 4. 模型训练"
   ]
  },
  {
   "cell_type": "markdown",
   "metadata": {},
   "source": [
    "### 4.1 标签编码"
   ]
  },
  {
   "cell_type": "code",
   "execution_count": 111,
   "metadata": {},
   "outputs": [
    {
     "data": {
      "text/plain": [
       "array([1, 2, 3, 4, 5, 6, 7, 8])"
      ]
     },
     "execution_count": 111,
     "metadata": {},
     "output_type": "execute_result"
    }
   ],
   "source": [
    "np.unique(train_df['penalty'])"
   ]
  },
  {
   "cell_type": "code",
   "execution_count": 112,
   "metadata": {},
   "outputs": [],
   "source": [
    "#调用sklearn.preprocessing库的LabelEncoder方法对文章分类做标签编码。\n",
    "from sklearn.preprocessing import LabelEncoder\n",
    "label_encoder = LabelEncoder()\n",
    "y = label_encoder.fit_transform(train_df['penalty'])"
   ]
  },
  {
   "cell_type": "code",
   "execution_count": 113,
   "metadata": {},
   "outputs": [
    {
     "data": {
      "text/plain": [
       "(19,)"
      ]
     },
     "execution_count": 113,
     "metadata": {},
     "output_type": "execute_result"
    }
   ],
   "source": [
    "y.shape"
   ]
  },
  {
   "cell_type": "code",
   "execution_count": 114,
   "metadata": {},
   "outputs": [
    {
     "data": {
      "text/plain": [
       "array([2, 0, 4, 4, 6, 0, 6, 1, 1, 1, 3, 7, 1, 7, 4, 1, 5, 0, 6])"
      ]
     },
     "execution_count": 114,
     "metadata": {},
     "output_type": "execute_result"
    }
   ],
   "source": [
    "y"
   ]
  },
  {
   "cell_type": "code",
   "execution_count": null,
   "metadata": {},
   "outputs": [],
   "source": []
  },
  {
   "cell_type": "code",
   "execution_count": null,
   "metadata": {},
   "outputs": [],
   "source": []
  },
  {
   "cell_type": "markdown",
   "metadata": {},
   "source": [
    "### 4.2 逻辑回归模型\n",
    "调用sklearn.linear_model库的LogisticRegression方法实例化模型对象。  <br>\n",
    "调用sklearn.model_selection库的train_test_split方法划分训练集和测试集。"
   ]
  },
  {
   "cell_type": "code",
   "execution_count": 155,
   "metadata": {},
   "outputs": [],
   "source": [
    "def micro_avg_f1(y_true, y_pred):\n",
    "    '''\n",
    "    分类 评估函数\n",
    "    :param y_true: 样本实际类别\n",
    "    :param y_pred: 预测类别\n",
    "    :return:\n",
    "    '''\n",
    "    return f1_score(y_true, y_pred, average='micro')"
   ]
  },
  {
   "cell_type": "code",
   "execution_count": 115,
   "metadata": {},
   "outputs": [],
   "source": [
    "X_train,X_test,y_train,y_test= train_test_split(X, y, test_size=0.3)"
   ]
  },
  {
   "cell_type": "code",
   "execution_count": 140,
   "metadata": {},
   "outputs": [
    {
     "data": {
      "text/plain": [
       "0.16666666666666666"
      ]
     },
     "execution_count": 140,
     "metadata": {},
     "output_type": "execute_result"
    }
   ],
   "source": [
    "lr = LogisticRegression(multi_class='multinomial', solver='lbfgs')\n",
    "lr.fit(X_train, y_train)\n",
    "y_pred = lr.predict_proba(X_test)\n",
    "y_pred_score = micro_avg_f1(y_test,lr.predict(X_test))\n",
    "y_pred_score"
   ]
  },
  {
   "cell_type": "code",
   "execution_count": 141,
   "metadata": {},
   "outputs": [
    {
     "data": {
      "text/plain": [
       "array([[0.11555073, 0.42320838, 0.10419864, 0.1586219 , 0.06712954,\n",
       "        0.13129081],\n",
       "       [0.16548766, 0.26835218, 0.07591945, 0.23722372, 0.08108692,\n",
       "        0.17193007],\n",
       "       [0.16721956, 0.24470529, 0.07614123, 0.24624113, 0.07255213,\n",
       "        0.19314066],\n",
       "       [0.25334315, 0.23970048, 0.07162079, 0.21381941, 0.07830657,\n",
       "        0.1432096 ],\n",
       "       [0.1401417 , 0.28548441, 0.07803965, 0.21018299, 0.08116869,\n",
       "        0.20498256],\n",
       "       [0.12379151, 0.3632005 , 0.07176894, 0.22708078, 0.06820116,\n",
       "        0.14595711]])"
      ]
     },
     "execution_count": 141,
     "metadata": {},
     "output_type": "execute_result"
    }
   ],
   "source": [
    "y_pred"
   ]
  },
  {
   "cell_type": "code",
   "execution_count": 142,
   "metadata": {},
   "outputs": [
    {
     "data": {
      "text/plain": [
       "0.16666666666666666"
      ]
     },
     "execution_count": 142,
     "metadata": {},
     "output_type": "execute_result"
    }
   ],
   "source": [
    "lr.score(X_test,y_test)"
   ]
  },
  {
   "cell_type": "markdown",
   "metadata": {},
   "source": [
    "### 4. 3 交叉验证"
   ]
  },
  {
   "cell_type": "code",
   "execution_count": 132,
   "metadata": {},
   "outputs": [],
   "source": [
    "skf = StratifiedKFold(n_splits=2, random_state=config.seed)"
   ]
  },
  {
   "cell_type": "code",
   "execution_count": 157,
   "metadata": {},
   "outputs": [
    {
     "name": "stdout",
     "output_type": "stream",
     "text": [
      "TRAIN: [ 4  6  9 10 12] TEST: [ 0  1  2  3  5  7  8 11]\n",
      "Train_dataset...\n",
      "[[0.         0.         0.         ... 0.         0.         0.        ]\n",
      " [0.01557146 0.26145359 0.10732344 ... 0.         0.         0.        ]\n",
      " [0.         0.         0.31856936 ... 0.         0.         0.        ]\n",
      " [0.         0.15781194 0.02683736 ... 0.01780416 0.08221929 0.        ]\n",
      " [0.         0.25561113 0.         ... 0.         0.         0.        ]] [0 7 1 4 1]\n",
      "Validate_dataset...\n",
      "[[0.         0.         0.55420897 ... 0.01885474 0.01741417 0.12370717]\n",
      " [0.         0.26705624 0.         ... 0.         0.38957818 0.        ]\n",
      " [0.         0.         0.         ... 0.         0.         0.        ]\n",
      " ...\n",
      " [0.11803844 0.0683425  0.         ... 0.05397225 0.         0.05901922]\n",
      " [0.         0.         0.         ... 0.         0.         0.16467604]\n",
      " [0.13384364 0.23248041 0.         ... 0.         0.         0.        ]] [4 1 0 1 7 5 4 3]\n",
      "y_true y_pred.....\n",
      "[4 1 0 1 7 5 4 3] [1 1 1 1 1 1 1 1]\n",
      "y_pred_score=0.25\n",
      "TRAIN: [ 0  1  2  3  5  7  8 11] TEST: [ 4  6  9 10 12]\n",
      "Train_dataset...\n",
      "[[0.         0.         0.55420897 ... 0.01885474 0.01741417 0.12370717]\n",
      " [0.         0.26705624 0.         ... 0.         0.38957818 0.        ]\n",
      " [0.         0.         0.         ... 0.         0.         0.        ]\n",
      " ...\n",
      " [0.11803844 0.0683425  0.         ... 0.05397225 0.         0.05901922]\n",
      " [0.         0.         0.         ... 0.         0.         0.16467604]\n",
      " [0.13384364 0.23248041 0.         ... 0.         0.         0.        ]] [4 1 0 1 7 5 4 3]\n",
      "Validate_dataset...\n",
      "[[0.         0.         0.         ... 0.         0.         0.        ]\n",
      " [0.01557146 0.26145359 0.10732344 ... 0.         0.         0.        ]\n",
      " [0.         0.         0.31856936 ... 0.         0.         0.        ]\n",
      " [0.         0.15781194 0.02683736 ... 0.01780416 0.08221929 0.        ]\n",
      " [0.         0.25561113 0.         ... 0.         0.         0.        ]] [0 7 1 4 1]\n",
      "y_true y_pred.....\n",
      "[0 7 1 4 1] [4 4 4 4 1]\n",
      "y_pred_score=0.4000000000000001\n"
     ]
    },
    {
     "name": "stderr",
     "output_type": "stream",
     "text": [
      "/anaconda3/lib/python3.7/site-packages/sklearn/model_selection/_split.py:605: Warning: The least populated class in y has only 1 members, which is too few. The minimum number of members in any class cannot be less than n_splits=2.\n",
      "  % (min_groups, self.n_splits)), Warning)\n"
     ]
    }
   ],
   "source": [
    "for train_index, test_index in skf.split(X_train, y_train):\n",
    "    print(\"TRAIN:\", train_index, \"TEST:\", test_index)\n",
    "    train_data,val_data=X_train[train_index],X_train[test_index]\n",
    "    train_y,val_y=y_train[train_index],y_train[test_index]\n",
    "    print(\"Train_dataset...\")\n",
    "    print(train_data.toarray(),train_y)\n",
    "    print(\"Validate_dataset...\")\n",
    "    print(val_data.toarray(),val_y)\n",
    "    lr = LogisticRegression(multi_class='multinomial', solver='lbfgs')\n",
    "    lr.fit(train_data, train_y)\n",
    "    y_pred_val=lr.predict(val_data)\n",
    "    print(\"y_true y_pred.....\")\n",
    "    print(val_y,y_pred_val)\n",
    "    y_pred_score = micro_avg_f1(val_y,y_pred_val)\n",
    "    y_pred_score\n",
    "    print(\"y_pred_score={}\".format(y_pred_score))"
   ]
  },
  {
   "cell_type": "markdown",
   "metadata": {},
   "source": [
    "## 4.4 基于模型的特征提取"
   ]
  },
  {
   "cell_type": "markdown",
   "metadata": {},
   "source": [
    "tf-idf 提供的原始样本后，然后通过LR。。。等模型提取 特征。  通过多个模型提取特征，进行特征融合，然后再进行训练"
   ]
  },
  {
   "cell_type": "code",
   "execution_count": 160,
   "metadata": {},
   "outputs": [
    {
     "data": {
      "text/plain": [
       "8"
      ]
     },
     "execution_count": 160,
     "metadata": {},
     "output_type": "execute_result"
    }
   ],
   "source": [
    "num_class = len(np.unique(train_df['penalty']))\n",
    "num_class"
   ]
  },
  {
   "cell_type": "code",
   "execution_count": 165,
   "metadata": {},
   "outputs": [],
   "source": [
    "# 初始化stack ： 通过模型提取特征矩阵的数值\n",
    "stack=np.zeros((X_train.shape[0],num_class))"
   ]
  },
  {
   "cell_type": "code",
   "execution_count": 166,
   "metadata": {},
   "outputs": [
    {
     "name": "stdout",
     "output_type": "stream",
     "text": [
      "TRAIN: [ 4  6  9 10 12] TEST: [ 0  1  2  3  5  7  8 11]\n",
      "Train_dataset...\n",
      "[[0.         0.         0.         ... 0.         0.         0.        ]\n",
      " [0.01557146 0.26145359 0.10732344 ... 0.         0.         0.        ]\n",
      " [0.         0.         0.31856936 ... 0.         0.         0.        ]\n",
      " [0.         0.15781194 0.02683736 ... 0.01780416 0.08221929 0.        ]\n",
      " [0.         0.25561113 0.         ... 0.         0.         0.        ]] [0 7 1 4 1]\n",
      "Validate_dataset...\n",
      "[[0.         0.         0.55420897 ... 0.01885474 0.01741417 0.12370717]\n",
      " [0.         0.26705624 0.         ... 0.         0.38957818 0.        ]\n",
      " [0.         0.         0.         ... 0.         0.         0.        ]\n",
      " ...\n",
      " [0.11803844 0.0683425  0.         ... 0.05397225 0.         0.05901922]\n",
      " [0.         0.         0.         ... 0.         0.         0.16467604]\n",
      " [0.13384364 0.23248041 0.         ... 0.         0.         0.        ]] [4 1 0 1 7 5 4 3]\n",
      "y_true y_pred.....\n",
      "[4 1 0 1 7 5 4 3] [1 1 1 1 1 1 1 1]\n",
      "y_pred_score=0.25\n",
      "TRAIN: [ 0  1  2  3  5  7  8 11] TEST: [ 4  6  9 10 12]\n",
      "Train_dataset...\n",
      "[[0.         0.         0.55420897 ... 0.01885474 0.01741417 0.12370717]\n",
      " [0.         0.26705624 0.         ... 0.         0.38957818 0.        ]\n",
      " [0.         0.         0.         ... 0.         0.         0.        ]\n",
      " ...\n",
      " [0.11803844 0.0683425  0.         ... 0.05397225 0.         0.05901922]\n",
      " [0.         0.         0.         ... 0.         0.         0.16467604]\n",
      " [0.13384364 0.23248041 0.         ... 0.         0.         0.        ]] [4 1 0 1 7 5 4 3]\n",
      "Validate_dataset...\n",
      "[[0.         0.         0.         ... 0.         0.         0.        ]\n",
      " [0.01557146 0.26145359 0.10732344 ... 0.         0.         0.        ]\n",
      " [0.         0.         0.31856936 ... 0.         0.         0.        ]\n",
      " [0.         0.15781194 0.02683736 ... 0.01780416 0.08221929 0.        ]\n",
      " [0.         0.25561113 0.         ... 0.         0.         0.        ]] [0 7 1 4 1]\n",
      "y_true y_pred.....\n",
      "[0 7 1 4 1] [4 4 4 4 1]\n",
      "y_pred_score=0.4000000000000001\n"
     ]
    },
    {
     "name": "stderr",
     "output_type": "stream",
     "text": [
      "/anaconda3/lib/python3.7/site-packages/sklearn/model_selection/_split.py:605: Warning: The least populated class in y has only 1 members, which is too few. The minimum number of members in any class cannot be less than n_splits=2.\n",
      "  % (min_groups, self.n_splits)), Warning)\n"
     ]
    }
   ],
   "source": [
    "for train_index, test_index in skf.split(X_train, y_train):\n",
    "    print(\"TRAIN:\", train_index, \"TEST:\", test_index)\n",
    "    train_data,val_data=X_train[train_index],X_train[test_index]\n",
    "    train_y,val_y=y_train[train_index],y_train[test_index]\n",
    "    print(\"Train_dataset...\")\n",
    "    print(train_data.toarray(),train_y)\n",
    "    print(\"Validate_dataset...\")\n",
    "    print(val_data.toarray(),val_y)\n",
    "    lr = LogisticRegression(multi_class='multinomial', solver='lbfgs')\n",
    "    lr.fit(train_data, train_y)\n",
    "    y_pred_val=lr.predict(val_data)\n",
    "    print(\"y_true y_pred.....\")\n",
    "    print(val_y,y_pred_val)\n",
    "    y_pred_score = micro_avg_f1(val_y,y_pred_val)\n",
    "    y_pred_score\n",
    "    print(\"y_pred_score={}\".format(y_pred_score))"
   ]
  },
  {
   "cell_type": "code",
   "execution_count": null,
   "metadata": {},
   "outputs": [],
   "source": []
  },
  {
   "cell_type": "code",
   "execution_count": 71,
   "metadata": {},
   "outputs": [],
   "source": [
    "#调用pickle库的dump方法保存模型，需要2个参数。\n",
    "#第1个参数是保存的对象，可以为任意数据类型，因为有3个模型需要保存，所以下面代码第1个参数是字典。\n",
    "#第2个参数是保存的文件对象，数据类型为_io.BufferedWriter"
   ]
  },
  {
   "cell_type": "code",
   "execution_count": 72,
   "metadata": {},
   "outputs": [],
   "source": [
    "import pickle"
   ]
  },
  {
   "cell_type": "code",
   "execution_count": 75,
   "metadata": {},
   "outputs": [],
   "source": [
    "with open('tfidf_lr.model','wb') as f:\n",
    "    save = {\n",
    "        'label_encoder' : label_encoder,\n",
    "        'tfidfVectorizer' : tfidf,\n",
    "        'lr' : lr\n",
    "    }\n",
    "    pickle.dump(save, f)"
   ]
  },
  {
   "cell_type": "code",
   "execution_count": null,
   "metadata": {},
   "outputs": [],
   "source": []
  }
 ],
 "metadata": {
  "kernelspec": {
   "display_name": "Python 3",
   "language": "python",
   "name": "python3"
  },
  "language_info": {
   "codemirror_mode": {
    "name": "ipython",
    "version": 3
   },
   "file_extension": ".py",
   "mimetype": "text/x-python",
   "name": "python",
   "nbconvert_exporter": "python",
   "pygments_lexer": "ipython3",
   "version": "3.7.2"
  }
 },
 "nbformat": 4,
 "nbformat_minor": 2
}
