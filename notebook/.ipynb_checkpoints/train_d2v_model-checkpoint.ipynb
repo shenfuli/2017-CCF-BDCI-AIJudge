{
 "cells": [
  {
   "cell_type": "code",
   "execution_count": 1,
   "metadata": {},
   "outputs": [],
   "source": [
    "import sys\n",
    "sys.path.append(\"/Users/zhengwenjie/AI/work/ML_3/2017-CCF-BDCI-AIJudge\")"
   ]
  },
  {
   "cell_type": "code",
   "execution_count": 2,
   "metadata": {},
   "outputs": [
    {
     "name": "stderr",
     "output_type": "stream",
     "text": [
      "/anaconda3/lib/python3.7/site-packages/sklearn/cross_validation.py:41: DeprecationWarning: This module was deprecated in version 0.18 in favor of the model_selection module into which all the refactored classes and functions are moved. Also note that the interface of the new CV iterators are different from that of this module. This module will be removed in 0.20.\n",
      "  \"This module will be removed in 0.20.\", DeprecationWarning)\n"
     ]
    }
   ],
   "source": [
    "# -*- encoding:utf-8 -*-\n",
    "import codecs\n",
    "import subprocess\n",
    "from collections import namedtuple\n",
    "\n",
    "import numpy as np\n",
    "import pandas as pd\n",
    "from gensim.models import Doc2Vec\n",
    "from sklearn.cross_validation import cross_val_score\n",
    "from sklearn.linear_model import LogisticRegression\n",
    "from utils import LOGGER\n",
    "from config.db_config import Config\n",
    "config = Config()"
   ]
  },
  {
   "cell_type": "markdown",
   "metadata": {},
   "source": [
    "## 加载数据"
   ]
  },
  {
   "cell_type": "code",
   "execution_count": 3,
   "metadata": {},
   "outputs": [
    {
     "data": {
      "text/html": [
       "<div>\n",
       "<style scoped>\n",
       "    .dataframe tbody tr th:only-of-type {\n",
       "        vertical-align: middle;\n",
       "    }\n",
       "\n",
       "    .dataframe tbody tr th {\n",
       "        vertical-align: top;\n",
       "    }\n",
       "\n",
       "    .dataframe thead th {\n",
       "        text-align: right;\n",
       "    }\n",
       "</style>\n",
       "<table border=\"1\" class=\"dataframe\">\n",
       "  <thead>\n",
       "    <tr style=\"text-align: right;\">\n",
       "      <th></th>\n",
       "      <th>id</th>\n",
       "      <th>content</th>\n",
       "      <th>laws</th>\n",
       "      <th>penalty</th>\n",
       "    </tr>\n",
       "  </thead>\n",
       "  <tbody>\n",
       "    <tr>\n",
       "      <th>0</th>\n",
       "      <td>16</td>\n",
       "      <td>公诉 机关 霍邱县 人民检察院 被告人 许某 1975 日生 2012 因涉嫌 危险 驾驶 ...</td>\n",
       "      <td>133,72,73</td>\n",
       "      <td>3</td>\n",
       "    </tr>\n",
       "    <tr>\n",
       "      <th>1</th>\n",
       "      <td>32</td>\n",
       "      <td>公诉 机关 海口市 龙华区 人民检察院 被告人 王某 海口市 龙华区 人民检察院 海龙 检公...</td>\n",
       "      <td>347,67,52,64</td>\n",
       "      <td>1</td>\n",
       "    </tr>\n",
       "    <tr>\n",
       "      <th>2</th>\n",
       "      <td>41</td>\n",
       "      <td>公诉 机关 广东省 潮州市 人民检察院 被告人 覃学彬 1980 出生 广西壮族自治区 大新...</td>\n",
       "      <td>263,25,52,53,55,56</td>\n",
       "      <td>5</td>\n",
       "    </tr>\n",
       "    <tr>\n",
       "      <th>3</th>\n",
       "      <td>57</td>\n",
       "      <td>公诉 机关 榆林市 榆阳区 人民检察院 上诉人 原审 被告人 2012 因涉嫌 盗窃罪 榆林...</td>\n",
       "      <td>264,52,53,67,72,73</td>\n",
       "      <td>5</td>\n",
       "    </tr>\n",
       "    <tr>\n",
       "      <th>4</th>\n",
       "      <td>60</td>\n",
       "      <td>公诉 机关 榆阳区 人民检察院 上诉人 原审 被告人 刘某 汉族 陕西省 横山县 小学文化 ...</td>\n",
       "      <td>224,25,26,27,52,72</td>\n",
       "      <td>7</td>\n",
       "    </tr>\n",
       "  </tbody>\n",
       "</table>\n",
       "</div>"
      ],
      "text/plain": [
       "   id                                            content                laws  \\\n",
       "0  16  公诉 机关 霍邱县 人民检察院 被告人 许某 1975 日生 2012 因涉嫌 危险 驾驶 ...           133,72,73   \n",
       "1  32  公诉 机关 海口市 龙华区 人民检察院 被告人 王某 海口市 龙华区 人民检察院 海龙 检公...        347,67,52,64   \n",
       "2  41  公诉 机关 广东省 潮州市 人民检察院 被告人 覃学彬 1980 出生 广西壮族自治区 大新...  263,25,52,53,55,56   \n",
       "3  57  公诉 机关 榆林市 榆阳区 人民检察院 上诉人 原审 被告人 2012 因涉嫌 盗窃罪 榆林...  264,52,53,67,72,73   \n",
       "4  60  公诉 机关 榆阳区 人民检察院 上诉人 原审 被告人 刘某 汉族 陕西省 横山县 小学文化 ...  224,25,26,27,52,72   \n",
       "\n",
       "   penalty  \n",
       "0        3  \n",
       "1        1  \n",
       "2        5  \n",
       "3        5  \n",
       "4        7  "
      ]
     },
     "execution_count": 3,
     "metadata": {},
     "output_type": "execute_result"
    }
   ],
   "source": [
    "data_df = pd.read_csv(config.data_csv_path,encoding='utf-8')\n",
    "data_df.head()"
   ]
  },
  {
   "cell_type": "code",
   "execution_count": 4,
   "metadata": {},
   "outputs": [
    {
     "data": {
      "text/plain": [
       "(100, 4)"
      ]
     },
     "execution_count": 4,
     "metadata": {},
     "output_type": "execute_result"
    }
   ],
   "source": [
    "data_df.shape"
   ]
  },
  {
   "cell_type": "markdown",
   "metadata": {},
   "source": [
    "## 准备doc2vec 格式数据"
   ]
  },
  {
   "cell_type": "code",
   "execution_count": 5,
   "metadata": {},
   "outputs": [
    {
     "name": "stdout",
     "output_type": "stream",
     "text": [
      "2019-03-27 22:20:13 iter=0\n"
     ]
    }
   ],
   "source": [
    "doc_f = codecs.open(config.feat_d2v,encoding='utf-8',mode='w')\n",
    "for i,content in enumerate(data_df['content']):\n",
    "    if i%10000==0:\n",
    "        LOGGER.log('iter=%d' %i)\n",
    "    doc_f.write(u'_*{} {}\\n'.format(i, content))\n",
    "doc_f.close()    "
   ]
  },
  {
   "cell_type": "code",
   "execution_count": 7,
   "metadata": {},
   "outputs": [],
   "source": [
    "SentimentDocument = namedtuple('SentimentDocument', 'words tags')\n",
    "class Doc_list(object):\n",
    "    def __init__(self, f):\n",
    "        self.f = f\n",
    "    def __iter__(self):\n",
    "        for i,line in enumerate(codecs.open(self.f,encoding='utf8')):\n",
    "            words = line.strip().split(' ')\n",
    "            tags = [int(words[0][2:])]\n",
    "            words = words[1:]\n",
    "            yield SentimentDocument(words,tags)"
   ]
  },
  {
   "cell_type": "code",
   "execution_count": 10,
   "metadata": {},
   "outputs": [],
   "source": [
    "text=\"_*9 公诉 机关 平湖市 人民检察院 被告人 童某 个体 拆房 因涉嫌 盗窃罪 2012 平湖市 公安局 刑事拘留 同年 依法逮捕 羁押于 本市 看守所 平湖市 人民检察院 以平检 刑诉 2012 525 起诉书 指控 被告人 某犯 盗窃罪 2012 日向 本院 提起公诉 本院 同日 受理 依法 简易程序 实行 独任 审判 公开 开庭审理 本案 被告人 童某 到庭 参加 诉讼 现已 审理 终结 2008 时许 被告人 童某 童得明 判刑 本市 曹桥 街道 愚桥 村大 竹园 废品收购 被告人 童某 路边 望风 童得明 采用 搭线 手段 得失 停放 该处 华益牌 电瓶 三轮车 一辆 价值 2475 查明 赃物 电瓶 三轮车 扣押 发还 失主 上述事实 被告人 童某 开庭审理 过程 无异议 接受 刑事案件 登记表 失主 陈述 证人 证言 同伙 供述 刑事 判决书 辨认 笔录 照片 身份证明 搜查 笔录 扣押 发还 物品 清单 价格 鉴定结论 抓获 证据 予以 证实 足以认定\""
   ]
  },
  {
   "cell_type": "code",
   "execution_count": 32,
   "metadata": {},
   "outputs": [
    {
     "name": "stdout",
     "output_type": "stream",
     "text": [
      "['公诉', '机关', '平湖市', '人民检察院']\n",
      "[9]\n"
     ]
    },
    {
     "data": {
      "text/plain": [
       "SentimentDocument(words=['公诉', '机关', '平湖市', '人民检察院', '被告人', '童某', '个体', '拆房', '因涉嫌', '盗窃罪', '2012', '平湖市', '公安局', '刑事拘留', '同年', '依法逮捕', '羁押于', '本市', '看守所', '平湖市', '人民检察院', '以平检', '刑诉', '2012', '525', '起诉书', '指控', '被告人', '某犯', '盗窃罪', '2012', '日向', '本院', '提起公诉', '本院', '同日', '受理', '依法', '简易程序', '实行', '独任', '审判', '公开', '开庭审理', '本案', '被告人', '童某', '到庭', '参加', '诉讼', '现已', '审理', '终结', '2008', '时许', '被告人', '童某', '童得明', '判刑', '本市', '曹桥', '街道', '愚桥', '村大', '竹园', '废品收购', '被告人', '童某', '路边', '望风', '童得明', '采用', '搭线', '手段', '得失', '停放', '该处', '华益牌', '电瓶', '三轮车', '一辆', '价值', '2475', '查明', '赃物', '电瓶', '三轮车', '扣押', '发还', '失主', '上述事实', '被告人', '童某', '开庭审理', '过程', '无异议', '接受', '刑事案件', '登记表', '失主', '陈述', '证人', '证言', '同伙', '供述', '刑事', '判决书', '辨认', '笔录', '照片', '身份证明', '搜查', '笔录', '扣押', '发还', '物品', '清单', '价格', '鉴定结论', '抓获', '证据', '予以', '证实', '足以认定'], tags=[9])"
      ]
     },
     "execution_count": 32,
     "metadata": {},
     "output_type": "execute_result"
    }
   ],
   "source": [
    "words = text.strip().split(' ')\n",
    "tags = [int(words[0][2:])]\n",
    "words = words[1:]\n",
    "print(words[0:4])\n",
    "print(tags)\n",
    "sd = SentimentDocument(words,tags)\n",
    "sd"
   ]
  },
  {
   "cell_type": "code",
   "execution_count": 47,
   "metadata": {},
   "outputs": [
    {
     "name": "stderr",
     "output_type": "stream",
     "text": [
      "/anaconda3/lib/python3.7/site-packages/gensim/models/doc2vec.py:366: UserWarning: The parameter `size` is deprecated, will be removed in 4.0.0, use `vector_size` instead.\n",
      "  warnings.warn(\"The parameter `size` is deprecated, will be removed in 4.0.0, use `vector_size` instead.\")\n"
     ]
    }
   ],
   "source": [
    "d2v = Doc2Vec(dm=0, size=100, negative=5, hs=0, min_count=3, window=30, sample=1e-5, workers=8, alpha=0.025, min_alpha=0.025)\n",
    "doc_list = Doc_list(config.feat_d2v)\n",
    "d2v.build_vocab(doc_list)\n"
   ]
  },
  {
   "cell_type": "code",
   "execution_count": 48,
   "metadata": {},
   "outputs": [
    {
     "name": "stdout",
     "output_type": "stream",
     "text": [
      "100\n"
     ]
    }
   ],
   "source": [
    "rows = data_df.shape[0]\n",
    "print(rows)"
   ]
  },
  {
   "cell_type": "code",
   "execution_count": 49,
   "metadata": {},
   "outputs": [
    {
     "data": {
      "text/plain": [
       "array([-4.3182541e-03,  4.4409172e-03,  4.3915943e-03,  4.0324596e-03,\n",
       "       -4.8620272e-03,  4.9612089e-03, -1.9419260e-03,  7.3655194e-04,\n",
       "       -4.2478000e-03, -4.4417460e-03,  3.8351428e-03, -1.9655465e-03,\n",
       "       -2.3090076e-03,  4.7950116e-03,  1.2002439e-03, -1.3877178e-03,\n",
       "       -3.7086068e-03,  3.2611459e-03, -2.4280834e-03, -1.5663636e-03,\n",
       "        4.9653081e-03, -4.8063262e-03, -2.3442002e-03,  2.5577985e-03,\n",
       "       -4.1141521e-04,  3.9373124e-03, -3.6578628e-03, -1.8513150e-03,\n",
       "        1.6956716e-03, -3.4804724e-04,  2.8502347e-03,  7.0830225e-04,\n",
       "       -9.2814380e-04,  4.1841879e-03,  2.4764354e-03,  1.5086981e-03,\n",
       "        1.9099091e-03,  2.6693434e-04,  2.2070396e-03,  3.0539993e-03,\n",
       "        4.0080254e-03, -1.6825700e-03,  2.3504747e-03,  2.8719869e-04,\n",
       "        4.6842024e-03,  4.8029842e-03, -3.4003523e-03, -1.8557182e-03,\n",
       "        4.6253442e-03, -3.9783795e-03,  1.2922322e-03,  8.7766489e-04,\n",
       "       -9.3204377e-04, -1.7861970e-03,  3.5240257e-03, -1.3430151e-03,\n",
       "       -1.4741989e-03,  3.9280919e-04, -6.5410612e-05,  1.2919839e-03,\n",
       "        3.5365822e-03,  1.4185713e-03, -7.8086305e-04,  7.1876240e-04,\n",
       "        7.7557232e-04,  2.1682689e-03, -4.4345530e-03, -2.5041515e-03,\n",
       "       -3.2331949e-04, -2.8415877e-04, -3.0587460e-03, -2.0675729e-04,\n",
       "       -2.6766313e-03,  4.8783482e-03, -3.2252087e-03, -1.2163349e-03,\n",
       "        4.9568145e-05,  2.1862844e-03,  5.1524308e-05, -2.6847117e-03,\n",
       "        4.6728821e-03,  2.4345990e-03,  3.5981275e-03,  1.0070815e-03,\n",
       "       -4.4439724e-03,  2.3885166e-04, -4.1227089e-03, -1.9492019e-03,\n",
       "       -2.7348199e-03,  2.5130820e-03, -1.6319448e-03, -2.4636737e-03,\n",
       "        1.2810626e-03,  1.0916011e-03, -2.4355324e-03, -1.0124409e-03,\n",
       "       -3.9778375e-03, -2.9673479e-03, -3.6581128e-03,  8.3140988e-04],\n",
       "      dtype=float32)"
      ]
     },
     "execution_count": 49,
     "metadata": {},
     "output_type": "execute_result"
    }
   ],
   "source": [
    "d2v.docvecs[0]"
   ]
  },
  {
   "cell_type": "code",
   "execution_count": 50,
   "metadata": {},
   "outputs": [
    {
     "name": "stdout",
     "output_type": "stream",
     "text": [
      "2019-03-27 23:03:45 pass:0\n",
      "[[-3.85557190e-02 -8.46272334e-03  1.96341251e-04 ... -1.13345841e-02\n",
      "  -9.68073588e-03  2.52367482e-02]\n",
      " [-5.27048185e-02 -1.61880162e-02 -1.98509591e-03 ... -1.44782839e-02\n",
      "  -7.59404013e-03  4.00424898e-02]\n",
      " [-2.13096350e-01 -8.65359381e-02 -2.29048785e-02 ... -5.07480279e-02\n",
      "  -3.86174396e-02  1.61995247e-01]\n",
      " ...\n",
      " [-9.26070586e-02 -3.53039280e-02 -1.32279582e-02 ... -2.16711760e-02\n",
      "  -1.63207408e-02  7.14665577e-02]\n",
      " [-7.10530430e-02 -3.19509171e-02 -1.15216728e-02 ... -1.60237737e-02\n",
      "  -1.32704275e-02  5.57281598e-02]\n",
      " [-1.18597209e-01 -4.48979475e-02 -1.69800799e-02 ... -2.51497049e-02\n",
      "  -2.07729246e-02  7.74738565e-02]]\n",
      "2019-03-27 23:03:45 pass:1\n",
      "[[-0.1998142  -0.06873518 -0.01969432 ... -0.05114918 -0.03761733\n",
      "   0.14026251]\n",
      " [-0.2182668  -0.0785698  -0.0220455  ... -0.0551683  -0.03627793\n",
      "   0.15860102]\n",
      " [-0.43662584 -0.17747687 -0.04565908 ... -0.10452291 -0.08024776\n",
      "   0.33109665]\n",
      " ...\n",
      " [-0.20471248 -0.07863896 -0.02498344 ... -0.04910282 -0.03732663\n",
      "   0.153848  ]\n",
      " [-0.18872163 -0.07691538 -0.02609532 ... -0.04494967 -0.03397466\n",
      "   0.14001222]\n",
      " [-0.26408038 -0.10068262 -0.03391106 ... -0.06044905 -0.04680763\n",
      "   0.18178993]]\n",
      "2019-03-27 23:03:45 pass:2\n"
     ]
    },
    {
     "name": "stderr",
     "output_type": "stream",
     "text": [
      "/anaconda3/lib/python3.7/site-packages/ipykernel_launcher.py:4: DeprecationWarning: Call to deprecated `iter` (Attribute will be removed in 4.0.0, use self.epochs instead).\n",
      "  after removing the cwd from sys.path.\n"
     ]
    },
    {
     "name": "stdout",
     "output_type": "stream",
     "text": [
      "[[-0.25728846 -0.0940193  -0.01923986 ... -0.06527761 -0.05291924\n",
      "   0.1867334 ]\n",
      " [-0.26058567 -0.09651265 -0.02051012 ... -0.06435524 -0.04660822\n",
      "   0.19562016]\n",
      " [-0.3939886  -0.19605665 -0.00976167 ... -0.08911844 -0.0932163\n",
      "   0.33961254]\n",
      " ...\n",
      " [-0.26035443 -0.10178475 -0.03227943 ... -0.06171424 -0.04675297\n",
      "   0.19255355]\n",
      " [-0.234942   -0.09789231 -0.02791506 ... -0.05593792 -0.04495408\n",
      "   0.17551324]\n",
      " [-0.29766738 -0.11622349 -0.03623066 ... -0.06688774 -0.05428843\n",
      "   0.20582312]]\n",
      "2019-03-27 23:03:45 pass:3\n",
      "[[-0.2844492  -0.10423835 -0.02791001 ... -0.0710094  -0.05436635\n",
      "   0.19804083]\n",
      " [-0.282962   -0.10725115 -0.02751986 ... -0.06901077 -0.0459137\n",
      "   0.20509048]\n",
      " [-0.31639993 -0.24059844  0.05870079 ... -0.05748492 -0.11966967\n",
      "   0.36508408]\n",
      " ...\n",
      " [-0.26107803 -0.10141445 -0.03404872 ... -0.05878997 -0.04409301\n",
      "   0.19124246]\n",
      " [-0.26508507 -0.11458714 -0.03917571 ... -0.06215733 -0.04624797\n",
      "   0.18460791]\n",
      " [-0.31682894 -0.11960971 -0.04585588 ... -0.0686121  -0.0510013\n",
      "   0.21025743]]\n",
      "2019-03-27 23:03:45 pass:4\n",
      "[[-0.29377514 -0.10798781 -0.0319026  ... -0.07600085 -0.05278914\n",
      "   0.19590311]\n",
      " [-0.29725653 -0.11698941 -0.0245709  ... -0.07389409 -0.04903609\n",
      "   0.21881165]\n",
      " [-0.17764704 -0.33307132  0.15670562 ...  0.01152297 -0.13976558\n",
      "   0.41980112]\n",
      " ...\n",
      " [-0.2734591  -0.10893843 -0.03230996 ... -0.05822925 -0.0463489\n",
      "   0.20218255]\n",
      " [-0.2808057  -0.1277608  -0.04887906 ... -0.06540255 -0.04458423\n",
      "   0.18168312]\n",
      " [-0.3310239  -0.12095968 -0.04431238 ... -0.06941839 -0.05037552\n",
      "   0.21572076]]\n"
     ]
    }
   ],
   "source": [
    "for i in range(5):\n",
    "    LOGGER.log('pass:' + str(i))\n",
    "    doc_list = Doc_list(config.feat_d2v)\n",
    "    d2v.train(doc_list,total_examples=d2v.corpus_count,epochs=d2v.iter)\n",
    "    X_d2v = np.array([d2v.docvecs[i] for i in range(rows)])\n",
    "    print(X_d2v)"
   ]
  },
  {
   "cell_type": "code",
   "execution_count": null,
   "metadata": {},
   "outputs": [],
   "source": []
  }
 ],
 "metadata": {
  "kernelspec": {
   "display_name": "Python 3",
   "language": "python",
   "name": "python3"
  },
  "language_info": {
   "codemirror_mode": {
    "name": "ipython",
    "version": 3
   },
   "file_extension": ".py",
   "mimetype": "text/x-python",
   "name": "python",
   "nbconvert_exporter": "python",
   "pygments_lexer": "ipython3",
   "version": "3.7.2"
  }
 },
 "nbformat": 4,
 "nbformat_minor": 2
}
