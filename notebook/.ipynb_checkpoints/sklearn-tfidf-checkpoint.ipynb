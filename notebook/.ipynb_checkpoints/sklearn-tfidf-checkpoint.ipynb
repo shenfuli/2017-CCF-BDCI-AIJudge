{
 "cells": [
  {
   "cell_type": "markdown",
   "metadata": {},
   "source": [
    "## one-hot 和 TF-IDF\n",
    "提取文本特征的方法，本文主要介绍两种方法的思想以及优缺点。\n",
    "\n",
    "one hot在特征提取上属于词袋模型（bag of words）。关于如何使用one-hot抽取文本特征向量我们通过以下例子来说明。假设我们的语料库中有三段话：\n",
    "\n",
    "　　　　我爱中国\n",
    "\n",
    "　　　　爸爸妈妈爱我\n",
    "\n",
    "　　　　爸爸妈妈爱中国\n",
    "\n",
    "我们首先对预料库分离并获取其中所有的词，然后对每个此进行编号：\n",
    "\n",
    "　　　　1 我； 2 爱； 3 爸爸； 4 妈妈；5 中国"
   ]
  },
  {
   "cell_type": "markdown",
   "metadata": {},
   "source": [
    "因此我们得到了最终的特征向量为\n",
    "\n",
    "　　　　我爱中国 　->　　　1，1，0，0，1\n",
    "\n",
    "　　　　爸爸妈妈爱我　　->　　1，1，1，1，0\n",
    "\n",
    "　　　　爸爸妈妈爱中国　　->　　0，1，1，1，1"
   ]
  },
  {
   "cell_type": "markdown",
   "metadata": {},
   "source": [
    "## One-HOT优缺点分析\n",
    "优点：一是解决了分类器不好处理离散数据的问题，二是在一定程度上也起到了扩充特征的作用（上面样本特征数从3扩展到了9）\n",
    "\n",
    "缺点：在文本特征表示上有些缺点就非常突出了。首先，它是一个词袋模型，不考虑词与词之间的顺序（文本中词的顺序信息也是很重要的）；其次，它假设词与词相互独立（在大多数情况下，词与词是相互影响的）；最后，它得到的特征是离散稀疏的。"
   ]
  },
  {
   "cell_type": "code",
   "execution_count": 4,
   "metadata": {},
   "outputs": [
    {
     "name": "stdout",
     "output_type": "stream",
     "text": [
      "[[1. 0. 0. 1. 0. 0. 0. 0. 1.]]\n"
     ]
    }
   ],
   "source": [
    "from sklearn import preprocessing  \n",
    "      \n",
    "enc = preprocessing.OneHotEncoder()  # 创建对象\n",
    "enc.fit([[0,0,3],\n",
    "         [1,1,0],\n",
    "         [0,2,1],\n",
    "         [1,0,2]])   # 拟合\n",
    "array = enc.transform([[0,1,3]]).toarray()  # 转化\n",
    "print(array)"
   ]
  },
  {
   "cell_type": "markdown",
   "metadata": {},
   "source": [
    "## IF-IDF\n",
    "是信息检索（IR）中最常用的一种文本表示法。算法的思想也很简单，就是统计每个词出现的词频（TF），然后再为其附上一个权值参数（IDF）。举个例子：\n",
    "\n",
    "　　现在假设我们要统计一篇文档中的前10个关键词，应该怎么下手？首先想到的是统计一下文档中每个词出现的频率（TF），词频越高，这个词就越重要。但是统计完你可能会发现你得到的关键词基本都是“的”、“是”、“为”这样没有实际意义的词（停用词），这个问题怎么解决呢？你可能会想到为每个词都加一个权重，像这种”停用词“就加一个很小的权重（甚至是置为0），这个权重就是IDF。"
   ]
  },
  {
   "cell_type": "markdown",
   "metadata": {},
   "source": [
    "TF-IDF的值与该词在文章中出现的频率成正比，与该词在整个语料库中出现的频率成反比，因此可以很好的实现提取文章中关键词的目的。"
   ]
  },
  {
   "cell_type": "markdown",
   "metadata": {},
   "source": [
    "优缺点分析 <br>\n",
    "优点：简单快速，结果比较符合实际\n",
    "\n",
    "缺点：单纯考虑词频，忽略了词与词的位置信息以及词与词之间的相互关系。"
   ]
  },
  {
   "cell_type": "code",
   "execution_count": 7,
   "metadata": {},
   "outputs": [
    {
     "name": "stdout",
     "output_type": "stream",
     "text": [
      "[[0.         0.4736296  0.62276601 0.         0.         0.\n",
      "  0.62276601]\n",
      " [0.62276601 0.         0.         0.4736296  0.62276601 0.\n",
      "  0.        ]\n",
      " [0.         0.51785612 0.         0.51785612 0.         0.68091856\n",
      "  0.        ]]\n"
     ]
    }
   ],
   "source": [
    "from sklearn.feature_extraction.text import CountVectorizer  \n",
    "from sklearn.feature_extraction.text import TfidfTransformer\n",
    "\n",
    "tag_list = ['青年 吃货 唱歌',  \n",
    "            '少年 游戏 叛逆',  \n",
    "            '少年 吃货 足球'] \n",
    "\n",
    "vectorizer = CountVectorizer() #将文本中的词语转换为词频矩阵  \n",
    "X = vectorizer.fit_transform(tag_list) #计算个词语出现的次数\n",
    "\"\"\"\n",
    "word_dict = vectorizer.vocabulary_\n",
    "{'唱歌': 2, '吃货': 1, '青年': 6, '足球': 5, '叛逆': 0, '少年': 3, '游戏': 4}\n",
    "\"\"\"\n",
    "\n",
    "transformer = TfidfTransformer()  \n",
    "tfidf = transformer.fit_transform(X)  #将词频矩阵X统计成TF-IDF值  \n",
    "print(tfidf.toarray())"
   ]
  },
  {
   "cell_type": "code",
   "execution_count": 8,
   "metadata": {},
   "outputs": [
    {
     "data": {
      "text/plain": [
       "{'青年': 6, '吃货': 1, '唱歌': 2, '少年': 3, '游戏': 4, '叛逆': 0, '足球': 5}"
      ]
     },
     "execution_count": 8,
     "metadata": {},
     "output_type": "execute_result"
    }
   ],
   "source": [
    "vectorizer.vocabulary_"
   ]
  },
  {
   "cell_type": "code",
   "execution_count": 10,
   "metadata": {},
   "outputs": [
    {
     "data": {
      "text/plain": [
       "<bound method _cs_matrix.toarray of <3x7 sparse matrix of type '<class 'numpy.int64'>'\n",
       "\twith 9 stored elements in Compressed Sparse Row format>>"
      ]
     },
     "execution_count": 10,
     "metadata": {},
     "output_type": "execute_result"
    }
   ],
   "source": []
  },
  {
   "cell_type": "code",
   "execution_count": null,
   "metadata": {},
   "outputs": [],
   "source": []
  }
 ],
 "metadata": {
  "kernelspec": {
   "display_name": "Python 3",
   "language": "python",
   "name": "python3"
  },
  "language_info": {
   "codemirror_mode": {
    "name": "ipython",
    "version": 3
   },
   "file_extension": ".py",
   "mimetype": "text/x-python",
   "name": "python",
   "nbconvert_exporter": "python",
   "pygments_lexer": "ipython3",
   "version": "3.7.2"
  }
 },
 "nbformat": 4,
 "nbformat_minor": 2
}
