{
 "cells": [
  {
   "cell_type": "markdown",
   "metadata": {},
   "source": [
    "## 加载项目"
   ]
  },
  {
   "cell_type": "code",
   "execution_count": 1,
   "metadata": {},
   "outputs": [],
   "source": [
    "import sys\n",
    "sys.path.append(\"/Users/zhengwenjie/AI/work/ML_3/2017-CCF-BDCI-AIJudge\")"
   ]
  },
  {
   "cell_type": "markdown",
   "metadata": {},
   "source": [
    "## 导入库函数"
   ]
  },
  {
   "cell_type": "code",
   "execution_count": 2,
   "metadata": {},
   "outputs": [],
   "source": [
    "import codecs\n",
    "import jieba\n",
    "import jieba.analyse\n",
    "import jieba.posseg\n",
    "import pandas as pd\n",
    "from utils import LOGGER\n",
    "from config.db_config import Config"
   ]
  },
  {
   "cell_type": "markdown",
   "metadata": {},
   "source": [
    "## 定义函数"
   ]
  },
  {
   "cell_type": "code",
   "execution_count": 3,
   "metadata": {},
   "outputs": [],
   "source": [
    "def split_word(text, stopwords):\n",
    "    '''\n",
    "    定义分词函数\n",
    "    :param text:\n",
    "    :param stopwords:\n",
    "    :return:\n",
    "    '''\n",
    "    word_list = jieba.cut(text)\n",
    "    seg = [word.strip() for word in word_list if len(word) > 1 and word not in stopwords]\n",
    "    result = \" \".join(seg)\n",
    "    return result\n",
    "def load_stop_words(stop_words_path):\n",
    "    '''\n",
    "    加载停用词\n",
    "    :param stop_words_path:\n",
    "    :return:\n",
    "    '''\n",
    "    stopwords = {}\n",
    "    for line in codecs.open(stop_words_path, 'r', 'utf-8'):\n",
    "        stopwords[line.rstrip()] = 1\n",
    "    return stopwords\n",
    "\n",
    "def load_data(data_path, stopwords):\n",
    "    '''\n",
    "    加载训练／测试数据\n",
    "    :param data_path:\n",
    "    :param stopwords:\n",
    "    :return:  返回  id  content penalty  laws 的数据结构，其中： test数据仅 id content 格式的结构\n",
    "    '''\n",
    "    data_list = []\n",
    "    for i, line in enumerate(open(data_path)):\n",
    "        if i % 1000 == 1:\n",
    "            LOGGER.log('iter = %d' % i)\n",
    "        segs = line.split('\\t')\n",
    "        row = {}\n",
    "        row['id'] = segs[0]\n",
    "        row['content'] = split_word(segs[1].strip(), stopwords)\n",
    "        row['penalty'] = segs[2] if len(segs) >= 3 else \"\"\n",
    "        row['laws'] = segs[3].strip() if len(segs) >= 4 else \"\"\n",
    "        data_list.append(row)\n",
    "    return data_list"
   ]
  },
  {
   "cell_type": "markdown",
   "metadata": {},
   "source": [
    "## 主函数调用"
   ]
  },
  {
   "cell_type": "code",
   "execution_count": 4,
   "metadata": {},
   "outputs": [
    {
     "name": "stderr",
     "output_type": "stream",
     "text": [
      "Building prefix dict from the default dictionary ...\n",
      "Loading model from cache /var/folders/y4/m077y_dj1pd7blyvjrx9y30w0000gn/T/jieba.cache\n",
      "Loading model cost 0.813 seconds.\n",
      "Prefix dict has been built succesfully.\n"
     ]
    },
    {
     "name": "stdout",
     "output_type": "stream",
     "text": [
      "2019-03-23 12:35:07 iter = 1\n",
      "2019-03-23 12:35:07 iter = 1\n"
     ]
    }
   ],
   "source": [
    "config = Config()\n",
    "stopwords = load_stop_words(config.stop_words_path)\n",
    "train_data_list = load_data(config.train_data_path, stopwords)\n",
    "test_data_list = load_data(config.test_data_path,stopwords)\n",
    "train_data_df = pd.DataFrame(train_data_list, columns=[\"id\", \"content\", \"laws\", \"penalty\"])\n",
    "test_data_df = pd.DataFrame(test_data_list,columns=[\"id\", \"content\", \"laws\", \"penalty\"])"
   ]
  },
  {
   "cell_type": "code",
   "execution_count": 5,
   "metadata": {},
   "outputs": [
    {
     "data": {
      "text/html": [
       "<div>\n",
       "<style scoped>\n",
       "    .dataframe tbody tr th:only-of-type {\n",
       "        vertical-align: middle;\n",
       "    }\n",
       "\n",
       "    .dataframe tbody tr th {\n",
       "        vertical-align: top;\n",
       "    }\n",
       "\n",
       "    .dataframe thead th {\n",
       "        text-align: right;\n",
       "    }\n",
       "</style>\n",
       "<table border=\"1\" class=\"dataframe\">\n",
       "  <thead>\n",
       "    <tr style=\"text-align: right;\">\n",
       "      <th></th>\n",
       "      <th>id</th>\n",
       "      <th>content</th>\n",
       "      <th>laws</th>\n",
       "      <th>penalty</th>\n",
       "    </tr>\n",
       "  </thead>\n",
       "  <tbody>\n",
       "    <tr>\n",
       "      <th>0</th>\n",
       "      <td>16</td>\n",
       "      <td>公诉 机关 霍邱县 人民检察院 被告人 许某 1975 日生 2012 因涉嫌 危险 驾驶 ...</td>\n",
       "      <td>133,72,73</td>\n",
       "      <td>3</td>\n",
       "    </tr>\n",
       "    <tr>\n",
       "      <th>1</th>\n",
       "      <td>32</td>\n",
       "      <td>公诉 机关 海口市 龙华区 人民检察院 被告人 王某 海口市 龙华区 人民检察院 海龙 检公...</td>\n",
       "      <td>347,67,52,64</td>\n",
       "      <td>1</td>\n",
       "    </tr>\n",
       "    <tr>\n",
       "      <th>2</th>\n",
       "      <td>41</td>\n",
       "      <td>公诉 机关 广东省 潮州市 人民检察院 被告人 覃学彬 1980 出生 广西壮族自治区 大新...</td>\n",
       "      <td>263,25,52,53,55,56</td>\n",
       "      <td>5</td>\n",
       "    </tr>\n",
       "  </tbody>\n",
       "</table>\n",
       "</div>"
      ],
      "text/plain": [
       "   id                                            content                laws  \\\n",
       "0  16  公诉 机关 霍邱县 人民检察院 被告人 许某 1975 日生 2012 因涉嫌 危险 驾驶 ...           133,72,73   \n",
       "1  32  公诉 机关 海口市 龙华区 人民检察院 被告人 王某 海口市 龙华区 人民检察院 海龙 检公...        347,67,52,64   \n",
       "2  41  公诉 机关 广东省 潮州市 人民检察院 被告人 覃学彬 1980 出生 广西壮族自治区 大新...  263,25,52,53,55,56   \n",
       "\n",
       "  penalty  \n",
       "0       3  \n",
       "1       1  \n",
       "2       5  "
      ]
     },
     "execution_count": 5,
     "metadata": {},
     "output_type": "execute_result"
    }
   ],
   "source": [
    "train_data_df.head()"
   ]
  },
  {
   "cell_type": "code",
   "execution_count": 6,
   "metadata": {},
   "outputs": [
    {
     "data": {
      "text/html": [
       "<div>\n",
       "<style scoped>\n",
       "    .dataframe tbody tr th:only-of-type {\n",
       "        vertical-align: middle;\n",
       "    }\n",
       "\n",
       "    .dataframe tbody tr th {\n",
       "        vertical-align: top;\n",
       "    }\n",
       "\n",
       "    .dataframe thead th {\n",
       "        text-align: right;\n",
       "    }\n",
       "</style>\n",
       "<table border=\"1\" class=\"dataframe\">\n",
       "  <thead>\n",
       "    <tr style=\"text-align: right;\">\n",
       "      <th></th>\n",
       "      <th>id</th>\n",
       "      <th>content</th>\n",
       "      <th>laws</th>\n",
       "      <th>penalty</th>\n",
       "    </tr>\n",
       "  </thead>\n",
       "  <tbody>\n",
       "    <tr>\n",
       "      <th>0</th>\n",
       "      <td>19</td>\n",
       "      <td>公诉 机关 仙桃市 人民检察院 被告人 王某 1971 出生 汉族 湖北省 宜昌市 高中文化...</td>\n",
       "      <td></td>\n",
       "      <td></td>\n",
       "    </tr>\n",
       "    <tr>\n",
       "      <th>1</th>\n",
       "      <td>18</td>\n",
       "      <td>公诉 机关 仙桃市 人民检察院 被告人 肖某 1988 出生 汉族 湖北省 仙桃市 日因 盗...</td>\n",
       "      <td></td>\n",
       "      <td></td>\n",
       "    </tr>\n",
       "    <tr>\n",
       "      <th>2</th>\n",
       "      <td>26</td>\n",
       "      <td>公诉 机关 潮州市 潮安 人民检察院 上诉人 原审 被告人 杨木 1972 出生 广东省 潮...</td>\n",
       "      <td></td>\n",
       "      <td></td>\n",
       "    </tr>\n",
       "  </tbody>\n",
       "</table>\n",
       "</div>"
      ],
      "text/plain": [
       "   id                                            content laws penalty\n",
       "0  19  公诉 机关 仙桃市 人民检察院 被告人 王某 1971 出生 汉族 湖北省 宜昌市 高中文化...             \n",
       "1  18  公诉 机关 仙桃市 人民检察院 被告人 肖某 1988 出生 汉族 湖北省 仙桃市 日因 盗...             \n",
       "2  26  公诉 机关 潮州市 潮安 人民检察院 上诉人 原审 被告人 杨木 1972 出生 广东省 潮...             "
      ]
     },
     "execution_count": 6,
     "metadata": {},
     "output_type": "execute_result"
    }
   ],
   "source": [
    "test_data_df.head()"
   ]
  },
  {
   "cell_type": "code",
   "execution_count": 7,
   "metadata": {},
   "outputs": [
    {
     "data": {
      "text/html": [
       "<div>\n",
       "<style scoped>\n",
       "    .dataframe tbody tr th:only-of-type {\n",
       "        vertical-align: middle;\n",
       "    }\n",
       "\n",
       "    .dataframe tbody tr th {\n",
       "        vertical-align: top;\n",
       "    }\n",
       "\n",
       "    .dataframe thead th {\n",
       "        text-align: right;\n",
       "    }\n",
       "</style>\n",
       "<table border=\"1\" class=\"dataframe\">\n",
       "  <thead>\n",
       "    <tr style=\"text-align: right;\">\n",
       "      <th></th>\n",
       "      <th>id</th>\n",
       "      <th>content</th>\n",
       "      <th>laws</th>\n",
       "      <th>penalty</th>\n",
       "    </tr>\n",
       "  </thead>\n",
       "  <tbody>\n",
       "    <tr>\n",
       "      <th>0</th>\n",
       "      <td>16</td>\n",
       "      <td>公诉 机关 霍邱县 人民检察院 被告人 许某 1975 日生 2012 因涉嫌 危险 驾驶 ...</td>\n",
       "      <td>133,72,73</td>\n",
       "      <td>3</td>\n",
       "    </tr>\n",
       "    <tr>\n",
       "      <th>1</th>\n",
       "      <td>32</td>\n",
       "      <td>公诉 机关 海口市 龙华区 人民检察院 被告人 王某 海口市 龙华区 人民检察院 海龙 检公...</td>\n",
       "      <td>347,67,52,64</td>\n",
       "      <td>1</td>\n",
       "    </tr>\n",
       "    <tr>\n",
       "      <th>2</th>\n",
       "      <td>41</td>\n",
       "      <td>公诉 机关 广东省 潮州市 人民检察院 被告人 覃学彬 1980 出生 广西壮族自治区 大新...</td>\n",
       "      <td>263,25,52,53,55,56</td>\n",
       "      <td>5</td>\n",
       "    </tr>\n",
       "    <tr>\n",
       "      <th>0</th>\n",
       "      <td>19</td>\n",
       "      <td>公诉 机关 仙桃市 人民检察院 被告人 王某 1971 出生 汉族 湖北省 宜昌市 高中文化...</td>\n",
       "      <td></td>\n",
       "      <td></td>\n",
       "    </tr>\n",
       "    <tr>\n",
       "      <th>1</th>\n",
       "      <td>18</td>\n",
       "      <td>公诉 机关 仙桃市 人民检察院 被告人 肖某 1988 出生 汉族 湖北省 仙桃市 日因 盗...</td>\n",
       "      <td></td>\n",
       "      <td></td>\n",
       "    </tr>\n",
       "  </tbody>\n",
       "</table>\n",
       "</div>"
      ],
      "text/plain": [
       "   id                                            content                laws  \\\n",
       "0  16  公诉 机关 霍邱县 人民检察院 被告人 许某 1975 日生 2012 因涉嫌 危险 驾驶 ...           133,72,73   \n",
       "1  32  公诉 机关 海口市 龙华区 人民检察院 被告人 王某 海口市 龙华区 人民检察院 海龙 检公...        347,67,52,64   \n",
       "2  41  公诉 机关 广东省 潮州市 人民检察院 被告人 覃学彬 1980 出生 广西壮族自治区 大新...  263,25,52,53,55,56   \n",
       "0  19  公诉 机关 仙桃市 人民检察院 被告人 王某 1971 出生 汉族 湖北省 宜昌市 高中文化...                       \n",
       "1  18  公诉 机关 仙桃市 人民检察院 被告人 肖某 1988 出生 汉族 湖北省 仙桃市 日因 盗...                       \n",
       "\n",
       "  penalty  \n",
       "0       3  \n",
       "1       1  \n",
       "2       5  \n",
       "0          \n",
       "1          "
      ]
     },
     "execution_count": 7,
     "metadata": {},
     "output_type": "execute_result"
    }
   ],
   "source": [
    "data_df = pd.concat([train_data_df,test_data_df])\n",
    "data_df.head()"
   ]
  },
  {
   "cell_type": "code",
   "execution_count": 8,
   "metadata": {},
   "outputs": [
    {
     "data": {
      "text/plain": [
       "'/Users/zhengwenjie/AI/work/ML_3/2017-CCF-BDCI-AIJudge/data/input/stopwords.txt'"
      ]
     },
     "execution_count": 8,
     "metadata": {},
     "output_type": "execute_result"
    }
   ],
   "source": [
    "config.stop_words_path"
   ]
  },
  {
   "cell_type": "code",
   "execution_count": 9,
   "metadata": {},
   "outputs": [
    {
     "data": {
      "text/plain": [
       "'/Users/zhengwenjie/AI/work/ML_3/2017-CCF-BDCI-AIJudge/data/output/corpus/data.csv'"
      ]
     },
     "execution_count": 9,
     "metadata": {},
     "output_type": "execute_result"
    }
   ],
   "source": [
    "config.data_csv_path"
   ]
  },
  {
   "cell_type": "code",
   "execution_count": 16,
   "metadata": {},
   "outputs": [],
   "source": [
    "data_df.to_csv(config.data_csv_path,index=None) # 不保存索引列"
   ]
  },
  {
   "cell_type": "code",
   "execution_count": 19,
   "metadata": {},
   "outputs": [
    {
     "name": "stdout",
     "output_type": "stream",
     "text": [
      "train_data rows=3,test_data rows=3\n"
     ]
    }
   ],
   "source": [
    "print(\"train_data rows={},test_data rows={}\".format(train_data_df.shape[0],test_data_df.shape[0]))"
   ]
  },
  {
   "cell_type": "code",
   "execution_count": null,
   "metadata": {},
   "outputs": [],
   "source": []
  }
 ],
 "metadata": {
  "kernelspec": {
   "display_name": "Python 3",
   "language": "python",
   "name": "python3"
  },
  "language_info": {
   "codemirror_mode": {
    "name": "ipython",
    "version": 3
   },
   "file_extension": ".py",
   "mimetype": "text/x-python",
   "name": "python",
   "nbconvert_exporter": "python",
   "pygments_lexer": "ipython3",
   "version": "3.7.2"
  }
 },
 "nbformat": 4,
 "nbformat_minor": 2
}
